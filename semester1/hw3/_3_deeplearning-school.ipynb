{
 "cells": [
  {
   "cell_type": "code",
   "execution_count": 141,
   "metadata": {
    "_cell_guid": "b1076dfc-b9ad-4769-8c92-a6c4dae69d19",
    "_uuid": "8f2839f25d086af736a60e9eeb907d3b93b6e0e5"
   },
   "outputs": [],
   "source": [
    "import numpy as np # linear algebra\n",
    "import pandas as pd # data processing, CSV file I/O (e.g. pd.read_csv)\n",
    "from sklearn.model_selection import train_test_split\n",
    "from sklearn.ensemble import RandomForestClassifier\n",
    "import seaborn as sns\n",
    "import matplotlib.pyplot as plt\n",
    "from sklearn.metrics import roc_auc_score, plot_roc_curve"
   ]
  },
  {
   "cell_type": "markdown",
   "metadata": {},
   "source": [
    "## Data reading and preprocessing"
   ]
  },
  {
   "cell_type": "code",
   "execution_count": 142,
   "metadata": {
    "_cell_guid": "79c7e3d0-c299-4dcb-8224-4455121ee9b0",
    "_uuid": "d629ff2d2480ee46fbb7e2d37f6b5fab8052498a"
   },
   "outputs": [
    {
     "name": "stdout",
     "output_type": "stream",
     "text": [
      "<class 'pandas.core.frame.DataFrame'>\n",
      "RangeIndex: 5282 entries, 0 to 5281\n",
      "Data columns (total 20 columns):\n",
      " #   Column                    Non-Null Count  Dtype  \n",
      "---  ------                    --------------  -----  \n",
      " 0   ClientPeriod              5282 non-null   int64  \n",
      " 1   MonthlySpending           5282 non-null   float64\n",
      " 2   TotalSpent                5282 non-null   object \n",
      " 3   Sex                       5282 non-null   object \n",
      " 4   IsSeniorCitizen           5282 non-null   int64  \n",
      " 5   HasPartner                5282 non-null   object \n",
      " 6   HasChild                  5282 non-null   object \n",
      " 7   HasPhoneService           5282 non-null   object \n",
      " 8   HasMultiplePhoneNumbers   5282 non-null   object \n",
      " 9   HasInternetService        5282 non-null   object \n",
      " 10  HasOnlineSecurityService  5282 non-null   object \n",
      " 11  HasOnlineBackup           5282 non-null   object \n",
      " 12  HasDeviceProtection       5282 non-null   object \n",
      " 13  HasTechSupportAccess      5282 non-null   object \n",
      " 14  HasOnlineTV               5282 non-null   object \n",
      " 15  HasMovieSubscription      5282 non-null   object \n",
      " 16  HasContractPhone          5282 non-null   object \n",
      " 17  IsBillingPaperless        5282 non-null   object \n",
      " 18  PaymentMethod             5282 non-null   object \n",
      " 19  Churn                     5282 non-null   int64  \n",
      "dtypes: float64(1), int64(3), object(16)\n",
      "memory usage: 825.4+ KB\n"
     ]
    }
   ],
   "source": [
    "# is there any Nan values\n",
    "train = pd.read_csv('../input/advanced-dls-fall-2020/train.csv')\n",
    "test = pd.read_csv('../input/advanced-dls-fall-2020/test.csv')\n",
    "train.info()"
   ]
  },
  {
   "cell_type": "code",
   "execution_count": 143,
   "metadata": {},
   "outputs": [
    {
     "name": "stdout",
     "output_type": "stream",
     "text": [
      "<class 'pandas.core.frame.DataFrame'>\n",
      "RangeIndex: 1761 entries, 0 to 1760\n",
      "Data columns (total 19 columns):\n",
      " #   Column                    Non-Null Count  Dtype  \n",
      "---  ------                    --------------  -----  \n",
      " 0   ClientPeriod              1761 non-null   int64  \n",
      " 1   MonthlySpending           1761 non-null   float64\n",
      " 2   TotalSpent                1761 non-null   object \n",
      " 3   Sex                       1761 non-null   object \n",
      " 4   IsSeniorCitizen           1761 non-null   int64  \n",
      " 5   HasPartner                1761 non-null   object \n",
      " 6   HasChild                  1761 non-null   object \n",
      " 7   HasPhoneService           1761 non-null   object \n",
      " 8   HasMultiplePhoneNumbers   1761 non-null   object \n",
      " 9   HasInternetService        1761 non-null   object \n",
      " 10  HasOnlineSecurityService  1761 non-null   object \n",
      " 11  HasOnlineBackup           1761 non-null   object \n",
      " 12  HasDeviceProtection       1761 non-null   object \n",
      " 13  HasTechSupportAccess      1761 non-null   object \n",
      " 14  HasOnlineTV               1761 non-null   object \n",
      " 15  HasMovieSubscription      1761 non-null   object \n",
      " 16  HasContractPhone          1761 non-null   object \n",
      " 17  IsBillingPaperless        1761 non-null   object \n",
      " 18  PaymentMethod             1761 non-null   object \n",
      "dtypes: float64(1), int64(2), object(16)\n",
      "memory usage: 261.5+ KB\n"
     ]
    }
   ],
   "source": [
    "test.info()"
   ]
  },
  {
   "cell_type": "code",
   "execution_count": 144,
   "metadata": {},
   "outputs": [],
   "source": [
    "# finding binary categorical features\n",
    "is_binary = []\n",
    "for col in train[categorical].columns:\n",
    "    if len(train[col].value_counts()) == 2:\n",
    "        is_binary.append(col)"
   ]
  },
  {
   "cell_type": "code",
   "execution_count": 145,
   "metadata": {},
   "outputs": [
    {
     "data": {
      "text/plain": [
       "['Sex', 'HasPartner', 'HasChild', 'HasPhoneService', 'IsBillingPaperless']"
      ]
     },
     "execution_count": 145,
     "metadata": {},
     "output_type": "execute_result"
    }
   ],
   "source": [
    "is_binary"
   ]
  },
  {
   "cell_type": "code",
   "execution_count": 146,
   "metadata": {},
   "outputs": [
    {
     "data": {
      "text/plain": [
       "0    3898\n",
       "1    1384\n",
       "Name: Churn, dtype: int64"
      ]
     },
     "execution_count": 146,
     "metadata": {},
     "output_type": "execute_result"
    }
   ],
   "source": [
    "# value count for target \n",
    "train.Churn.value_counts()"
   ]
  },
  {
   "cell_type": "markdown",
   "metadata": {},
   "source": [
    "Классы не сбалансированы, требуется балансировка"
   ]
  },
  {
   "cell_type": "code",
   "execution_count": 147,
   "metadata": {},
   "outputs": [],
   "source": [
    "categorical = ['Sex','HasPartner', 'HasChild', 'HasPhoneService',\n",
    "       'HasMultiplePhoneNumbers', 'HasInternetService',\n",
    "       'HasOnlineSecurityService', 'HasOnlineBackup', 'HasDeviceProtection',\n",
    "       'HasTechSupportAccess', 'HasOnlineTV', 'HasMovieSubscription',\n",
    "       'HasContractPhone', 'IsBillingPaperless', 'PaymentMethod']\n",
    "numeric = [c for c in train.columns if c not in categorical]"
   ]
  },
  {
   "cell_type": "code",
   "execution_count": 148,
   "metadata": {},
   "outputs": [],
   "source": [
    "# removal of duplicate columns for binary features\n",
    "# train\n",
    "to_drop =['Sex_Male'] +  [c + '_No' for c in is_binary[1:]]\n",
    "encoded_categorical = pd.get_dummies(train[categorical])\n",
    "encoded_categorical.drop(columns = to_drop, inplace = True)"
   ]
  },
  {
   "cell_type": "code",
   "execution_count": 149,
   "metadata": {},
   "outputs": [],
   "source": [
    "# removal of duplicate columns for binary features\n",
    "# test\n",
    "test_encoded_categorical = pd.get_dummies(test[categorical])\n",
    "test_encoded_categorical.drop(columns = to_drop, inplace = True)"
   ]
  },
  {
   "cell_type": "code",
   "execution_count": 150,
   "metadata": {},
   "outputs": [
    {
     "name": "stdout",
     "output_type": "stream",
     "text": [
      "<class 'pandas.core.frame.DataFrame'>\n",
      "RangeIndex: 5282 entries, 0 to 5281\n",
      "Data columns (total 41 columns):\n",
      " #   Column                                        Non-Null Count  Dtype  \n",
      "---  ------                                        --------------  -----  \n",
      " 0   Sex_Female                                    5282 non-null   uint8  \n",
      " 1   HasPartner_Yes                                5282 non-null   uint8  \n",
      " 2   HasChild_Yes                                  5282 non-null   uint8  \n",
      " 3   HasPhoneService_Yes                           5282 non-null   uint8  \n",
      " 4   HasMultiplePhoneNumbers_No                    5282 non-null   uint8  \n",
      " 5   HasMultiplePhoneNumbers_No phone service      5282 non-null   uint8  \n",
      " 6   HasMultiplePhoneNumbers_Yes                   5282 non-null   uint8  \n",
      " 7   HasInternetService_DSL                        5282 non-null   uint8  \n",
      " 8   HasInternetService_Fiber optic                5282 non-null   uint8  \n",
      " 9   HasInternetService_No                         5282 non-null   uint8  \n",
      " 10  HasOnlineSecurityService_No                   5282 non-null   uint8  \n",
      " 11  HasOnlineSecurityService_No internet service  5282 non-null   uint8  \n",
      " 12  HasOnlineSecurityService_Yes                  5282 non-null   uint8  \n",
      " 13  HasOnlineBackup_No                            5282 non-null   uint8  \n",
      " 14  HasOnlineBackup_No internet service           5282 non-null   uint8  \n",
      " 15  HasOnlineBackup_Yes                           5282 non-null   uint8  \n",
      " 16  HasDeviceProtection_No                        5282 non-null   uint8  \n",
      " 17  HasDeviceProtection_No internet service       5282 non-null   uint8  \n",
      " 18  HasDeviceProtection_Yes                       5282 non-null   uint8  \n",
      " 19  HasTechSupportAccess_No                       5282 non-null   uint8  \n",
      " 20  HasTechSupportAccess_No internet service      5282 non-null   uint8  \n",
      " 21  HasTechSupportAccess_Yes                      5282 non-null   uint8  \n",
      " 22  HasOnlineTV_No                                5282 non-null   uint8  \n",
      " 23  HasOnlineTV_No internet service               5282 non-null   uint8  \n",
      " 24  HasOnlineTV_Yes                               5282 non-null   uint8  \n",
      " 25  HasMovieSubscription_No                       5282 non-null   uint8  \n",
      " 26  HasMovieSubscription_No internet service      5282 non-null   uint8  \n",
      " 27  HasMovieSubscription_Yes                      5282 non-null   uint8  \n",
      " 28  HasContractPhone_Month-to-month               5282 non-null   uint8  \n",
      " 29  HasContractPhone_One year                     5282 non-null   uint8  \n",
      " 30  HasContractPhone_Two year                     5282 non-null   uint8  \n",
      " 31  IsBillingPaperless_Yes                        5282 non-null   uint8  \n",
      " 32  PaymentMethod_Bank transfer (automatic)       5282 non-null   uint8  \n",
      " 33  PaymentMethod_Credit card (automatic)         5282 non-null   uint8  \n",
      " 34  PaymentMethod_Electronic check                5282 non-null   uint8  \n",
      " 35  PaymentMethod_Mailed check                    5282 non-null   uint8  \n",
      " 36  ClientPeriod                                  5282 non-null   int64  \n",
      " 37  MonthlySpending                               5282 non-null   float64\n",
      " 38  TotalSpent                                    5282 non-null   object \n",
      " 39  IsSeniorCitizen                               5282 non-null   int64  \n",
      " 40  Churn                                         5282 non-null   int64  \n",
      "dtypes: float64(1), int64(3), object(1), uint8(36)\n",
      "memory usage: 392.1+ KB\n"
     ]
    }
   ],
   "source": [
    "train_preprocessed = encoded_categorical.merge(train[numeric],left_index=True, right_index=True)\n",
    "train_preprocessed.info()"
   ]
  },
  {
   "cell_type": "code",
   "execution_count": 151,
   "metadata": {},
   "outputs": [
    {
     "name": "stdout",
     "output_type": "stream",
     "text": [
      "<class 'pandas.core.frame.DataFrame'>\n",
      "Int64Index: 1761 entries, 0 to 1760\n",
      "Data columns (total 40 columns):\n",
      " #   Column                                        Non-Null Count  Dtype  \n",
      "---  ------                                        --------------  -----  \n",
      " 0   Sex_Female                                    1761 non-null   uint8  \n",
      " 1   HasPartner_Yes                                1761 non-null   uint8  \n",
      " 2   HasChild_Yes                                  1761 non-null   uint8  \n",
      " 3   HasPhoneService_Yes                           1761 non-null   uint8  \n",
      " 4   HasMultiplePhoneNumbers_No                    1761 non-null   uint8  \n",
      " 5   HasMultiplePhoneNumbers_No phone service      1761 non-null   uint8  \n",
      " 6   HasMultiplePhoneNumbers_Yes                   1761 non-null   uint8  \n",
      " 7   HasInternetService_DSL                        1761 non-null   uint8  \n",
      " 8   HasInternetService_Fiber optic                1761 non-null   uint8  \n",
      " 9   HasInternetService_No                         1761 non-null   uint8  \n",
      " 10  HasOnlineSecurityService_No                   1761 non-null   uint8  \n",
      " 11  HasOnlineSecurityService_No internet service  1761 non-null   uint8  \n",
      " 12  HasOnlineSecurityService_Yes                  1761 non-null   uint8  \n",
      " 13  HasOnlineBackup_No                            1761 non-null   uint8  \n",
      " 14  HasOnlineBackup_No internet service           1761 non-null   uint8  \n",
      " 15  HasOnlineBackup_Yes                           1761 non-null   uint8  \n",
      " 16  HasDeviceProtection_No                        1761 non-null   uint8  \n",
      " 17  HasDeviceProtection_No internet service       1761 non-null   uint8  \n",
      " 18  HasDeviceProtection_Yes                       1761 non-null   uint8  \n",
      " 19  HasTechSupportAccess_No                       1761 non-null   uint8  \n",
      " 20  HasTechSupportAccess_No internet service      1761 non-null   uint8  \n",
      " 21  HasTechSupportAccess_Yes                      1761 non-null   uint8  \n",
      " 22  HasOnlineTV_No                                1761 non-null   uint8  \n",
      " 23  HasOnlineTV_No internet service               1761 non-null   uint8  \n",
      " 24  HasOnlineTV_Yes                               1761 non-null   uint8  \n",
      " 25  HasMovieSubscription_No                       1761 non-null   uint8  \n",
      " 26  HasMovieSubscription_No internet service      1761 non-null   uint8  \n",
      " 27  HasMovieSubscription_Yes                      1761 non-null   uint8  \n",
      " 28  HasContractPhone_Month-to-month               1761 non-null   uint8  \n",
      " 29  HasContractPhone_One year                     1761 non-null   uint8  \n",
      " 30  HasContractPhone_Two year                     1761 non-null   uint8  \n",
      " 31  IsBillingPaperless_Yes                        1761 non-null   uint8  \n",
      " 32  PaymentMethod_Bank transfer (automatic)       1761 non-null   uint8  \n",
      " 33  PaymentMethod_Credit card (automatic)         1761 non-null   uint8  \n",
      " 34  PaymentMethod_Electronic check                1761 non-null   uint8  \n",
      " 35  PaymentMethod_Mailed check                    1761 non-null   uint8  \n",
      " 36  ClientPeriod                                  1761 non-null   int64  \n",
      " 37  MonthlySpending                               1761 non-null   float64\n",
      " 38  TotalSpent                                    1761 non-null   object \n",
      " 39  IsSeniorCitizen                               1761 non-null   int64  \n",
      "dtypes: float64(1), int64(2), object(1), uint8(36)\n",
      "memory usage: 130.7+ KB\n"
     ]
    }
   ],
   "source": [
    "test_preprocessed = test_encoded_categorical.merge(train[numeric[:-1]],left_index=True, right_index=True)\n",
    "test_preprocessed.info()"
   ]
  },
  {
   "cell_type": "markdown",
   "metadata": {},
   "source": [
    "'TotalSpent' column has string type, lets fix it"
   ]
  },
  {
   "cell_type": "code",
   "execution_count": 152,
   "metadata": {},
   "outputs": [],
   "source": [
    "#Train\n",
    "train_preprocessed.TotalSpent = pd.to_numeric(X['TotalSpent'],errors='coerce')\n",
    "train_preprocessed.dropna(inplace = True)\n",
    "X = train_preprocessed.iloc[:,:-1]\n",
    "y = train_preprocessed.iloc[:,-1]"
   ]
  },
  {
   "cell_type": "code",
   "execution_count": 153,
   "metadata": {},
   "outputs": [],
   "source": [
    "#Test\n",
    "test_preprocessed.TotalSpent = pd.to_numeric(test_preprocessed['TotalSpent'],errors='coerce')\n",
    "test_preprocessed.TotalSpent.fillna(test_preprocessed.TotalSpent.mean(), inplace = True)\n"
   ]
  },
  {
   "cell_type": "code",
   "execution_count": 154,
   "metadata": {},
   "outputs": [
    {
     "name": "stdout",
     "output_type": "stream",
     "text": [
      "<class 'pandas.core.frame.DataFrame'>\n",
      "Int64Index: 1761 entries, 0 to 1760\n",
      "Data columns (total 40 columns):\n",
      " #   Column                                        Non-Null Count  Dtype  \n",
      "---  ------                                        --------------  -----  \n",
      " 0   Sex_Female                                    1761 non-null   uint8  \n",
      " 1   HasPartner_Yes                                1761 non-null   uint8  \n",
      " 2   HasChild_Yes                                  1761 non-null   uint8  \n",
      " 3   HasPhoneService_Yes                           1761 non-null   uint8  \n",
      " 4   HasMultiplePhoneNumbers_No                    1761 non-null   uint8  \n",
      " 5   HasMultiplePhoneNumbers_No phone service      1761 non-null   uint8  \n",
      " 6   HasMultiplePhoneNumbers_Yes                   1761 non-null   uint8  \n",
      " 7   HasInternetService_DSL                        1761 non-null   uint8  \n",
      " 8   HasInternetService_Fiber optic                1761 non-null   uint8  \n",
      " 9   HasInternetService_No                         1761 non-null   uint8  \n",
      " 10  HasOnlineSecurityService_No                   1761 non-null   uint8  \n",
      " 11  HasOnlineSecurityService_No internet service  1761 non-null   uint8  \n",
      " 12  HasOnlineSecurityService_Yes                  1761 non-null   uint8  \n",
      " 13  HasOnlineBackup_No                            1761 non-null   uint8  \n",
      " 14  HasOnlineBackup_No internet service           1761 non-null   uint8  \n",
      " 15  HasOnlineBackup_Yes                           1761 non-null   uint8  \n",
      " 16  HasDeviceProtection_No                        1761 non-null   uint8  \n",
      " 17  HasDeviceProtection_No internet service       1761 non-null   uint8  \n",
      " 18  HasDeviceProtection_Yes                       1761 non-null   uint8  \n",
      " 19  HasTechSupportAccess_No                       1761 non-null   uint8  \n",
      " 20  HasTechSupportAccess_No internet service      1761 non-null   uint8  \n",
      " 21  HasTechSupportAccess_Yes                      1761 non-null   uint8  \n",
      " 22  HasOnlineTV_No                                1761 non-null   uint8  \n",
      " 23  HasOnlineTV_No internet service               1761 non-null   uint8  \n",
      " 24  HasOnlineTV_Yes                               1761 non-null   uint8  \n",
      " 25  HasMovieSubscription_No                       1761 non-null   uint8  \n",
      " 26  HasMovieSubscription_No internet service      1761 non-null   uint8  \n",
      " 27  HasMovieSubscription_Yes                      1761 non-null   uint8  \n",
      " 28  HasContractPhone_Month-to-month               1761 non-null   uint8  \n",
      " 29  HasContractPhone_One year                     1761 non-null   uint8  \n",
      " 30  HasContractPhone_Two year                     1761 non-null   uint8  \n",
      " 31  IsBillingPaperless_Yes                        1761 non-null   uint8  \n",
      " 32  PaymentMethod_Bank transfer (automatic)       1761 non-null   uint8  \n",
      " 33  PaymentMethod_Credit card (automatic)         1761 non-null   uint8  \n",
      " 34  PaymentMethod_Electronic check                1761 non-null   uint8  \n",
      " 35  PaymentMethod_Mailed check                    1761 non-null   uint8  \n",
      " 36  ClientPeriod                                  1761 non-null   int64  \n",
      " 37  MonthlySpending                               1761 non-null   float64\n",
      " 38  TotalSpent                                    1761 non-null   float64\n",
      " 39  IsSeniorCitizen                               1761 non-null   int64  \n",
      "dtypes: float64(2), int64(2), uint8(36)\n",
      "memory usage: 130.7 KB\n"
     ]
    }
   ],
   "source": [
    "test_preprocessed.info()"
   ]
  },
  {
   "cell_type": "markdown",
   "metadata": {},
   "source": [
    "'TotalSpent' is ok"
   ]
  },
  {
   "cell_type": "markdown",
   "metadata": {},
   "source": [
    "## balancing unbalanced classes"
   ]
  },
  {
   "cell_type": "code",
   "execution_count": 155,
   "metadata": {},
   "outputs": [
    {
     "name": "stdout",
     "output_type": "stream",
     "text": [
      "Количество элементов до операции: 5273\n",
      "Количество элементов после операции: 7778\n"
     ]
    }
   ],
   "source": [
    "# Балансировка классов для улучшения работы классификатора\n",
    "from imblearn.over_sampling import RandomOverSampler\n",
    "#from imblearn.under_sampling import RandomUnderSampler\n",
    "ros = RandomOverSampler(random_state=0)\n",
    "ros.fit(X,y)\n",
    "X_resampled, y_resampled = ros.fit_sample(X, y)\n",
    "print('Количество элементов до операции:', len(X))\n",
    "print('Количество элементов после операции:', len(X_resampled))"
   ]
  },
  {
   "cell_type": "code",
   "execution_count": 156,
   "metadata": {},
   "outputs": [
    {
     "data": {
      "text/plain": [
       "1    3889\n",
       "0    3889\n",
       "Name: Churn, dtype: int64"
      ]
     },
     "execution_count": 156,
     "metadata": {},
     "output_type": "execute_result"
    }
   ],
   "source": [
    "y_resampled.value_counts()"
   ]
  },
  {
   "cell_type": "markdown",
   "metadata": {},
   "source": [
    "## Train RF model"
   ]
  },
  {
   "cell_type": "code",
   "execution_count": 157,
   "metadata": {},
   "outputs": [],
   "source": [
    "X_train,X_test,y_train,y_test = train_test_split(X_resampled, y_resampled, test_size = 0.2, random_state = 77)"
   ]
  },
  {
   "cell_type": "code",
   "execution_count": 169,
   "metadata": {},
   "outputs": [
    {
     "data": {
      "text/plain": [
       "RandomForestClassifier(min_samples_leaf=4, n_estimators=1000)"
      ]
     },
     "execution_count": 169,
     "metadata": {},
     "output_type": "execute_result"
    }
   ],
   "source": [
    "RFC = RandomForestClassifier(n_estimators = 1000, min_samples_leaf = 8)\n",
    "RFC.fit(X_train, y_train)"
   ]
  },
  {
   "cell_type": "markdown",
   "metadata": {},
   "source": [
    "## Validation "
   ]
  },
  {
   "cell_type": "code",
   "execution_count": 170,
   "metadata": {},
   "outputs": [
    {
     "data": {
      "text/plain": [
       "0.8438303341902313"
      ]
     },
     "execution_count": 170,
     "metadata": {},
     "output_type": "execute_result"
    }
   ],
   "source": [
    "RFC.score(X_test,y_test)"
   ]
  },
  {
   "cell_type": "code",
   "execution_count": 160,
   "metadata": {},
   "outputs": [
    {
     "data": {
      "image/png": "[encoded data removed]",
      "text/plain": [
       "<Figure size 432x288 with 1 Axes>"
      ]
     },
     "metadata": {
      "needs_background": "light"
     },
     "output_type": "display_data"
    }
   ],
   "source": [
    "plot_roc_curve(RFC,X_test,y_test);"
   ]
  },
  {
   "cell_type": "markdown",
   "metadata": {},
   "source": [
    "## Predictions"
   ]
  },
  {
   "cell_type": "markdown",
   "metadata": {},
   "source": [
    "Train on full test data"
   ]
  },
  {
   "cell_type": "code",
   "execution_count": 171,
   "metadata": {},
   "outputs": [
    {
     "data": {
      "text/plain": [
       "RandomForestClassifier(min_samples_leaf=4, n_estimators=1000)"
      ]
     },
     "execution_count": 171,
     "metadata": {},
     "output_type": "execute_result"
    }
   ],
   "source": [
    "RFC.fit(X_resampled, y_resampled)"
   ]
  },
  {
   "cell_type": "code",
   "execution_count": 162,
   "metadata": {},
   "outputs": [
    {
     "data": {
      "text/html": [
       "<div>\n",
       "<style scoped>\n",
       "    .dataframe tbody tr th:only-of-type {\n",
       "        vertical-align: middle;\n",
       "    }\n",
       "\n",
       "    .dataframe tbody tr th {\n",
       "        vertical-align: top;\n",
       "    }\n",
       "\n",
       "    .dataframe thead th {\n",
       "        text-align: right;\n",
       "    }\n",
       "</style>\n",
       "<table border=\"1\" class=\"dataframe\">\n",
       "  <thead>\n",
       "    <tr style=\"text-align: right;\">\n",
       "      <th></th>\n",
       "      <th>Id</th>\n",
       "      <th>Churn</th>\n",
       "    </tr>\n",
       "  </thead>\n",
       "  <tbody>\n",
       "    <tr>\n",
       "      <th>0</th>\n",
       "      <td>0</td>\n",
       "      <td>0.5</td>\n",
       "    </tr>\n",
       "    <tr>\n",
       "      <th>1</th>\n",
       "      <td>1</td>\n",
       "      <td>0.5</td>\n",
       "    </tr>\n",
       "    <tr>\n",
       "      <th>2</th>\n",
       "      <td>2</td>\n",
       "      <td>0.5</td>\n",
       "    </tr>\n",
       "    <tr>\n",
       "      <th>3</th>\n",
       "      <td>3</td>\n",
       "      <td>0.5</td>\n",
       "    </tr>\n",
       "    <tr>\n",
       "      <th>4</th>\n",
       "      <td>4</td>\n",
       "      <td>0.5</td>\n",
       "    </tr>\n",
       "  </tbody>\n",
       "</table>\n",
       "</div>"
      ],
      "text/plain": [
       "   Id  Churn\n",
       "0   0    0.5\n",
       "1   1    0.5\n",
       "2   2    0.5\n",
       "3   3    0.5\n",
       "4   4    0.5"
      ]
     },
     "execution_count": 162,
     "metadata": {},
     "output_type": "execute_result"
    }
   ],
   "source": [
    "submission_sample = pd.read_csv('../input/advanced-dls-fall-2020/submission.csv')\n",
    "submission_sample.head()"
   ]
  },
  {
   "cell_type": "code",
   "execution_count": 172,
   "metadata": {},
   "outputs": [],
   "source": [
    "predictions = RFC.predict_proba(test_preprocessed)[:,1]"
   ]
  },
  {
   "cell_type": "code",
   "execution_count": 165,
   "metadata": {},
   "outputs": [
    {
     "data": {
      "text/plain": [
       "array([0.2 , 0.43, 1.  , ..., 0.55, 0.5 , 0.04])"
      ]
     },
     "execution_count": 165,
     "metadata": {},
     "output_type": "execute_result"
    }
   ],
   "source": [
    "predictions"
   ]
  },
  {
   "cell_type": "code",
   "execution_count": 174,
   "metadata": {},
   "outputs": [],
   "source": [
    "submission = submission_sample.copy()\n",
    "submission['Churn'] = predictions\n",
    "submission.to_csv('submit.csv',index=False)"
   ]
  }
 ],
 "metadata": {
  "kernelspec": {
   "display_name": "Python 3",
   "language": "python",
   "name": "python3"
  },
  "language_info": {
   "codemirror_mode": {
    "name": "ipython",
    "version": 3
   },
   "file_extension": ".py",
   "mimetype": "text/x-python",
   "name": "python",
   "nbconvert_exporter": "python",
   "pygments_lexer": "ipython3",
   "version": "3.7.7"
  }
 },
 "nbformat": 4,
 "nbformat_minor": 4
}
