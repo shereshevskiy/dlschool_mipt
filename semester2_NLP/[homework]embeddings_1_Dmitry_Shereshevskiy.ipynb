{
 "cells": [
  {
   "cell_type": "markdown",
   "metadata": {
    "id": "Ot3c4fjZwC4T"
   },
   "source": [
    "<img src=\"https://s8.hostingkartinok.com/uploads/images/2018/08/308b49fcfbc619d629fe4604bceb67ac.jpg\" width=500, height=450>\n",
    "<h3 style=\"text-align: center;\"><b>Физтех-Школа Прикладной математики и информатики (ФПМИ) МФТИ</b></h3>"
   ]
  },
  {
   "cell_type": "markdown",
   "metadata": {
    "id": "P2JdzEXmwRU5"
   },
   "source": [
    "---"
   ]
  },
  {
   "cell_type": "markdown",
   "metadata": {
    "id": "eYtJxkhKpYK2"
   },
   "source": [
    "# Embeddings\n",
    "\n",
    "Привет! В этом домашнем задании мы с помощью эмбеддингов решим задачу семантической классификации твитов.\n",
    "\n",
    "Для этого мы воспользуемся предобученными эмбеддингами word2vec."
   ]
  },
  {
   "cell_type": "markdown",
   "metadata": {
    "id": "jBOdoFS8AdpP"
   },
   "source": [
    "Для начала скачаем датасет для семантической классификации твитов:"
   ]
  },
  {
   "cell_type": "code",
   "execution_count": null,
   "metadata": {
    "colab": {
     "base_uri": "https://localhost:8080/"
    },
    "id": "wXjhtsfF_gBK",
    "outputId": "95b833e7-8dcb-4534-b479-5b4740d8ae23"
   },
   "outputs": [
    {
     "name": "stdout",
     "output_type": "stream",
     "text": [
      "Downloading...\n",
      "From: https://drive.google.com/uc?id=1eE1FiUkXkcbw0McId4i7qY-L8hH-_Qph\n",
      "To: /content/archive.zip\n",
      "84.9MB [00:00, 97.8MB/s]\n",
      "Archive:  archive.zip\n",
      "  inflating: training.1600000.processed.noemoticon.csv  \n"
     ]
    }
   ],
   "source": [
    "!gdown https://drive.google.com/uc?id=1eE1FiUkXkcbw0McId4i7qY-L8hH-_Qph&export=download\n",
    "!unzip archive.zip"
   ]
  },
  {
   "cell_type": "markdown",
   "metadata": {
    "id": "Sh6wW-K53Mle"
   },
   "source": [
    "Импортируем нужные библиотеки:"
   ]
  },
  {
   "cell_type": "code",
   "execution_count": null,
   "metadata": {
    "id": "A2Y5CHRm6NFe"
   },
   "outputs": [],
   "source": [
    "import math\n",
    "import random\n",
    "import string\n",
    "\n",
    "import numpy as np\n",
    "import pandas as pd\n",
    "import seaborn as sns\n",
    "\n",
    "import torch\n",
    "import nltk\n",
    "import gensim\n",
    "import gensim.downloader as api"
   ]
  },
  {
   "cell_type": "code",
   "execution_count": null,
   "metadata": {
    "id": "73Lb0wbESrgQ"
   },
   "outputs": [],
   "source": [
    "random.seed(42)\n",
    "np.random.seed(42)\n",
    "torch.random.manual_seed(42)\n",
    "torch.cuda.random.manual_seed(42)\n",
    "torch.cuda.random.manual_seed_all(42)\n",
    "\n",
    "device = \"cuda\" if torch.cuda.is_available() else \"cpu\""
   ]
  },
  {
   "cell_type": "code",
   "execution_count": null,
   "metadata": {
    "id": "L_Wv-4bu83Fl"
   },
   "outputs": [],
   "source": [
    "data = pd.read_csv(\"training.1600000.processed.noemoticon.csv\", encoding=\"latin\", header=None, names=[\"emotion\", \"id\", \"date\", \"flag\", \"user\", \"text\"])"
   ]
  },
  {
   "cell_type": "markdown",
   "metadata": {
    "id": "RY1pvYDS3Yuj"
   },
   "source": [
    "Посмотрим на данные:"
   ]
  },
  {
   "cell_type": "code",
   "execution_count": null,
   "metadata": {
    "colab": {
     "base_uri": "https://localhost:8080/",
     "height": 195
    },
    "id": "jST2tjgjCTWD",
    "outputId": "44e3a8ca-0ade-4862-a452-72adc823f8b6"
   },
   "outputs": [
    {
     "data": {
      "text/html": [
       "<div>\n",
       "<style scoped>\n",
       "    .dataframe tbody tr th:only-of-type {\n",
       "        vertical-align: middle;\n",
       "    }\n",
       "\n",
       "    .dataframe tbody tr th {\n",
       "        vertical-align: top;\n",
       "    }\n",
       "\n",
       "    .dataframe thead th {\n",
       "        text-align: right;\n",
       "    }\n",
       "</style>\n",
       "<table border=\"1\" class=\"dataframe\">\n",
       "  <thead>\n",
       "    <tr style=\"text-align: right;\">\n",
       "      <th></th>\n",
       "      <th>emotion</th>\n",
       "      <th>id</th>\n",
       "      <th>date</th>\n",
       "      <th>flag</th>\n",
       "      <th>user</th>\n",
       "      <th>text</th>\n",
       "    </tr>\n",
       "  </thead>\n",
       "  <tbody>\n",
       "    <tr>\n",
       "      <th>0</th>\n",
       "      <td>0</td>\n",
       "      <td>1467810369</td>\n",
       "      <td>Mon Apr 06 22:19:45 PDT 2009</td>\n",
       "      <td>NO_QUERY</td>\n",
       "      <td>_TheSpecialOne_</td>\n",
       "      <td>@switchfoot http://twitpic.com/2y1zl - Awww, t...</td>\n",
       "    </tr>\n",
       "    <tr>\n",
       "      <th>1</th>\n",
       "      <td>0</td>\n",
       "      <td>1467810672</td>\n",
       "      <td>Mon Apr 06 22:19:49 PDT 2009</td>\n",
       "      <td>NO_QUERY</td>\n",
       "      <td>scotthamilton</td>\n",
       "      <td>is upset that he can't update his Facebook by ...</td>\n",
       "    </tr>\n",
       "    <tr>\n",
       "      <th>2</th>\n",
       "      <td>0</td>\n",
       "      <td>1467810917</td>\n",
       "      <td>Mon Apr 06 22:19:53 PDT 2009</td>\n",
       "      <td>NO_QUERY</td>\n",
       "      <td>mattycus</td>\n",
       "      <td>@Kenichan I dived many times for the ball. Man...</td>\n",
       "    </tr>\n",
       "    <tr>\n",
       "      <th>3</th>\n",
       "      <td>0</td>\n",
       "      <td>1467811184</td>\n",
       "      <td>Mon Apr 06 22:19:57 PDT 2009</td>\n",
       "      <td>NO_QUERY</td>\n",
       "      <td>ElleCTF</td>\n",
       "      <td>my whole body feels itchy and like its on fire</td>\n",
       "    </tr>\n",
       "    <tr>\n",
       "      <th>4</th>\n",
       "      <td>0</td>\n",
       "      <td>1467811193</td>\n",
       "      <td>Mon Apr 06 22:19:57 PDT 2009</td>\n",
       "      <td>NO_QUERY</td>\n",
       "      <td>Karoli</td>\n",
       "      <td>@nationwideclass no, it's not behaving at all....</td>\n",
       "    </tr>\n",
       "  </tbody>\n",
       "</table>\n",
       "</div>"
      ],
      "text/plain": [
       "   emotion  ...                                               text\n",
       "0        0  ...  @switchfoot http://twitpic.com/2y1zl - Awww, t...\n",
       "1        0  ...  is upset that he can't update his Facebook by ...\n",
       "2        0  ...  @Kenichan I dived many times for the ball. Man...\n",
       "3        0  ...    my whole body feels itchy and like its on fire \n",
       "4        0  ...  @nationwideclass no, it's not behaving at all....\n",
       "\n",
       "[5 rows x 6 columns]"
      ]
     },
     "execution_count": 5,
     "metadata": {
      "tags": []
     },
     "output_type": "execute_result"
    }
   ],
   "source": [
    "data.head()"
   ]
  },
  {
   "cell_type": "markdown",
   "metadata": {
    "id": "OhbR5JJyA2VW"
   },
   "source": [
    "Выведем несколько примеров твитов, чтобы понимать, с чем мы имеем дело:"
   ]
  },
  {
   "cell_type": "code",
   "execution_count": null,
   "metadata": {
    "colab": {
     "base_uri": "https://localhost:8080/"
    },
    "id": "kCBwe0wR83C2",
    "outputId": "14214a7d-25e0-4f71-be2f-02394d10e8d5"
   },
   "outputs": [
    {
     "name": "stdout",
     "output_type": "stream",
     "text": [
      "@chrishasboobs AHHH I HOPE YOUR OK!!! \n",
      "@misstoriblack cool , i have no tweet apps  for my razr 2\n",
      "@TiannaChaos i know  just family drama. its lame.hey next time u hang out with kim n u guys like have a sleepover or whatever, ill call u\n",
      "School email won't open  and I have geography stuff on there to revise! *Stupid School* :'(\n",
      "upper airways problem \n",
      "Going to miss Pastor's sermon on Faith... \n",
      "on lunch....dj should come eat with me \n",
      "@piginthepoke oh why are you feeling like that? \n",
      "gahh noo!peyton needs to live!this is horrible \n",
      "@mrstessyman thank you glad you like it! There is a product review bit on the site  Enjoy knitting it!\n"
     ]
    }
   ],
   "source": [
    "examples = data[\"text\"].sample(10)\n",
    "print(\"\\n\".join(examples))"
   ]
  },
  {
   "cell_type": "markdown",
   "metadata": {
    "id": "GvcYW8aX3mKt"
   },
   "source": [
    "Как вилим, тексты твитов очень \"грязные\". Нужно предобработать датасет, прежде чем строить для него модель классификации.\n",
    "\n",
    "Чтобы сравнивать различные методы обработки текста/модели/прочее, разделим датасет на dev(для обучения модели) и test(для получения качества модели)."
   ]
  },
  {
   "cell_type": "code",
   "execution_count": null,
   "metadata": {
    "id": "f8hUK-jnQg6O"
   },
   "outputs": [],
   "source": [
    "indexes = np.arange(data.shape[0])\n",
    "np.random.shuffle(indexes)\n",
    "dev_size = math.ceil(data.shape[0] * 0.8)\n",
    "\n",
    "dev_indexes = indexes[:dev_size]\n",
    "test_indexes = indexes[dev_size:]\n",
    "\n",
    "dev_data = data.iloc[dev_indexes]\n",
    "test_data = data.iloc[test_indexes]\n",
    "\n",
    "dev_data.reset_index(drop=True, inplace=True)\n",
    "test_data.reset_index(drop=True, inplace=True)"
   ]
  },
  {
   "cell_type": "markdown",
   "metadata": {
    "id": "6ivcpeFoCnZA"
   },
   "source": [
    "## Обработка текста"
   ]
  },
  {
   "cell_type": "markdown",
   "metadata": {
    "id": "Df4nca285Dar"
   },
   "source": [
    "Токенизируем текст, избавимся от знаков пунктуации и выкинем все слова, состоящие менее чем из 4 букв:"
   ]
  },
  {
   "cell_type": "code",
   "execution_count": null,
   "metadata": {
    "colab": {
     "base_uri": "https://localhost:8080/"
    },
    "id": "nsNHNDES9ZVF",
    "outputId": "19a393a2-9d8c-4180-f741-1c1b170e7778"
   },
   "outputs": [
    {
     "name": "stdout",
     "output_type": "stream",
     "text": [
      "@ claire_nelson i ' m on the north devon coast the next few weeks will be down in devon again in may sometime i hope though !\n"
     ]
    }
   ],
   "source": [
    "tokenizer = nltk.WordPunctTokenizer()\n",
    "line = tokenizer.tokenize(dev_data[\"text\"][0].lower())\n",
    "print(\" \".join(line))"
   ]
  },
  {
   "cell_type": "code",
   "execution_count": null,
   "metadata": {
    "colab": {
     "base_uri": "https://localhost:8080/"
    },
    "id": "GcBS_u_hTuxp",
    "outputId": "603530c3-15e3-4487-8ddd-c1d1bde066ca"
   },
   "outputs": [
    {
     "name": "stdout",
     "output_type": "stream",
     "text": [
      "north devon coast next weeks will down devon again sometime hope though\n"
     ]
    }
   ],
   "source": [
    "filtered_line = [w for w in line if all(c not in string.punctuation for c in w) and len(w) > 3]\n",
    "print(\" \".join(filtered_line))"
   ]
  },
  {
   "cell_type": "markdown",
   "metadata": {
    "id": "cuFmlXkC6E7X"
   },
   "source": [
    "Загрузим предобученную модель эмбеддингов. \n",
    "\n",
    "Если хотите, можно попробовать другую. Полный список можно найти здесь: https://github.com/RaRe-Technologies/gensim-data.\n",
    "\n",
    "Данная модель выдает эмбеддинги для **слов**. Строить по эмбеддингам слов эмбеддинги предложений мы будем ниже."
   ]
  },
  {
   "cell_type": "code",
   "execution_count": null,
   "metadata": {
    "colab": {
     "base_uri": "https://localhost:8080/"
    },
    "id": "cACJpje2T5bc",
    "outputId": "6fb073c3-5093-433b-cc0c-339bd49b8711"
   },
   "outputs": [
    {
     "name": "stdout",
     "output_type": "stream",
     "text": [
      "[=================================================-] 98.3% 1634.2/1662.8MB downloaded\n"
     ]
    }
   ],
   "source": [
    "word2vec = api.load(\"word2vec-google-news-300\")"
   ]
  },
  {
   "cell_type": "code",
   "execution_count": null,
   "metadata": {
    "colab": {
     "base_uri": "https://localhost:8080/"
    },
    "id": "NafmYHrkT5YD",
    "outputId": "2677ff74-8748-4f62-ad96-67e16bb3ea2c"
   },
   "outputs": [
    {
     "name": "stdout",
     "output_type": "stream",
     "text": [
      "(300,)\n"
     ]
    }
   ],
   "source": [
    "emb_line = [word2vec.get_vector(w) for w in filtered_line if w in word2vec]\n",
    "print(sum(emb_line).shape)"
   ]
  },
  {
   "cell_type": "markdown",
   "metadata": {
    "id": "LTS6LCkd6_E7"
   },
   "source": [
    "Нормализуем эмбеддинги, прежде чем обучать на них сеть. \n",
    "(наверное, вы помните, что нейронные сети гораздо лучше обучаются на нормализованных данных)"
   ]
  },
  {
   "cell_type": "code",
   "execution_count": null,
   "metadata": {
    "colab": {
     "base_uri": "https://localhost:8080/"
    },
    "id": "3PyLTZ6xf3Oq",
    "outputId": "911e8175-31d5-4384-d41b-3ac3e5253c58"
   },
   "outputs": [
    {
     "name": "stdout",
     "output_type": "stream",
     "text": [
      "(300,)\n",
      "[False, False, False, False, False, False, False, False, False, False, False, False]\n"
     ]
    }
   ],
   "source": [
    "mean = np.mean(word2vec.vectors, 0)\n",
    "std = np.std(word2vec.vectors, 0)\n",
    "norm_emb_line = [(word2vec.get_vector(w) - mean) / std for w in filtered_line if w in word2vec and len(w) > 3]\n",
    "print(sum(norm_emb_line).shape)\n",
    "print([all(norm_emb_line[i] == emb_line[i]) for i in range(len(emb_line))])"
   ]
  },
  {
   "cell_type": "markdown",
   "metadata": {
    "id": "q7vm6Ppd7Ubw"
   },
   "source": [
    "Сделаем датасет, который будет по запросу возвращать подготовленные данные."
   ]
  },
  {
   "cell_type": "code",
   "execution_count": null,
   "metadata": {
    "id": "b4eZajF7pZ1X"
   },
   "outputs": [],
   "source": [
    "from torch.utils.data import Dataset, random_split\n",
    "\n",
    "\n",
    "class TwitterDataset(Dataset):\n",
    "    def __init__(self, data: pd.DataFrame, feature_column: str, target_column: str, word2vec: gensim.models.Word2Vec):\n",
    "        self.tokenizer = nltk.WordPunctTokenizer()\n",
    "        \n",
    "        self.data = data\n",
    "\n",
    "        self.feature_column = feature_column\n",
    "        self.target_column = target_column\n",
    "\n",
    "        self.word2vec = word2vec\n",
    "\n",
    "        self.label2num = lambda label: 0 if label == 0 else 1\n",
    "        self.mean = np.mean(word2vec.vectors, axis=0)\n",
    "        self.std = np.std(word2vec.vectors, axis=0)\n",
    "\n",
    "    def __getitem__(self, item):\n",
    "        text = self.data[self.feature_column][item]\n",
    "        label = self.label2num(self.data[self.target_column][item])\n",
    "\n",
    "        tokens = self.get_tokens_(text)\n",
    "        embeddings = self.get_embeddings_(tokens)\n",
    "\n",
    "        return {\"feature\": embeddings, \"target\": label}\n",
    "\n",
    "    def get_tokens_(self, text):\n",
    "        # Получи все токены из текста и профильтруй их\n",
    "        line = self.tokenizer.tokenize(text.lower())\n",
    "        tokens = [w for w in line if all(c not in string.punctuation for c in w)\\\n",
    "                                     and len(w) > 3]  # filtered_line\n",
    "        return tokens\n",
    "\n",
    "    def get_embeddings_(self, tokens):\n",
    "        # Получи эмбеддинги слов и усредни их\n",
    "        # ***************** ПРИМЕЧАНИЕ: \n",
    "        # Судя по коду здесь в методе и тому, что для усреднения далее используется\n",
    "        # отдельная функция average_emb(batch), здесь (в этом методе) усреднение \n",
    "        # эмбедингов не предполагается. Поэтому выполнена только их НОРМАЛИЗАЦИЯ\n",
    "        embeddings = np.array([(self.word2vec.get_vector(w) - self.mean) / self.std \n",
    "                               if w in self.word2vec else np.zeros(self.word2vec.vector_size) \n",
    "                               for w in tokens])\n",
    "\n",
    "        if len(embeddings) == 0:\n",
    "            embeddings = np.zeros((1, self.word2vec.vector_size))\n",
    "        else:\n",
    "            if len(embeddings.shape) == 1:\n",
    "                embeddings = embeddings.reshape(1, -1)\n",
    "\n",
    "        return embeddings\n",
    "\n",
    "    def __len__(self):\n",
    "        return self.data.shape[0]"
   ]
  },
  {
   "cell_type": "code",
   "execution_count": null,
   "metadata": {
    "id": "IZJpttbXpZyz"
   },
   "outputs": [],
   "source": [
    "dev = TwitterDataset(dev_data, \"text\", \"emotion\", word2vec)"
   ]
  },
  {
   "cell_type": "markdown",
   "metadata": {
    "id": "Sr-aetH0_LH1"
   },
   "source": [
    "Отлично, мы готовы с помощью эмбеддингов слов превращать твиты в векторы и обучать нейронную сеть.\n",
    "\n",
    "Превращать твиты в векторы, используя эмбеддинги слов, можно несколькими способами. А именно такими:"
   ]
  },
  {
   "cell_type": "markdown",
   "metadata": {
    "id": "4AhHrWa196Yc"
   },
   "source": [
    "## Average embedding (2 балла)\n",
    "---\n",
    "Это самый простой вариант, как получить вектор предложения, используя векторные представления слов в предложении. А именно: вектор предложения есть средний вектор всех слов в предлоежнии (которые остались после токенизации и удаления коротких слов, конечно). "
   ]
  },
  {
   "cell_type": "code",
   "execution_count": null,
   "metadata": {
    "colab": {
     "base_uri": "https://localhost:8080/"
    },
    "id": "ScdokSW-994t",
    "outputId": "49a9d1f7-8936-489b-cfc2-f634933d0442"
   },
   "outputs": [
    {
     "name": "stdout",
     "output_type": "stream",
     "text": [
      "1280\n"
     ]
    }
   ],
   "source": [
    "indexes = np.arange(len(dev))\n",
    "np.random.shuffle(indexes)\n",
    "example_indexes = indexes[::1000]\n",
    "\n",
    "examples = {\"features\": [np.mean(dev[i][\"feature\"], axis=0) for i in example_indexes], \n",
    "            \"targets\": [dev[i][\"target\"] for i in example_indexes]}\n",
    "print(len(examples[\"features\"]))"
   ]
  },
  {
   "cell_type": "markdown",
   "metadata": {
    "id": "1yGQ_lOx_1NL"
   },
   "source": [
    "Давайте сделаем визуализацию полученных векторов твитов тренировочного (dev) датасета. Так мы увидим, насколько хорошо твиты с разными target значениями отделяются друг от друга, т.е. насколько хорошо усреднение эмбеддингов слов \r\n",
    "\r\n",
    "предложения передает информацию о предложении."
   ]
  },
  {
   "cell_type": "markdown",
   "metadata": {
    "id": "LZwFksd_8uYO"
   },
   "source": [
    "Для визуализации векторов надо получить их проекцию на плоскость. Сделаем это с помощью `PCA`. Если хотите, можете вместо PCA использовать TSNE: так у вас получится более точная проекция на плоскость (а значит, более информативная, т.е. отражающая реальное положение векторов твитов в пространстве). Но TSNE будет работать намного дольше."
   ]
  },
  {
   "cell_type": "code",
   "execution_count": null,
   "metadata": {
    "id": "aKFZRSHdtIac"
   },
   "outputs": [],
   "source": [
    "from sklearn.decomposition import PCA\n",
    "\n",
    "\n",
    "pca = PCA(n_components=2)\n",
    "# Обучи PCA на эмбеддингах слов\n",
    "examples[\"transformed_features\"] = pca.fit_transform(np.array(examples[\"features\"]))"
   ]
  },
  {
   "cell_type": "code",
   "execution_count": null,
   "metadata": {
    "id": "szEOWdiNtIX8"
   },
   "outputs": [],
   "source": [
    "import bokeh.models as bm, bokeh.plotting as pl\n",
    "from bokeh.io import output_notebook\n",
    "output_notebook()\n",
    "\n",
    "def draw_vectors(x, y, radius=10, alpha=0.25, color='blue',\n",
    "                 width=600, height=400, show=True, **kwargs):\n",
    "    \"\"\" draws an interactive plot for data points with auxilirary info on hover \"\"\"\n",
    "    data_source = bm.ColumnDataSource({ 'x' : x, 'y' : y, 'color': color, **kwargs })\n",
    "\n",
    "    fig = pl.figure(active_scroll='wheel_zoom', width=width, height=height)\n",
    "    fig.scatter('x', 'y', size=radius, color='color', alpha=alpha, source=data_source)\n",
    "\n",
    "    fig.add_tools(bm.HoverTool(tooltips=[(key, \"@\" + key) for key in kwargs.keys()]))\n",
    "    if show: pl.show(fig)\n",
    "    return fig"
   ]
  },
  {
   "cell_type": "code",
   "execution_count": null,
   "metadata": {
    "colab": {
     "base_uri": "https://localhost:8080/",
     "height": 434
    },
    "id": "7OONK8ldtIWe",
    "outputId": "1363c07c-ce73-41b9-fba1-245d21052e3b"
   },
   "outputs": [
    {
     "data": {
      "application/javascript": [
       "\n",
       "(function(root) {\n",
       "  function now() {\n",
       "    return new Date();\n",
       "  }\n",
       "\n",
       "  var force = true;\n",
       "\n",
       "  if (typeof root._bokeh_onload_callbacks === \"undefined\" || force === true) {\n",
       "    root._bokeh_onload_callbacks = [];\n",
       "    root._bokeh_is_loading = undefined;\n",
       "  }\n",
       "\n",
       "  var JS_MIME_TYPE = 'application/javascript';\n",
       "  var HTML_MIME_TYPE = 'text/html';\n",
       "  var EXEC_MIME_TYPE = 'application/vnd.bokehjs_exec.v0+json';\n",
       "  var CLASS_NAME = 'output_bokeh rendered_html';\n",
       "\n",
       "  /**\n",
       "   * Render data to the DOM node\n",
       "   */\n",
       "  function render(props, node) {\n",
       "    var script = document.createElement(\"script\");\n",
       "    node.appendChild(script);\n",
       "  }\n",
       "\n",
       "  /**\n",
       "   * Handle when an output is cleared or removed\n",
       "   */\n",
       "  function handleClearOutput(event, handle) {\n",
       "    var cell = handle.cell;\n",
       "\n",
       "    var id = cell.output_area._bokeh_element_id;\n",
       "    var server_id = cell.output_area._bokeh_server_id;\n",
       "    // Clean up Bokeh references\n",
       "    if (id != null && id in Bokeh.index) {\n",
       "      Bokeh.index[id].model.document.clear();\n",
       "      delete Bokeh.index[id];\n",
       "    }\n",
       "\n",
       "    if (server_id !== undefined) {\n",
       "      // Clean up Bokeh references\n",
       "      var cmd = \"from bokeh.io.state import curstate; print(curstate().uuid_to_server['\" + server_id + \"'].get_sessions()[0].document.roots[0]._id)\";\n",
       "      cell.notebook.kernel.execute(cmd, {\n",
       "        iopub: {\n",
       "          output: function(msg) {\n",
       "            var id = msg.content.text.trim();\n",
       "            if (id in Bokeh.index) {\n",
       "              Bokeh.index[id].model.document.clear();\n",
       "              delete Bokeh.index[id];\n",
       "            }\n",
       "          }\n",
       "        }\n",
       "      });\n",
       "      // Destroy server and session\n",
       "      var cmd = \"import bokeh.io.notebook as ion; ion.destroy_server('\" + server_id + \"')\";\n",
       "      cell.notebook.kernel.execute(cmd);\n",
       "    }\n",
       "  }\n",
       "\n",
       "  /**\n",
       "   * Handle when a new output is added\n",
       "   */\n",
       "  function handleAddOutput(event, handle) {\n",
       "    var output_area = handle.output_area;\n",
       "    var output = handle.output;\n",
       "\n",
       "    // limit handleAddOutput to display_data with EXEC_MIME_TYPE content only\n",
       "    if ((output.output_type != \"display_data\") || (!output.data.hasOwnProperty(EXEC_MIME_TYPE))) {\n",
       "      return\n",
       "    }\n",
       "\n",
       "    var toinsert = output_area.element.find(\".\" + CLASS_NAME.split(' ')[0]);\n",
       "\n",
       "    if (output.metadata[EXEC_MIME_TYPE][\"id\"] !== undefined) {\n",
       "      toinsert[toinsert.length - 1].firstChild.textContent = output.data[JS_MIME_TYPE];\n",
       "      // store reference to embed id on output_area\n",
       "      output_area._bokeh_element_id = output.metadata[EXEC_MIME_TYPE][\"id\"];\n",
       "    }\n",
       "    if (output.metadata[EXEC_MIME_TYPE][\"server_id\"] !== undefined) {\n",
       "      var bk_div = document.createElement(\"div\");\n",
       "      bk_div.innerHTML = output.data[HTML_MIME_TYPE];\n",
       "      var script_attrs = bk_div.children[0].attributes;\n",
       "      for (var i = 0; i < script_attrs.length; i++) {\n",
       "        toinsert[toinsert.length - 1].firstChild.setAttribute(script_attrs[i].name, script_attrs[i].value);\n",
       "        toinsert[toinsert.length - 1].firstChild.textContent = bk_div.children[0].textContent\n",
       "      }\n",
       "      // store reference to server id on output_area\n",
       "      output_area._bokeh_server_id = output.metadata[EXEC_MIME_TYPE][\"server_id\"];\n",
       "    }\n",
       "  }\n",
       "\n",
       "  function register_renderer(events, OutputArea) {\n",
       "\n",
       "    function append_mime(data, metadata, element) {\n",
       "      // create a DOM node to render to\n",
       "      var toinsert = this.create_output_subarea(\n",
       "        metadata,\n",
       "        CLASS_NAME,\n",
       "        EXEC_MIME_TYPE\n",
       "      );\n",
       "      this.keyboard_manager.register_events(toinsert);\n",
       "      // Render to node\n",
       "      var props = {data: data, metadata: metadata[EXEC_MIME_TYPE]};\n",
       "      render(props, toinsert[toinsert.length - 1]);\n",
       "      element.append(toinsert);\n",
       "      return toinsert\n",
       "    }\n",
       "\n",
       "    /* Handle when an output is cleared or removed */\n",
       "    events.on('clear_output.CodeCell', handleClearOutput);\n",
       "    events.on('delete.Cell', handleClearOutput);\n",
       "\n",
       "    /* Handle when a new output is added */\n",
       "    events.on('output_added.OutputArea', handleAddOutput);\n",
       "\n",
       "    /**\n",
       "     * Register the mime type and append_mime function with output_area\n",
       "     */\n",
       "    OutputArea.prototype.register_mime_type(EXEC_MIME_TYPE, append_mime, {\n",
       "      /* Is output safe? */\n",
       "      safe: true,\n",
       "      /* Index of renderer in `output_area.display_order` */\n",
       "      index: 0\n",
       "    });\n",
       "  }\n",
       "\n",
       "  // register the mime type if in Jupyter Notebook environment and previously unregistered\n",
       "  if (root.Jupyter !== undefined) {\n",
       "    var events = require('base/js/events');\n",
       "    var OutputArea = require('notebook/js/outputarea').OutputArea;\n",
       "\n",
       "    if (OutputArea.prototype.mime_types().indexOf(EXEC_MIME_TYPE) == -1) {\n",
       "      register_renderer(events, OutputArea);\n",
       "    }\n",
       "  }\n",
       "\n",
       "  \n",
       "  if (typeof (root._bokeh_timeout) === \"undefined\" || force === true) {\n",
       "    root._bokeh_timeout = Date.now() + 5000;\n",
       "    root._bokeh_failed_load = false;\n",
       "  }\n",
       "\n",
       "  var NB_LOAD_WARNING = {'data': {'text/html':\n",
       "     \"<div style='background-color: #fdd'>\\n\"+\n",
       "     \"<p>\\n\"+\n",
       "     \"BokehJS does not appear to have successfully loaded. If loading BokehJS from CDN, this \\n\"+\n",
       "     \"may be due to a slow or bad network connection. Possible fixes:\\n\"+\n",
       "     \"</p>\\n\"+\n",
       "     \"<ul>\\n\"+\n",
       "     \"<li>re-rerun `output_notebook()` to attempt to load from CDN again, or</li>\\n\"+\n",
       "     \"<li>use INLINE resources instead, as so:</li>\\n\"+\n",
       "     \"</ul>\\n\"+\n",
       "     \"<code>\\n\"+\n",
       "     \"from bokeh.resources import INLINE\\n\"+\n",
       "     \"output_notebook(resources=INLINE)\\n\"+\n",
       "     \"</code>\\n\"+\n",
       "     \"</div>\"}};\n",
       "\n",
       "  function display_loaded() {\n",
       "    var el = document.getElementById(null);\n",
       "    if (el != null) {\n",
       "      el.textContent = \"BokehJS is loading...\";\n",
       "    }\n",
       "    if (root.Bokeh !== undefined) {\n",
       "      if (el != null) {\n",
       "        el.textContent = \"BokehJS \" + root.Bokeh.version + \" successfully loaded.\";\n",
       "      }\n",
       "    } else if (Date.now() < root._bokeh_timeout) {\n",
       "      setTimeout(display_loaded, 100)\n",
       "    }\n",
       "  }\n",
       "\n",
       "\n",
       "  function run_callbacks() {\n",
       "    try {\n",
       "      root._bokeh_onload_callbacks.forEach(function(callback) {\n",
       "        if (callback != null)\n",
       "          callback();\n",
       "      });\n",
       "    } finally {\n",
       "      delete root._bokeh_onload_callbacks\n",
       "    }\n",
       "    console.debug(\"Bokeh: all callbacks have finished\");\n",
       "  }\n",
       "\n",
       "  function load_libs(css_urls, js_urls, callback) {\n",
       "    if (css_urls == null) css_urls = [];\n",
       "    if (js_urls == null) js_urls = [];\n",
       "\n",
       "    root._bokeh_onload_callbacks.push(callback);\n",
       "    if (root._bokeh_is_loading > 0) {\n",
       "      console.debug(\"Bokeh: BokehJS is being loaded, scheduling callback at\", now());\n",
       "      return null;\n",
       "    }\n",
       "    if (js_urls == null || js_urls.length === 0) {\n",
       "      run_callbacks();\n",
       "      return null;\n",
       "    }\n",
       "    console.debug(\"Bokeh: BokehJS not loaded, scheduling load and callback at\", now());\n",
       "    root._bokeh_is_loading = css_urls.length + js_urls.length;\n",
       "\n",
       "    function on_load() {\n",
       "      root._bokeh_is_loading--;\n",
       "      if (root._bokeh_is_loading === 0) {\n",
       "        console.debug(\"Bokeh: all BokehJS libraries/stylesheets loaded\");\n",
       "        run_callbacks()\n",
       "      }\n",
       "    }\n",
       "\n",
       "    function on_error() {\n",
       "      console.error(\"failed to load \" + url);\n",
       "    }\n",
       "\n",
       "    for (var i = 0; i < css_urls.length; i++) {\n",
       "      var url = css_urls[i];\n",
       "      const element = document.createElement(\"link\");\n",
       "      element.onload = on_load;\n",
       "      element.onerror = on_error;\n",
       "      element.rel = \"stylesheet\";\n",
       "      element.type = \"text/css\";\n",
       "      element.href = url;\n",
       "      console.debug(\"Bokeh: injecting link tag for BokehJS stylesheet: \", url);\n",
       "      document.body.appendChild(element);\n",
       "    }\n",
       "\n",
       "    const hashes = {\"https://cdn.bokeh.org/bokeh/release/bokeh-2.1.1.min.js\": \"kLr4fYcqcSpbuI95brIH3vnnYCquzzSxHPU6XGQCIkQRGJwhg0StNbj1eegrHs12\", \"https://cdn.bokeh.org/bokeh/release/bokeh-widgets-2.1.1.min.js\": \"xIGPmVtaOm+z0BqfSOMn4lOR6ciex448GIKG4eE61LsAvmGj48XcMQZtKcE/UXZe\", \"https://cdn.bokeh.org/bokeh/release/bokeh-tables-2.1.1.min.js\": \"Dc9u1wF/0zApGIWoBbH77iWEHtdmkuYWG839Uzmv8y8yBLXebjO9ZnERsde5Ln/P\", \"https://cdn.bokeh.org/bokeh/release/bokeh-gl-2.1.1.min.js\": \"cT9JaBz7GiRXdENrJLZNSC6eMNF3nh3fa5fTF51Svp+ukxPdwcU5kGXGPBgDCa2j\"};\n",
       "\n",
       "    for (var i = 0; i < js_urls.length; i++) {\n",
       "      var url = js_urls[i];\n",
       "      var element = document.createElement('script');\n",
       "      element.onload = on_load;\n",
       "      element.onerror = on_error;\n",
       "      element.async = false;\n",
       "      element.src = url;\n",
       "      if (url in hashes) {\n",
       "        element.crossOrigin = \"anonymous\";\n",
       "        element.integrity = \"sha384-\" + hashes[url];\n",
       "      }\n",
       "      console.debug(\"Bokeh: injecting script tag for BokehJS library: \", url);\n",
       "      document.head.appendChild(element);\n",
       "    }\n",
       "  };\n",
       "\n",
       "  function inject_raw_css(css) {\n",
       "    const element = document.createElement(\"style\");\n",
       "    element.appendChild(document.createTextNode(css));\n",
       "    document.body.appendChild(element);\n",
       "  }\n",
       "\n",
       "  \n",
       "  var js_urls = [\"https://cdn.bokeh.org/bokeh/release/bokeh-2.1.1.min.js\", \"https://cdn.bokeh.org/bokeh/release/bokeh-widgets-2.1.1.min.js\", \"https://cdn.bokeh.org/bokeh/release/bokeh-tables-2.1.1.min.js\", \"https://cdn.bokeh.org/bokeh/release/bokeh-gl-2.1.1.min.js\"];\n",
       "  var css_urls = [];\n",
       "  \n",
       "\n",
       "  var inline_js = [\n",
       "    function(Bokeh) {\n",
       "      Bokeh.set_log_level(\"info\");\n",
       "    },\n",
       "    function(Bokeh) {\n",
       "    \n",
       "    \n",
       "    }\n",
       "  ];\n",
       "\n",
       "  function run_inline_js() {\n",
       "    \n",
       "    if (root.Bokeh !== undefined || force === true) {\n",
       "      \n",
       "    for (var i = 0; i < inline_js.length; i++) {\n",
       "      inline_js[i].call(root, root.Bokeh);\n",
       "    }\n",
       "    } else if (Date.now() < root._bokeh_timeout) {\n",
       "      setTimeout(run_inline_js, 100);\n",
       "    } else if (!root._bokeh_failed_load) {\n",
       "      console.log(\"Bokeh: BokehJS failed to load within specified timeout.\");\n",
       "      root._bokeh_failed_load = true;\n",
       "    } else if (force !== true) {\n",
       "      var cell = $(document.getElementById(null)).parents('.cell').data().cell;\n",
       "      cell.output_area.append_execute_result(NB_LOAD_WARNING)\n",
       "    }\n",
       "\n",
       "  }\n",
       "\n",
       "  if (root._bokeh_is_loading === 0) {\n",
       "    console.debug(\"Bokeh: BokehJS loaded, going straight to plotting\");\n",
       "    run_inline_js();\n",
       "  } else {\n",
       "    load_libs(css_urls, js_urls, function() {\n",
       "      console.debug(\"Bokeh: BokehJS plotting callback run at\", now());\n",
       "      run_inline_js();\n",
       "    });\n",
       "  }\n",
       "}(window));"
      ],
      "application/vnd.bokehjs_load.v0+json": "\n(function(root) {\n  function now() {\n    return new Date();\n  }\n\n  var force = true;\n\n  if (typeof root._bokeh_onload_callbacks === \"undefined\" || force === true) {\n    root._bokeh_onload_callbacks = [];\n    root._bokeh_is_loading = undefined;\n  }\n\n  \n\n  \n  if (typeof (root._bokeh_timeout) === \"undefined\" || force === true) {\n    root._bokeh_timeout = Date.now() + 5000;\n    root._bokeh_failed_load = false;\n  }\n\n  var NB_LOAD_WARNING = {'data': {'text/html':\n     \"<div style='background-color: #fdd'>\\n\"+\n     \"<p>\\n\"+\n     \"BokehJS does not appear to have successfully loaded. If loading BokehJS from CDN, this \\n\"+\n     \"may be due to a slow or bad network connection. Possible fixes:\\n\"+\n     \"</p>\\n\"+\n     \"<ul>\\n\"+\n     \"<li>re-rerun `output_notebook()` to attempt to load from CDN again, or</li>\\n\"+\n     \"<li>use INLINE resources instead, as so:</li>\\n\"+\n     \"</ul>\\n\"+\n     \"<code>\\n\"+\n     \"from bokeh.resources import INLINE\\n\"+\n     \"output_notebook(resources=INLINE)\\n\"+\n     \"</code>\\n\"+\n     \"</div>\"}};\n\n  function display_loaded() {\n    var el = document.getElementById(null);\n    if (el != null) {\n      el.textContent = \"BokehJS is loading...\";\n    }\n    if (root.Bokeh !== undefined) {\n      if (el != null) {\n        el.textContent = \"BokehJS \" + root.Bokeh.version + \" successfully loaded.\";\n      }\n    } else if (Date.now() < root._bokeh_timeout) {\n      setTimeout(display_loaded, 100)\n    }\n  }\n\n\n  function run_callbacks() {\n    try {\n      root._bokeh_onload_callbacks.forEach(function(callback) {\n        if (callback != null)\n          callback();\n      });\n    } finally {\n      delete root._bokeh_onload_callbacks\n    }\n    console.debug(\"Bokeh: all callbacks have finished\");\n  }\n\n  function load_libs(css_urls, js_urls, callback) {\n    if (css_urls == null) css_urls = [];\n    if (js_urls == null) js_urls = [];\n\n    root._bokeh_onload_callbacks.push(callback);\n    if (root._bokeh_is_loading > 0) {\n      console.debug(\"Bokeh: BokehJS is being loaded, scheduling callback at\", now());\n      return null;\n    }\n    if (js_urls == null || js_urls.length === 0) {\n      run_callbacks();\n      return null;\n    }\n    console.debug(\"Bokeh: BokehJS not loaded, scheduling load and callback at\", now());\n    root._bokeh_is_loading = css_urls.length + js_urls.length;\n\n    function on_load() {\n      root._bokeh_is_loading--;\n      if (root._bokeh_is_loading === 0) {\n        console.debug(\"Bokeh: all BokehJS libraries/stylesheets loaded\");\n        run_callbacks()\n      }\n    }\n\n    function on_error() {\n      console.error(\"failed to load \" + url);\n    }\n\n    for (var i = 0; i < css_urls.length; i++) {\n      var url = css_urls[i];\n      const element = document.createElement(\"link\");\n      element.onload = on_load;\n      element.onerror = on_error;\n      element.rel = \"stylesheet\";\n      element.type = \"text/css\";\n      element.href = url;\n      console.debug(\"Bokeh: injecting link tag for BokehJS stylesheet: \", url);\n      document.body.appendChild(element);\n    }\n\n    const hashes = {\"https://cdn.bokeh.org/bokeh/release/bokeh-2.1.1.min.js\": \"kLr4fYcqcSpbuI95brIH3vnnYCquzzSxHPU6XGQCIkQRGJwhg0StNbj1eegrHs12\", \"https://cdn.bokeh.org/bokeh/release/bokeh-widgets-2.1.1.min.js\": \"xIGPmVtaOm+z0BqfSOMn4lOR6ciex448GIKG4eE61LsAvmGj48XcMQZtKcE/UXZe\", \"https://cdn.bokeh.org/bokeh/release/bokeh-tables-2.1.1.min.js\": \"Dc9u1wF/0zApGIWoBbH77iWEHtdmkuYWG839Uzmv8y8yBLXebjO9ZnERsde5Ln/P\", \"https://cdn.bokeh.org/bokeh/release/bokeh-gl-2.1.1.min.js\": \"cT9JaBz7GiRXdENrJLZNSC6eMNF3nh3fa5fTF51Svp+ukxPdwcU5kGXGPBgDCa2j\"};\n\n    for (var i = 0; i < js_urls.length; i++) {\n      var url = js_urls[i];\n      var element = document.createElement('script');\n      element.onload = on_load;\n      element.onerror = on_error;\n      element.async = false;\n      element.src = url;\n      if (url in hashes) {\n        element.crossOrigin = \"anonymous\";\n        element.integrity = \"sha384-\" + hashes[url];\n      }\n      console.debug(\"Bokeh: injecting script tag for BokehJS library: \", url);\n      document.head.appendChild(element);\n    }\n  };\n\n  function inject_raw_css(css) {\n    const element = document.createElement(\"style\");\n    element.appendChild(document.createTextNode(css));\n    document.body.appendChild(element);\n  }\n\n  \n  var js_urls = [\"https://cdn.bokeh.org/bokeh/release/bokeh-2.1.1.min.js\", \"https://cdn.bokeh.org/bokeh/release/bokeh-widgets-2.1.1.min.js\", \"https://cdn.bokeh.org/bokeh/release/bokeh-tables-2.1.1.min.js\", \"https://cdn.bokeh.org/bokeh/release/bokeh-gl-2.1.1.min.js\"];\n  var css_urls = [];\n  \n\n  var inline_js = [\n    function(Bokeh) {\n      Bokeh.set_log_level(\"info\");\n    },\n    function(Bokeh) {\n    \n    \n    }\n  ];\n\n  function run_inline_js() {\n    \n    if (root.Bokeh !== undefined || force === true) {\n      \n    for (var i = 0; i < inline_js.length; i++) {\n      inline_js[i].call(root, root.Bokeh);\n    }\n    } else if (Date.now() < root._bokeh_timeout) {\n      setTimeout(run_inline_js, 100);\n    } else if (!root._bokeh_failed_load) {\n      console.log(\"Bokeh: BokehJS failed to load within specified timeout.\");\n      root._bokeh_failed_load = true;\n    } else if (force !== true) {\n      var cell = $(document.getElementById(null)).parents('.cell').data().cell;\n      cell.output_area.append_execute_result(NB_LOAD_WARNING)\n    }\n\n  }\n\n  if (root._bokeh_is_loading === 0) {\n    console.debug(\"Bokeh: BokehJS loaded, going straight to plotting\");\n    run_inline_js();\n  } else {\n    load_libs(css_urls, js_urls, function() {\n      console.debug(\"Bokeh: BokehJS plotting callback run at\", now());\n      run_inline_js();\n    });\n  }\n}(window));"
     },
     "metadata": {
      "tags": []
     },
     "output_type": "display_data"
    },
    {
     "data": {
      "text/html": [
       "\n",
       "\n",
       "\n",
       "\n",
       "\n",
       "\n",
       "  <div class=\"bk-root\" id=\"9b749238-d529-443a-b207-912c20c1db2a\" data-root-id=\"1108\"></div>\n"
      ]
     },
     "metadata": {
      "tags": []
     },
     "output_type": "display_data"
    },
    {
     "data": {
      "application/javascript": [
       "(function(root) {\n",
       "  function embed_document(root) {\n",
       "    \n",
       "  var docs_json = {\"b0ea25e4-3096-4a0e-9639-e6a6faaa59b8\":{\"roots\":{\"references\":[{\"attributes\":{\"below\":[{\"id\":\"1117\"}],\"center\":[{\"id\":\"1120\"},{\"id\":\"1124\"}],\"left\":[{\"id\":\"1121\"}],\"plot_height\":400,\"renderers\":[{\"id\":\"1142\"}],\"title\":{\"id\":\"1156\"},\"toolbar\":{\"id\":\"1132\"},\"x_range\":{\"id\":\"1109\"},\"x_scale\":{\"id\":\"1113\"},\"y_range\":{\"id\":\"1111\"},\"y_scale\":{\"id\":\"1115\"}},\"id\":\"1108\",\"subtype\":\"Figure\",\"type\":\"Plot\"},{\"attributes\":{},\"id\":\"1125\",\"type\":\"PanTool\"},{\"attributes\":{},\"id\":\"1159\",\"type\":\"BasicTickFormatter\"},{\"attributes\":{\"bottom_units\":\"screen\",\"fill_alpha\":0.5,\"fill_color\":\"lightgrey\",\"left_units\":\"screen\",\"level\":\"overlay\",\"line_alpha\":1.0,\"line_color\":\"black\",\"line_dash\":[4,4],\"line_width\":2,\"right_units\":\"screen\",\"top_units\":\"screen\"},\"id\":\"1131\",\"type\":\"BoxAnnotation\"},{\"attributes\":{},\"id\":\"1126\",\"type\":\"WheelZoomTool\"},{\"attributes\":{\"data_source\":{\"id\":\"1107\"},\"glyph\":{\"id\":\"1140\"},\"hover_glyph\":null,\"muted_glyph\":null,\"nonselection_glyph\":{\"id\":\"1141\"},\"selection_glyph\":null,\"view\":{\"id\":\"1143\"}},\"id\":\"1142\",\"type\":\"GlyphRenderer\"},{\"attributes\":{\"overlay\":{\"id\":\"1131\"}},\"id\":\"1127\",\"type\":\"BoxZoomTool\"},{\"attributes\":{},\"id\":\"1128\",\"type\":\"SaveTool\"},{\"attributes\":{},\"id\":\"1109\",\"type\":\"DataRange1d\"},{\"attributes\":{},\"id\":\"1129\",\"type\":\"ResetTool\"},{\"attributes\":{\"source\":{\"id\":\"1107\"}},\"id\":\"1143\",\"type\":\"CDSView\"},{\"attributes\":{},\"id\":\"1162\",\"type\":\"UnionRenderers\"},{\"attributes\":{},\"id\":\"1113\",\"type\":\"LinearScale\"},{\"attributes\":{\"formatter\":{\"id\":\"1157\"},\"ticker\":{\"id\":\"1122\"}},\"id\":\"1121\",\"type\":\"LinearAxis\"},{\"attributes\":{\"callback\":null,\"tooltips\":[]},\"id\":\"1144\",\"type\":\"HoverTool\"},{\"attributes\":{},\"id\":\"1130\",\"type\":\"HelpTool\"},{\"attributes\":{},\"id\":\"1111\",\"type\":\"DataRange1d\"},{\"attributes\":{\"active_drag\":\"auto\",\"active_inspect\":\"auto\",\"active_multi\":null,\"active_scroll\":{\"id\":\"1126\"},\"active_tap\":\"auto\",\"tools\":[{\"id\":\"1125\"},{\"id\":\"1126\"},{\"id\":\"1127\"},{\"id\":\"1128\"},{\"id\":\"1129\"},{\"id\":\"1130\"},{\"id\":\"1144\"}]},\"id\":\"1132\",\"type\":\"Toolbar\"},{\"attributes\":{},\"id\":\"1115\",\"type\":\"LinearScale\"},{\"attributes\":{\"fill_alpha\":{\"value\":0.1},\"fill_color\":{\"field\":\"color\"},\"line_alpha\":{\"value\":0.1},\"line_color\":{\"field\":\"color\"},\"size\":{\"units\":\"screen\",\"value\":10},\"x\":{\"field\":\"x\"},\"y\":{\"field\":\"y\"}},\"id\":\"1141\",\"type\":\"Scatter\"},{\"attributes\":{},\"id\":\"1161\",\"type\":\"Selection\"},{\"attributes\":{\"formatter\":{\"id\":\"1159\"},\"ticker\":{\"id\":\"1118\"}},\"id\":\"1117\",\"type\":\"LinearAxis\"},{\"attributes\":{},\"id\":\"1118\",\"type\":\"BasicTicker\"},{\"attributes\":{\"axis\":{\"id\":\"1121\"},\"dimension\":1,\"ticker\":null},\"id\":\"1124\",\"type\":\"Grid\"},{\"attributes\":{\"text\":\"\"},\"id\":\"1156\",\"type\":\"Title\"},{\"attributes\":{\"axis\":{\"id\":\"1117\"},\"ticker\":null},\"id\":\"1120\",\"type\":\"Grid\"},{\"attributes\":{\"data\":{\"color\":[\"red\",\"red\",\"red\",\"blue\",\"red\",\"blue\",\"blue\",\"blue\",\"blue\",\"blue\",\"blue\",\"blue\",\"blue\",\"red\",\"red\",\"blue\",\"blue\",\"blue\",\"red\",\"blue\",\"blue\",\"blue\",\"blue\",\"red\",\"blue\",\"blue\",\"red\",\"red\",\"blue\",\"red\",\"blue\",\"red\",\"red\",\"blue\",\"red\",\"red\",\"blue\",\"red\",\"blue\",\"blue\",\"red\",\"blue\",\"blue\",\"blue\",\"red\",\"red\",\"red\",\"red\",\"blue\",\"red\",\"blue\",\"blue\",\"blue\",\"red\",\"blue\",\"red\",\"blue\",\"blue\",\"red\",\"red\",\"red\",\"blue\",\"blue\",\"red\",\"red\",\"blue\",\"blue\",\"red\",\"blue\",\"blue\",\"blue\",\"blue\",\"red\",\"red\",\"red\",\"red\",\"red\",\"blue\",\"red\",\"red\",\"blue\",\"blue\",\"red\",\"red\",\"blue\",\"red\",\"red\",\"red\",\"blue\",\"red\",\"red\",\"red\",\"red\",\"blue\",\"blue\",\"red\",\"red\",\"blue\",\"red\",\"red\",\"blue\",\"red\",\"blue\",\"red\",\"red\",\"red\",\"red\",\"blue\",\"red\",\"blue\",\"blue\",\"blue\",\"blue\",\"red\",\"red\",\"blue\",\"blue\",\"blue\",\"red\",\"blue\",\"red\",\"red\",\"red\",\"red\",\"blue\",\"blue\",\"red\",\"blue\",\"red\",\"blue\",\"blue\",\"blue\",\"red\",\"blue\",\"red\",\"blue\",\"red\",\"red\",\"blue\",\"red\",\"red\",\"blue\",\"red\",\"red\",\"blue\",\"red\",\"red\",\"blue\",\"blue\",\"blue\",\"blue\",\"red\",\"red\",\"red\",\"blue\",\"red\",\"red\",\"red\",\"blue\",\"red\",\"red\",\"red\",\"red\",\"red\",\"red\",\"blue\",\"blue\",\"red\",\"blue\",\"blue\",\"red\",\"red\",\"red\",\"blue\",\"red\",\"red\",\"blue\",\"red\",\"blue\",\"blue\",\"red\",\"blue\",\"red\",\"red\",\"blue\",\"blue\",\"blue\",\"blue\",\"blue\",\"red\",\"red\",\"red\",\"blue\",\"blue\",\"blue\",\"red\",\"red\",\"blue\",\"blue\",\"blue\",\"blue\",\"blue\",\"blue\",\"red\",\"red\",\"red\",\"red\",\"red\",\"red\",\"red\",\"red\",\"red\",\"blue\",\"blue\",\"blue\",\"red\",\"blue\",\"red\",\"blue\",\"blue\",\"red\",\"blue\",\"red\",\"blue\",\"blue\",\"red\",\"blue\",\"blue\",\"blue\",\"blue\",\"red\",\"blue\",\"red\",\"red\",\"red\",\"blue\",\"red\",\"blue\",\"red\",\"red\",\"red\",\"blue\",\"red\",\"blue\",\"red\",\"blue\",\"red\",\"blue\",\"red\",\"blue\",\"blue\",\"blue\",\"blue\",\"blue\",\"blue\",\"blue\",\"red\",\"red\",\"red\",\"red\",\"blue\",\"red\",\"red\",\"blue\",\"blue\",\"blue\",\"red\",\"red\",\"red\",\"red\",\"blue\",\"blue\",\"blue\",\"blue\",\"blue\",\"blue\",\"blue\",\"red\",\"blue\",\"red\",\"red\",\"red\",\"blue\",\"red\",\"red\",\"blue\",\"blue\",\"red\",\"blue\",\"blue\",\"red\",\"red\",\"blue\",\"red\",\"red\",\"blue\",\"blue\",\"red\",\"blue\",\"red\",\"red\",\"blue\",\"red\",\"red\",\"blue\",\"red\",\"blue\",\"blue\",\"red\",\"red\",\"blue\",\"blue\",\"blue\",\"red\",\"blue\",\"blue\",\"red\",\"red\",\"red\",\"blue\",\"blue\",\"red\",\"blue\",\"red\",\"red\",\"red\",\"red\",\"red\",\"blue\",\"blue\",\"red\",\"red\",\"red\",\"red\",\"red\",\"blue\",\"red\",\"red\",\"red\",\"blue\",\"blue\",\"blue\",\"blue\",\"blue\",\"red\",\"blue\",\"blue\",\"red\",\"red\",\"blue\",\"blue\",\"blue\",\"blue\",\"red\",\"blue\",\"blue\",\"blue\",\"blue\",\"red\",\"blue\",\"red\",\"blue\",\"red\",\"red\",\"blue\",\"blue\",\"blue\",\"red\",\"red\",\"blue\",\"red\",\"red\",\"red\",\"blue\",\"red\",\"blue\",\"blue\",\"blue\",\"red\",\"red\",\"red\",\"blue\",\"blue\",\"red\",\"blue\",\"blue\",\"red\",\"blue\",\"blue\",\"red\",\"blue\",\"blue\",\"red\",\"blue\",\"red\",\"red\",\"blue\",\"blue\",\"blue\",\"red\",\"blue\",\"blue\",\"blue\",\"red\",\"red\",\"blue\",\"blue\",\"blue\",\"red\",\"blue\",\"blue\",\"blue\",\"red\",\"blue\",\"blue\",\"blue\",\"blue\",\"red\",\"blue\",\"blue\",\"red\",\"red\",\"red\",\"blue\",\"blue\",\"blue\",\"red\",\"red\",\"blue\",\"blue\",\"blue\",\"red\",\"blue\",\"blue\",\"blue\",\"blue\",\"blue\",\"red\",\"red\",\"blue\",\"blue\",\"blue\",\"red\",\"red\",\"blue\",\"red\",\"red\",\"red\",\"blue\",\"red\",\"red\",\"blue\",\"red\",\"blue\",\"blue\",\"red\",\"blue\",\"blue\",\"red\",\"red\",\"blue\",\"blue\",\"blue\",\"blue\",\"red\",\"red\",\"red\",\"red\",\"blue\",\"blue\",\"blue\",\"red\",\"blue\",\"blue\",\"red\",\"blue\",\"red\",\"red\",\"blue\",\"red\",\"blue\",\"red\",\"red\",\"blue\",\"red\",\"blue\",\"blue\",\"blue\",\"red\",\"blue\",\"red\",\"blue\",\"blue\",\"blue\",\"blue\",\"blue\",\"red\",\"blue\",\"blue\",\"red\",\"blue\",\"red\",\"blue\",\"red\",\"blue\",\"red\",\"red\",\"red\",\"red\",\"red\",\"red\",\"blue\",\"blue\",\"blue\",\"red\",\"blue\",\"red\",\"red\",\"blue\",\"red\",\"red\",\"red\",\"red\",\"red\",\"red\",\"blue\",\"blue\",\"blue\",\"red\",\"blue\",\"red\",\"blue\",\"blue\",\"red\",\"red\",\"red\",\"blue\",\"red\",\"blue\",\"blue\",\"blue\",\"red\",\"blue\",\"blue\",\"red\",\"blue\",\"blue\",\"blue\",\"blue\",\"blue\",\"blue\",\"red\",\"red\",\"red\",\"blue\",\"blue\",\"red\",\"blue\",\"blue\",\"blue\",\"red\",\"blue\",\"red\",\"blue\",\"blue\",\"red\",\"red\",\"blue\",\"red\",\"red\",\"red\",\"blue\",\"red\",\"red\",\"blue\",\"red\",\"red\",\"blue\",\"blue\",\"blue\",\"red\",\"red\",\"red\",\"blue\",\"blue\",\"blue\",\"red\",\"red\",\"red\",\"red\",\"blue\",\"blue\",\"red\",\"red\",\"red\",\"red\",\"red\",\"red\",\"blue\",\"blue\",\"red\",\"red\",\"red\",\"blue\",\"red\",\"red\",\"red\",\"blue\",\"red\",\"red\",\"blue\",\"red\",\"red\",\"blue\",\"blue\",\"blue\",\"red\",\"blue\",\"blue\",\"blue\",\"red\",\"red\",\"red\",\"blue\",\"blue\",\"red\",\"red\",\"blue\",\"red\",\"blue\",\"blue\",\"blue\",\"red\",\"red\",\"blue\",\"red\",\"red\",\"blue\",\"red\",\"blue\",\"blue\",\"red\",\"red\",\"red\",\"red\",\"red\",\"red\",\"red\",\"red\",\"red\",\"blue\",\"blue\",\"blue\",\"red\",\"red\",\"blue\",\"blue\",\"blue\",\"red\",\"blue\",\"blue\",\"blue\",\"blue\",\"red\",\"blue\",\"red\",\"blue\",\"red\",\"red\",\"red\",\"blue\",\"red\",\"red\",\"red\",\"blue\",\"red\",\"blue\",\"blue\",\"blue\",\"red\",\"red\",\"red\",\"blue\",\"blue\",\"blue\",\"red\",\"red\",\"red\",\"blue\",\"red\",\"red\",\"red\",\"blue\",\"red\",\"blue\",\"red\",\"red\",\"blue\",\"red\",\"blue\",\"blue\",\"red\",\"red\",\"blue\",\"blue\",\"blue\",\"blue\",\"red\",\"blue\",\"blue\",\"red\",\"red\",\"red\",\"red\",\"blue\",\"blue\",\"red\",\"red\",\"red\",\"red\",\"red\",\"blue\",\"blue\",\"red\",\"red\",\"red\",\"blue\",\"blue\",\"blue\",\"blue\",\"blue\",\"red\",\"red\",\"red\",\"blue\",\"blue\",\"red\",\"red\",\"red\",\"red\",\"red\",\"blue\",\"blue\",\"blue\",\"red\",\"red\",\"red\",\"red\",\"red\",\"blue\",\"red\",\"red\",\"red\",\"blue\",\"red\",\"red\",\"red\",\"red\",\"red\",\"red\",\"red\",\"red\",\"red\",\"blue\",\"blue\",\"blue\",\"blue\",\"blue\",\"red\",\"blue\",\"blue\",\"red\",\"blue\",\"red\",\"red\",\"blue\",\"red\",\"red\",\"blue\",\"red\",\"blue\",\"red\",\"red\",\"red\",\"blue\",\"red\",\"blue\",\"blue\",\"blue\",\"red\",\"blue\",\"blue\",\"red\",\"blue\",\"blue\",\"blue\",\"blue\",\"red\",\"blue\",\"red\",\"red\",\"red\",\"red\",\"blue\",\"blue\",\"red\",\"red\",\"blue\",\"red\",\"red\",\"blue\",\"red\",\"blue\",\"red\",\"blue\",\"blue\",\"red\",\"blue\",\"blue\",\"blue\",\"red\",\"blue\",\"red\",\"blue\",\"blue\",\"red\",\"red\",\"red\",\"blue\",\"blue\",\"blue\",\"red\",\"blue\",\"red\",\"blue\",\"blue\",\"red\",\"blue\",\"blue\",\"blue\",\"red\",\"red\",\"red\",\"blue\",\"red\",\"red\",\"red\",\"blue\",\"red\",\"red\",\"blue\",\"red\",\"blue\",\"blue\",\"blue\",\"red\",\"blue\",\"blue\",\"red\",\"red\",\"red\",\"blue\",\"blue\",\"blue\",\"red\",\"blue\",\"red\",\"blue\",\"red\",\"red\",\"blue\",\"red\",\"red\",\"red\",\"blue\",\"blue\",\"blue\",\"red\",\"red\",\"red\",\"red\",\"red\",\"red\",\"blue\",\"red\",\"red\",\"blue\",\"red\",\"red\",\"blue\",\"red\",\"blue\",\"blue\",\"blue\",\"blue\",\"red\",\"blue\",\"blue\",\"blue\",\"blue\",\"red\",\"red\",\"blue\",\"blue\",\"red\",\"red\",\"red\",\"blue\",\"red\",\"red\",\"blue\",\"blue\",\"red\",\"red\",\"blue\",\"red\",\"red\",\"blue\",\"red\",\"red\",\"red\",\"blue\",\"blue\",\"red\",\"red\",\"red\",\"blue\",\"red\",\"blue\",\"red\",\"blue\",\"red\",\"blue\",\"red\",\"blue\",\"red\",\"red\",\"blue\",\"blue\",\"blue\",\"red\",\"red\",\"red\",\"red\",\"red\",\"red\",\"blue\",\"red\",\"blue\",\"red\",\"blue\",\"red\",\"blue\",\"blue\",\"blue\",\"red\",\"blue\",\"blue\",\"red\",\"blue\",\"blue\",\"blue\",\"red\",\"red\",\"red\",\"blue\",\"blue\",\"blue\",\"red\",\"red\",\"blue\",\"red\",\"red\",\"red\",\"red\",\"blue\",\"red\",\"red\",\"red\",\"red\",\"blue\",\"blue\",\"blue\",\"red\",\"blue\",\"red\",\"red\",\"blue\",\"red\",\"blue\",\"blue\",\"red\",\"red\",\"red\",\"blue\",\"blue\",\"blue\",\"blue\",\"red\",\"red\",\"blue\",\"blue\",\"red\",\"blue\",\"blue\",\"blue\",\"blue\",\"red\",\"blue\",\"red\",\"red\",\"blue\",\"blue\",\"blue\",\"blue\",\"blue\",\"red\",\"red\",\"red\",\"red\",\"blue\",\"red\",\"blue\",\"red\",\"blue\",\"red\",\"blue\",\"red\",\"blue\",\"red\",\"blue\",\"blue\",\"red\",\"blue\",\"red\",\"blue\",\"red\",\"blue\",\"blue\",\"blue\",\"red\",\"red\",\"blue\",\"red\",\"red\",\"blue\",\"blue\",\"blue\",\"red\",\"blue\",\"blue\",\"red\",\"red\",\"red\",\"blue\",\"red\",\"blue\",\"blue\",\"red\",\"red\",\"red\",\"blue\",\"red\",\"blue\",\"blue\",\"blue\",\"red\",\"blue\",\"red\",\"red\",\"red\",\"red\",\"red\",\"red\",\"blue\",\"red\",\"blue\",\"blue\",\"blue\",\"red\",\"blue\",\"red\",\"red\",\"blue\",\"blue\",\"red\",\"red\",\"blue\",\"red\",\"blue\",\"red\",\"red\",\"blue\",\"red\",\"red\",\"blue\",\"red\",\"red\",\"red\",\"blue\",\"blue\",\"blue\",\"red\",\"blue\",\"blue\",\"blue\",\"red\",\"blue\",\"red\",\"red\",\"blue\",\"red\",\"blue\",\"blue\",\"red\",\"blue\",\"red\",\"blue\",\"blue\",\"red\",\"blue\",\"blue\",\"red\",\"blue\",\"blue\",\"blue\",\"red\",\"red\",\"blue\",\"blue\",\"red\",\"blue\",\"red\",\"red\",\"red\",\"blue\",\"blue\",\"blue\",\"red\",\"blue\",\"blue\",\"blue\",\"red\",\"blue\",\"blue\",\"blue\",\"blue\",\"blue\",\"red\",\"blue\",\"blue\",\"red\",\"red\",\"blue\",\"red\",\"red\",\"red\",\"blue\",\"blue\",\"blue\",\"red\",\"blue\",\"blue\",\"blue\",\"red\",\"red\",\"red\",\"red\",\"red\",\"blue\",\"blue\",\"red\",\"blue\",\"red\",\"blue\",\"blue\",\"blue\",\"red\",\"red\",\"red\",\"blue\",\"blue\",\"red\",\"red\",\"blue\",\"red\",\"blue\",\"blue\",\"red\",\"blue\",\"blue\",\"red\",\"red\",\"red\",\"red\",\"red\",\"red\",\"blue\",\"red\",\"red\",\"blue\",\"blue\",\"red\",\"blue\",\"blue\",\"blue\",\"red\",\"blue\",\"blue\",\"blue\",\"blue\",\"blue\",\"red\",\"red\",\"red\",\"red\",\"red\",\"red\",\"blue\",\"blue\",\"red\",\"red\",\"red\",\"blue\",\"red\",\"blue\",\"blue\",\"red\",\"blue\",\"blue\",\"red\",\"blue\",\"red\",\"red\",\"blue\",\"red\",\"red\",\"blue\",\"blue\",\"blue\",\"red\",\"red\",\"red\",\"blue\",\"blue\",\"red\",\"blue\",\"blue\",\"blue\",\"red\",\"red\",\"red\",\"blue\",\"red\",\"red\",\"red\",\"blue\",\"blue\",\"red\",\"blue\",\"blue\",\"blue\",\"blue\",\"blue\",\"blue\",\"blue\",\"blue\",\"blue\",\"red\",\"blue\",\"red\",\"red\",\"blue\",\"blue\",\"red\",\"red\",\"blue\",\"blue\",\"blue\",\"red\"],\"x\":{\"__ndarray__\":\"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\",\"dtype\":\"float64\",\"order\":\"little\",\"shape\":[1280]},\"y\":{\"__ndarray__\":\"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\",\"dtype\":\"float64\",\"order\":\"little\",\"shape\":[1280]}},\"selected\":{\"id\":\"1161\"},\"selection_policy\":{\"id\":\"1162\"}},\"id\":\"1107\",\"type\":\"ColumnDataSource\"},{\"attributes\":{},\"id\":\"1157\",\"type\":\"BasicTickFormatter\"},{\"attributes\":{},\"id\":\"1122\",\"type\":\"BasicTicker\"},{\"attributes\":{\"fill_alpha\":{\"value\":0.25},\"fill_color\":{\"field\":\"color\"},\"line_alpha\":{\"value\":0.25},\"line_color\":{\"field\":\"color\"},\"size\":{\"units\":\"screen\",\"value\":10},\"x\":{\"field\":\"x\"},\"y\":{\"field\":\"y\"}},\"id\":\"1140\",\"type\":\"Scatter\"}],\"root_ids\":[\"1108\"]},\"title\":\"Bokeh Application\",\"version\":\"2.1.1\"}};\n",
       "  var render_items = [{\"docid\":\"b0ea25e4-3096-4a0e-9639-e6a6faaa59b8\",\"root_ids\":[\"1108\"],\"roots\":{\"1108\":\"9b749238-d529-443a-b207-912c20c1db2a\"}}];\n",
       "  root.Bokeh.embed.embed_items_notebook(docs_json, render_items);\n",
       "\n",
       "  }\n",
       "  if (root.Bokeh !== undefined) {\n",
       "    embed_document(root);\n",
       "  } else {\n",
       "    var attempts = 0;\n",
       "    var timer = setInterval(function(root) {\n",
       "      if (root.Bokeh !== undefined) {\n",
       "        clearInterval(timer);\n",
       "        embed_document(root);\n",
       "      } else {\n",
       "        attempts++;\n",
       "        if (attempts > 100) {\n",
       "          clearInterval(timer);\n",
       "          console.log(\"Bokeh: ERROR: Unable to run BokehJS code because BokehJS library is missing\");\n",
       "        }\n",
       "      }\n",
       "    }, 10, root)\n",
       "  }\n",
       "})(window);"
      ],
      "application/vnd.bokehjs_exec.v0+json": ""
     },
     "metadata": {
      "application/vnd.bokehjs_exec.v0+json": {
       "id": "1108"
      },
      "tags": []
     },
     "output_type": "display_data"
    },
    {
     "data": {
      "text/html": [
       "<div style=\"display: table;\"><div style=\"display: table-row;\"><div style=\"display: table-cell;\"><b title=\"bokeh.plotting.figure.Figure\">Figure</b>(</div><div style=\"display: table-cell;\">id&nbsp;=&nbsp;'1108', <span id=\"1219\" style=\"cursor: pointer;\">&hellip;)</span></div></div><div class=\"1218\" style=\"display: none;\"><div style=\"display: table-cell;\"></div><div style=\"display: table-cell;\">above&nbsp;=&nbsp;[],</div></div><div class=\"1218\" style=\"display: none;\"><div style=\"display: table-cell;\"></div><div style=\"display: table-cell;\">align&nbsp;=&nbsp;'start',</div></div><div class=\"1218\" style=\"display: none;\"><div style=\"display: table-cell;\"></div><div style=\"display: table-cell;\">aspect_ratio&nbsp;=&nbsp;None,</div></div><div class=\"1218\" style=\"display: none;\"><div style=\"display: table-cell;\"></div><div style=\"display: table-cell;\">aspect_scale&nbsp;=&nbsp;1,</div></div><div class=\"1218\" style=\"display: none;\"><div style=\"display: table-cell;\"></div><div style=\"display: table-cell;\">background&nbsp;=&nbsp;None,</div></div><div class=\"1218\" style=\"display: none;\"><div style=\"display: table-cell;\"></div><div style=\"display: table-cell;\">background_fill_alpha&nbsp;=&nbsp;1.0,</div></div><div class=\"1218\" style=\"display: none;\"><div style=\"display: table-cell;\"></div><div style=\"display: table-cell;\">background_fill_color&nbsp;=&nbsp;'#ffffff',</div></div><div class=\"1218\" style=\"display: none;\"><div style=\"display: table-cell;\"></div><div style=\"display: table-cell;\">below&nbsp;=&nbsp;[LinearAxis(id='1117', ...)],</div></div><div class=\"1218\" style=\"display: none;\"><div style=\"display: table-cell;\"></div><div style=\"display: table-cell;\">border_fill_alpha&nbsp;=&nbsp;1.0,</div></div><div class=\"1218\" style=\"display: none;\"><div style=\"display: table-cell;\"></div><div style=\"display: table-cell;\">border_fill_color&nbsp;=&nbsp;'#ffffff',</div></div><div class=\"1218\" style=\"display: none;\"><div style=\"display: table-cell;\"></div><div style=\"display: table-cell;\">center&nbsp;=&nbsp;[Grid(id='1120', ...), Grid(id='1124', ...)],</div></div><div class=\"1218\" style=\"display: none;\"><div style=\"display: table-cell;\"></div><div style=\"display: table-cell;\">css_classes&nbsp;=&nbsp;[],</div></div><div class=\"1218\" style=\"display: none;\"><div style=\"display: table-cell;\"></div><div style=\"display: table-cell;\">disabled&nbsp;=&nbsp;False,</div></div><div class=\"1218\" style=\"display: none;\"><div style=\"display: table-cell;\"></div><div style=\"display: table-cell;\">extra_x_ranges&nbsp;=&nbsp;{},</div></div><div class=\"1218\" style=\"display: none;\"><div style=\"display: table-cell;\"></div><div style=\"display: table-cell;\">extra_y_ranges&nbsp;=&nbsp;{},</div></div><div class=\"1218\" style=\"display: none;\"><div style=\"display: table-cell;\"></div><div style=\"display: table-cell;\">frame_height&nbsp;=&nbsp;None,</div></div><div class=\"1218\" style=\"display: none;\"><div style=\"display: table-cell;\"></div><div style=\"display: table-cell;\">frame_width&nbsp;=&nbsp;None,</div></div><div class=\"1218\" style=\"display: none;\"><div style=\"display: table-cell;\"></div><div style=\"display: table-cell;\">height&nbsp;=&nbsp;None,</div></div><div class=\"1218\" style=\"display: none;\"><div style=\"display: table-cell;\"></div><div style=\"display: table-cell;\">height_policy&nbsp;=&nbsp;'auto',</div></div><div class=\"1218\" style=\"display: none;\"><div style=\"display: table-cell;\"></div><div style=\"display: table-cell;\">hidpi&nbsp;=&nbsp;True,</div></div><div class=\"1218\" style=\"display: none;\"><div style=\"display: table-cell;\"></div><div style=\"display: table-cell;\">js_event_callbacks&nbsp;=&nbsp;{},</div></div><div class=\"1218\" style=\"display: none;\"><div style=\"display: table-cell;\"></div><div style=\"display: table-cell;\">js_property_callbacks&nbsp;=&nbsp;{},</div></div><div class=\"1218\" style=\"display: none;\"><div style=\"display: table-cell;\"></div><div style=\"display: table-cell;\">left&nbsp;=&nbsp;[LinearAxis(id='1121', ...)],</div></div><div class=\"1218\" style=\"display: none;\"><div style=\"display: table-cell;\"></div><div style=\"display: table-cell;\">lod_factor&nbsp;=&nbsp;10,</div></div><div class=\"1218\" style=\"display: none;\"><div style=\"display: table-cell;\"></div><div style=\"display: table-cell;\">lod_interval&nbsp;=&nbsp;300,</div></div><div class=\"1218\" style=\"display: none;\"><div style=\"display: table-cell;\"></div><div style=\"display: table-cell;\">lod_threshold&nbsp;=&nbsp;2000,</div></div><div class=\"1218\" style=\"display: none;\"><div style=\"display: table-cell;\"></div><div style=\"display: table-cell;\">lod_timeout&nbsp;=&nbsp;500,</div></div><div class=\"1218\" style=\"display: none;\"><div style=\"display: table-cell;\"></div><div style=\"display: table-cell;\">margin&nbsp;=&nbsp;(0, 0, 0, 0),</div></div><div class=\"1218\" style=\"display: none;\"><div style=\"display: table-cell;\"></div><div style=\"display: table-cell;\">match_aspect&nbsp;=&nbsp;False,</div></div><div class=\"1218\" style=\"display: none;\"><div style=\"display: table-cell;\"></div><div style=\"display: table-cell;\">max_height&nbsp;=&nbsp;None,</div></div><div class=\"1218\" style=\"display: none;\"><div style=\"display: table-cell;\"></div><div style=\"display: table-cell;\">max_width&nbsp;=&nbsp;None,</div></div><div class=\"1218\" style=\"display: none;\"><div style=\"display: table-cell;\"></div><div style=\"display: table-cell;\">min_border&nbsp;=&nbsp;5,</div></div><div class=\"1218\" style=\"display: none;\"><div style=\"display: table-cell;\"></div><div style=\"display: table-cell;\">min_border_bottom&nbsp;=&nbsp;None,</div></div><div class=\"1218\" style=\"display: none;\"><div style=\"display: table-cell;\"></div><div style=\"display: table-cell;\">min_border_left&nbsp;=&nbsp;None,</div></div><div class=\"1218\" style=\"display: none;\"><div style=\"display: table-cell;\"></div><div style=\"display: table-cell;\">min_border_right&nbsp;=&nbsp;None,</div></div><div class=\"1218\" style=\"display: none;\"><div style=\"display: table-cell;\"></div><div style=\"display: table-cell;\">min_border_top&nbsp;=&nbsp;None,</div></div><div class=\"1218\" style=\"display: none;\"><div style=\"display: table-cell;\"></div><div style=\"display: table-cell;\">min_height&nbsp;=&nbsp;None,</div></div><div class=\"1218\" style=\"display: none;\"><div style=\"display: table-cell;\"></div><div style=\"display: table-cell;\">min_width&nbsp;=&nbsp;None,</div></div><div class=\"1218\" style=\"display: none;\"><div style=\"display: table-cell;\"></div><div style=\"display: table-cell;\">name&nbsp;=&nbsp;None,</div></div><div class=\"1218\" style=\"display: none;\"><div style=\"display: table-cell;\"></div><div style=\"display: table-cell;\">outline_line_alpha&nbsp;=&nbsp;1.0,</div></div><div class=\"1218\" style=\"display: none;\"><div style=\"display: table-cell;\"></div><div style=\"display: table-cell;\">outline_line_cap&nbsp;=&nbsp;'butt',</div></div><div class=\"1218\" style=\"display: none;\"><div style=\"display: table-cell;\"></div><div style=\"display: table-cell;\">outline_line_color&nbsp;=&nbsp;'#e5e5e5',</div></div><div class=\"1218\" style=\"display: none;\"><div style=\"display: table-cell;\"></div><div style=\"display: table-cell;\">outline_line_dash&nbsp;=&nbsp;[],</div></div><div class=\"1218\" style=\"display: none;\"><div style=\"display: table-cell;\"></div><div style=\"display: table-cell;\">outline_line_dash_offset&nbsp;=&nbsp;0,</div></div><div class=\"1218\" style=\"display: none;\"><div style=\"display: table-cell;\"></div><div style=\"display: table-cell;\">outline_line_join&nbsp;=&nbsp;'bevel',</div></div><div class=\"1218\" style=\"display: none;\"><div style=\"display: table-cell;\"></div><div style=\"display: table-cell;\">outline_line_width&nbsp;=&nbsp;1,</div></div><div class=\"1218\" style=\"display: none;\"><div style=\"display: table-cell;\"></div><div style=\"display: table-cell;\">output_backend&nbsp;=&nbsp;'canvas',</div></div><div class=\"1218\" style=\"display: none;\"><div style=\"display: table-cell;\"></div><div style=\"display: table-cell;\">plot_height&nbsp;=&nbsp;400,</div></div><div class=\"1218\" style=\"display: none;\"><div style=\"display: table-cell;\"></div><div style=\"display: table-cell;\">plot_width&nbsp;=&nbsp;600,</div></div><div class=\"1218\" style=\"display: none;\"><div style=\"display: table-cell;\"></div><div style=\"display: table-cell;\">renderers&nbsp;=&nbsp;[GlyphRenderer(id='1142', ...)],</div></div><div class=\"1218\" style=\"display: none;\"><div style=\"display: table-cell;\"></div><div style=\"display: table-cell;\">reset_policy&nbsp;=&nbsp;'standard',</div></div><div class=\"1218\" style=\"display: none;\"><div style=\"display: table-cell;\"></div><div style=\"display: table-cell;\">right&nbsp;=&nbsp;[],</div></div><div class=\"1218\" style=\"display: none;\"><div style=\"display: table-cell;\"></div><div style=\"display: table-cell;\">sizing_mode&nbsp;=&nbsp;None,</div></div><div class=\"1218\" style=\"display: none;\"><div style=\"display: table-cell;\"></div><div style=\"display: table-cell;\">subscribed_events&nbsp;=&nbsp;[],</div></div><div class=\"1218\" style=\"display: none;\"><div style=\"display: table-cell;\"></div><div style=\"display: table-cell;\">tags&nbsp;=&nbsp;[],</div></div><div class=\"1218\" style=\"display: none;\"><div style=\"display: table-cell;\"></div><div style=\"display: table-cell;\">title&nbsp;=&nbsp;Title(id='1156', ...),</div></div><div class=\"1218\" style=\"display: none;\"><div style=\"display: table-cell;\"></div><div style=\"display: table-cell;\">title_location&nbsp;=&nbsp;'above',</div></div><div class=\"1218\" style=\"display: none;\"><div style=\"display: table-cell;\"></div><div style=\"display: table-cell;\">toolbar&nbsp;=&nbsp;Toolbar(id='1132', ...),</div></div><div class=\"1218\" style=\"display: none;\"><div style=\"display: table-cell;\"></div><div style=\"display: table-cell;\">toolbar_location&nbsp;=&nbsp;'right',</div></div><div class=\"1218\" style=\"display: none;\"><div style=\"display: table-cell;\"></div><div style=\"display: table-cell;\">toolbar_sticky&nbsp;=&nbsp;True,</div></div><div class=\"1218\" style=\"display: none;\"><div style=\"display: table-cell;\"></div><div style=\"display: table-cell;\">visible&nbsp;=&nbsp;True,</div></div><div class=\"1218\" style=\"display: none;\"><div style=\"display: table-cell;\"></div><div style=\"display: table-cell;\">width&nbsp;=&nbsp;None,</div></div><div class=\"1218\" style=\"display: none;\"><div style=\"display: table-cell;\"></div><div style=\"display: table-cell;\">width_policy&nbsp;=&nbsp;'auto',</div></div><div class=\"1218\" style=\"display: none;\"><div style=\"display: table-cell;\"></div><div style=\"display: table-cell;\">x_range&nbsp;=&nbsp;DataRange1d(id='1109', ...),</div></div><div class=\"1218\" style=\"display: none;\"><div style=\"display: table-cell;\"></div><div style=\"display: table-cell;\">x_scale&nbsp;=&nbsp;LinearScale(id='1113', ...),</div></div><div class=\"1218\" style=\"display: none;\"><div style=\"display: table-cell;\"></div><div style=\"display: table-cell;\">y_range&nbsp;=&nbsp;DataRange1d(id='1111', ...),</div></div><div class=\"1218\" style=\"display: none;\"><div style=\"display: table-cell;\"></div><div style=\"display: table-cell;\">y_scale&nbsp;=&nbsp;LinearScale(id='1115', ...))</div></div></div>\n",
       "<script>\n",
       "(function() {\n",
       "  var expanded = false;\n",
       "  var ellipsis = document.getElementById(\"1219\");\n",
       "  ellipsis.addEventListener(\"click\", function() {\n",
       "    var rows = document.getElementsByClassName(\"1218\");\n",
       "    for (var i = 0; i < rows.length; i++) {\n",
       "      var el = rows[i];\n",
       "      el.style.display = expanded ? \"none\" : \"table-row\";\n",
       "    }\n",
       "    ellipsis.innerHTML = expanded ? \"&hellip;)\" : \"&lsaquo;&lsaquo;&lsaquo;\";\n",
       "    expanded = !expanded;\n",
       "  });\n",
       "})();\n",
       "</script>\n"
      ],
      "text/plain": [
       "Figure(id='1108', ...)"
      ]
     },
     "execution_count": 19,
     "metadata": {
      "tags": []
     },
     "output_type": "execute_result"
    }
   ],
   "source": [
    "draw_vectors(\n",
    "    examples[\"transformed_features\"][:, 0], \n",
    "    examples[\"transformed_features\"][:, 1], \n",
    "    color=[[\"red\", \"blue\"][t] for t in examples[\"targets\"]]\n",
    "    )"
   ]
  },
  {
   "cell_type": "markdown",
   "metadata": {
    "id": "0fNF6LRQ9MPI"
   },
   "source": [
    "Скорее всего, на визуализации нет четкого разделения твитов между классами. Это значит, что по полученным нами векторам твитов не так-то просто определить, к какому классу твит пренадлежит. Значит, обычный линейный классификатор не очень хорошо справится с задачей. Надо будет делать глубокую (хотя бы два слоя) нейронную сеть.\n",
    "\n",
    "Подготовим загрузчики данных.\n",
    "Усреднее векторов будем делать в \"батчевалке\"(`collate_fn`). Она используется для того, чтобы собирать из данных `torch.Tensor` батчи, которые можно отправлять в модель.\n"
   ]
  },
  {
   "cell_type": "code",
   "execution_count": null,
   "metadata": {
    "id": "y1XapsADtITv"
   },
   "outputs": [],
   "source": [
    "from torch.utils.data import DataLoader\n",
    "\n",
    "\n",
    "batch_size = 1024\n",
    "num_workers = 4\n",
    "\n",
    "def average_emb(batch):\n",
    "    features = [np.mean(b[\"feature\"], axis=0) for b in batch]\n",
    "    targets = [b[\"target\"] for b in batch]\n",
    "\n",
    "    return {\"features\": torch.FloatTensor(features), \"targets\": torch.LongTensor(targets)}\n",
    "\n",
    "\n",
    "train_size = math.ceil(len(dev) * 0.8)\n",
    "\n",
    "train, valid = random_split(dev, [train_size, len(dev) - train_size])\n",
    "\n",
    "train_loader = DataLoader(train, batch_size=batch_size, num_workers=num_workers, shuffle=True, drop_last=True, collate_fn=average_emb)\n",
    "valid_loader = DataLoader(valid, batch_size=batch_size, num_workers=num_workers, shuffle=False, drop_last=False, collate_fn=average_emb)"
   ]
  },
  {
   "cell_type": "markdown",
   "metadata": {
    "id": "p-zs0WEK-Vkt"
   },
   "source": [
    "Определим функции для тренировки и теста модели:"
   ]
  },
  {
   "cell_type": "code",
   "execution_count": null,
   "metadata": {
    "id": "U--T2Gjw1r27"
   },
   "outputs": [],
   "source": [
    "from tqdm.notebook import tqdm\n",
    "\n",
    "\n",
    "def training(model, optimizer, criterion, train_loader, epoch, device=\"cpu\"):\n",
    "    pbar = tqdm(train_loader, desc=f\"Epoch {e + 1}. Train Loss: {0}\")\n",
    "    model.train()\n",
    "    for batch in pbar:\n",
    "        optimizer.zero_grad()\n",
    "\n",
    "        features = batch[\"features\"].to(device)\n",
    "        targets = batch[\"targets\"].to(device)\n",
    "\n",
    "        # Получи предсказания модели\n",
    "        pred = model(features)\n",
    "        loss = criterion(pred, targets) # Посчитай лосс\n",
    "        # Обнови параметры модели\n",
    "        loss.backward()\n",
    "        optimizer.step()\n",
    "\n",
    "        pbar.set_description(f\"Epoch {e + 1}. Train Loss: {loss:.4}\")\n",
    "    \n",
    "\n",
    "def testing(model, criterion, test_loader, device=\"cpu\"):\n",
    "    pbar = tqdm(test_loader, desc=f\"Test Loss: {0}, Test Acc: {0}\")\n",
    "    mean_loss = 0\n",
    "    mean_acc = 0\n",
    "    model.eval()\n",
    "    with torch.no_grad():\n",
    "        for batch in pbar:\n",
    "            features = batch[\"features\"].to(device)\n",
    "            targets = batch[\"targets\"].to(device)\n",
    "\n",
    "            # Получи предсказания модели\n",
    "            pred = model(features)\n",
    "            loss = criterion(pred, targets) # Посчитай лосс\n",
    "            acc = torch.sum((pred[:, 1] > 0.5) == targets) / len(targets) # Посчитай точность модели\n",
    "\n",
    "            mean_loss += loss.item()\n",
    "            mean_acc += acc.item()\n",
    "\n",
    "            pbar.set_description(f\"Test Loss: {loss:.4}, Test Acc: {acc:.4}\")\n",
    "\n",
    "    pbar.set_description(f\"Test Loss: {mean_loss / len(test_loader):.4}, Test Acc: {mean_acc / len(test_loader):.4}\")\n",
    "\n",
    "    return {\"Test Loss\": mean_loss / len(test_loader), \"Test Acc\": mean_acc / len(test_loader)}"
   ]
  },
  {
   "cell_type": "markdown",
   "metadata": {
    "id": "oVg_XBBb-YBH"
   },
   "source": [
    "Создадим модель, оптимизатор и целевую функцию. Вы можете сами выбрать количество слоев в нейронной сети, ваш любимый оптимизатор и целевую функцию.\n"
   ]
  },
  {
   "cell_type": "code",
   "execution_count": null,
   "metadata": {
    "id": "Y5k-F79-3wz1"
   },
   "outputs": [],
   "source": [
    "def make_model(vector_size, num_classes):\r\n",
    "    model_ = nn.Sequential(\r\n",
    "                nn.Linear(vector_size, 1000),\r\n",
    "                nn.ReLU(),\r\n",
    "                nn.Linear(1000, num_classes),\r\n",
    "            )\r\n",
    "    return model_"
   ]
  },
  {
   "cell_type": "code",
   "execution_count": null,
   "metadata": {
    "id": "EBoZ4F3Fx1Hm"
   },
   "outputs": [],
   "source": [
    "import torch.nn as nn\n",
    "from torch.optim import Adam\n",
    "\n",
    "\n",
    "# Не забудь поиграться с параметрами ;)\n",
    "vector_size = dev.word2vec.vector_size\n",
    "num_classes = 2\n",
    "lr = 1e-2\n",
    "num_epochs = 1\n",
    "\n",
    "model = make_model(vector_size, num_classes)  # Твоя модель\n",
    "model = model.cuda()\n",
    "criterion = nn.CrossEntropyLoss()  # Твой лосс\n",
    "optimizer = Adam(model.parameters(), lr=lr)  # Твой оптимайзер"
   ]
  },
  {
   "cell_type": "markdown",
   "metadata": {
    "id": "-AitU8AR-zBj"
   },
   "source": [
    "Наконец, обучим модель и протестируем её.\n",
    "\n",
    "После каждой эпохи будем проверять качество модели на валидационной части датасета. Если метрика стала лучше, будем сохранять модель. **Подумайте, какая метрика (точность или лосс) будет лучше работать в этой задаче?** \n",
    "### Мои мысли по поводу метрики\n",
    "Я бы сказал, что в данной задаче логичнее пользоваться лоссом. С точностью есть опасность, что выборка несбалансированная (мы этого не знаем) и по этой причине ее показания могут быть не совсем релевантными"
   ]
  },
  {
   "cell_type": "code",
   "execution_count": null,
   "metadata": {
    "colab": {
     "base_uri": "https://localhost:8080/",
     "height": 131,
     "referenced_widgets": [
      "475156dfc38b4aa69a8fa3b6f17fc8dc",
      "831ed68e8be649fe9ea8ed0ef4229c40",
      "52c419c32a834dae8b4ea039767cd4a2",
      "6d0ab3996f9a4bf0a672cc59f8e32f21",
      "7af6217b7ff74163835a5e895ec1a570",
      "8a4a1fdce86d4912a882002e45ece1c1",
      "caed38eeaad74a3381be2353383c321d",
      "cec444b0199f4cb5814ef60fc2723e79",
      "3ce0f818652546fc82d1318c7bd119c1",
      "1d0310cc71db4f189e0e76e5fd50810a",
      "5807946c87154674af12a0e25946da29",
      "9941487cc5ff4f3787b84f37429c08bd",
      "9336428dcc80437a895d3e297a9d87c5",
      "4d830a36344240ac94047618ba8dabb7",
      "5840e235228046b78ef91a39a73f9406",
      "a2036018d08a498193988e4f19c95198"
     ]
    },
    "id": "gKhk71Pmx1F1",
    "outputId": "f4379cb3-9c1e-4095-81d5-ff450741ae0b"
   },
   "outputs": [
    {
     "data": {
      "application/vnd.jupyter.widget-view+json": {
       "model_id": "475156dfc38b4aa69a8fa3b6f17fc8dc",
       "version_major": 2,
       "version_minor": 0
      },
      "text/plain": [
       "HBox(children=(FloatProgress(value=0.0, description='Epoch 1. Train Loss: 0', max=1000.0, style=ProgressStyle(…"
      ]
     },
     "metadata": {
      "tags": []
     },
     "output_type": "display_data"
    },
    {
     "name": "stdout",
     "output_type": "stream",
     "text": [
      "\n"
     ]
    },
    {
     "data": {
      "application/vnd.jupyter.widget-view+json": {
       "model_id": "3ce0f818652546fc82d1318c7bd119c1",
       "version_major": 2,
       "version_minor": 0
      },
      "text/plain": [
       "HBox(children=(FloatProgress(value=0.0, description='Test Loss: 0, Test Acc: 0', max=250.0, style=ProgressStyl…"
      ]
     },
     "metadata": {
      "tags": []
     },
     "output_type": "display_data"
    },
    {
     "name": "stdout",
     "output_type": "stream",
     "text": [
      "\n",
      "{'Test Loss': 0.525543437242508, 'Test Acc': 0.70152734375}\n"
     ]
    }
   ],
   "source": [
    "best_metric = np.inf\n",
    "for e in range(num_epochs):\n",
    "    training(model, optimizer, criterion, train_loader, e, device)\n",
    "    log = testing(model, criterion, valid_loader, device)\n",
    "    print(log)\n",
    "    if log[\"Test Loss\"] < best_metric:\n",
    "        torch.save(model.state_dict(), \"model.pt\")\n",
    "        best_metric = log[\"Test Loss\"]"
   ]
  },
  {
   "cell_type": "code",
   "execution_count": null,
   "metadata": {
    "colab": {
     "base_uri": "https://localhost:8080/",
     "height": 82,
     "referenced_widgets": [
      "715bb33dfc624aa1be8c99656bc47805",
      "4c1d1d25910f4f64a6ffd4c8fbff38d8",
      "e1044b6187f74ccbba2afcfb0403ed8c",
      "f50097fe4d944d3d89ad1889946c149d",
      "4653581706a34028a7be8e04f56d4858",
      "f9ae48f55d0748eb84ee9ab0bfe30ce9",
      "3e5d5dd3a03e478e99214eb4d1ca8d64",
      "62f042cc3b484177aa672810ce564d3c"
     ]
    },
    "id": "di4dGwD4x1Dt",
    "outputId": "9ba75ead-1b94-46fe-dede-3e6e6badb168"
   },
   "outputs": [
    {
     "data": {
      "application/vnd.jupyter.widget-view+json": {
       "model_id": "715bb33dfc624aa1be8c99656bc47805",
       "version_major": 2,
       "version_minor": 0
      },
      "text/plain": [
       "HBox(children=(FloatProgress(value=0.0, description='Test Loss: 0, Test Acc: 0', max=313.0, style=ProgressStyl…"
      ]
     },
     "metadata": {
      "tags": []
     },
     "output_type": "display_data"
    },
    {
     "name": "stdout",
     "output_type": "stream",
     "text": [
      "\n",
      "{'Test Loss': 0.522842538432953, 'Test Acc': 0.6919709714456869}\n"
     ]
    }
   ],
   "source": [
    "test_loader = DataLoader(\n",
    "    TwitterDataset(test_data, \"text\", \"emotion\", word2vec), \n",
    "    batch_size=batch_size, \n",
    "    num_workers=num_workers, \n",
    "    shuffle=False,\n",
    "    drop_last=False, \n",
    "    collate_fn=average_emb)\n",
    "\n",
    "model.load_state_dict(torch.load(\"model.pt\", map_location=device))\n",
    "\n",
    "print(testing(model, criterion, test_loader, device=device))"
   ]
  },
  {
   "cell_type": "markdown",
   "metadata": {
    "id": "FWXHC22_Npq5"
   },
   "source": [
    "### Поиграемся с параметрами"
   ]
  },
  {
   "cell_type": "code",
   "execution_count": null,
   "metadata": {
    "colab": {
     "base_uri": "https://localhost:8080/",
     "height": 197,
     "referenced_widgets": [
      "95733e2fea4844acb66fcd7547cf4715",
      "358fe9e804fe4fd6bcd9aa42736f158c",
      "40e968d0b7a843eeb017d9adc715cbe5",
      "bb65ea330e8046ebae40ce67d60eaf5a",
      "3df527f4e4464c1f9a5a26b2ffbde421",
      "aff28f1299f5411db3466934a13c6b77",
      "a7f09a637b754d949f7fa0181c2c87c3",
      "f3792a09c0e0414590ccfa94f7f96cc8",
      "8ccd788073764f0ba40b4592ecabfbef",
      "6be0877177c04faa8f4acf13eca3fddd",
      "55fb5ec8c4b74ee985db71e963d86988",
      "26678bd3bc2a40beb9276abacd8be45b",
      "d929a94d173c43f18e920febd0baa7c4",
      "f452a6310b774ffd8299e2d5f2e468b8",
      "b24f3b30fca6444d8b0d65ded4e65d20",
      "659b8d3907eb47f3ab0b27b9dd8f1662",
      "f66b40762dbb48b198618774ad8124fa",
      "8492343f204e4373b1fd4b411a7ab530",
      "27716171ce5840d584108cea126cddaf",
      "b66218bd31034505ae20cf7ba72d39c7",
      "8ff83981b6d14560bdb0c7ef52236508",
      "5e7903320b2c463bbc17571247d9e4e3",
      "99a8c91eb6db4f41a1aa33f5159214ef",
      "712ebd7ff4414760afbc140412676d0d"
     ]
    },
    "id": "aBE3YjJ_NzgD",
    "outputId": "211dae1c-03fc-48f7-a4ca-282dca2abce6"
   },
   "outputs": [
    {
     "data": {
      "application/vnd.jupyter.widget-view+json": {
       "model_id": "95733e2fea4844acb66fcd7547cf4715",
       "version_major": 2,
       "version_minor": 0
      },
      "text/plain": [
       "HBox(children=(FloatProgress(value=0.0, description='Epoch 1. Train Loss: 0', max=1000.0, style=ProgressStyle(…"
      ]
     },
     "metadata": {
      "tags": []
     },
     "output_type": "display_data"
    },
    {
     "name": "stdout",
     "output_type": "stream",
     "text": [
      "\n"
     ]
    },
    {
     "data": {
      "application/vnd.jupyter.widget-view+json": {
       "model_id": "8ccd788073764f0ba40b4592ecabfbef",
       "version_major": 2,
       "version_minor": 0
      },
      "text/plain": [
       "HBox(children=(FloatProgress(value=0.0, description='Test Loss: 0, Test Acc: 0', max=250.0, style=ProgressStyl…"
      ]
     },
     "metadata": {
      "tags": []
     },
     "output_type": "display_data"
    },
    {
     "name": "stdout",
     "output_type": "stream",
     "text": [
      "\n",
      "{'Test Loss': 0.5188404930830002, 'Test Acc': 0.71798046875}\n"
     ]
    },
    {
     "data": {
      "application/vnd.jupyter.widget-view+json": {
       "model_id": "f66b40762dbb48b198618774ad8124fa",
       "version_major": 2,
       "version_minor": 0
      },
      "text/plain": [
       "HBox(children=(FloatProgress(value=0.0, description='Test Loss: 0, Test Acc: 0', max=313.0, style=ProgressStyl…"
      ]
     },
     "metadata": {
      "tags": []
     },
     "output_type": "display_data"
    },
    {
     "name": "stdout",
     "output_type": "stream",
     "text": [
      "\n",
      "{'Test Loss': 0.5206245120150593, 'Test Acc': 0.7170870357428115}\n"
     ]
    }
   ],
   "source": [
    "# Не забудь поиграться с параметрами ;)\r\n",
    "vector_size = dev.word2vec.vector_size\r\n",
    "num_classes = 2\r\n",
    "lr = 1e-2\r\n",
    "num_epochs = 1\r\n",
    "\r\n",
    "model = make_model(vector_size, num_classes)  # Твоя модель\r\n",
    "model = model.cuda()\r\n",
    "criterion = nn.CrossEntropyLoss()  # Твой лосс\r\n",
    "optimizer = Adam(model.parameters(), lr=lr)  # Твой оптимайзер\r\n",
    "\r\n",
    "# train\r\n",
    "best_metric = np.inf\r\n",
    "for e in range(num_epochs):\r\n",
    "    training(model, optimizer, criterion, train_loader, e, device)\r\n",
    "    log = testing(model, criterion, valid_loader, device)\r\n",
    "    print(log)\r\n",
    "    if log[\"Test Loss\"] < best_metric:\r\n",
    "        torch.save(model.state_dict(), \"model_1.pt\")\r\n",
    "        best_metric = log[\"Test Loss\"]\r\n",
    "\r\n",
    "# test\r\n",
    "test_loader = DataLoader(\r\n",
    "    TwitterDataset(test_data, \"text\", \"emotion\", word2vec), \r\n",
    "    batch_size=batch_size, \r\n",
    "    num_workers=num_workers, \r\n",
    "    shuffle=False,\r\n",
    "    drop_last=False, \r\n",
    "    collate_fn=average_emb)\r\n",
    "\r\n",
    "model.load_state_dict(torch.load(\"model_1.pt\", map_location=device))\r\n",
    "\r\n",
    "print(testing(model, criterion, test_loader, device=device))"
   ]
  },
  {
   "cell_type": "markdown",
   "metadata": {
    "id": "ZRvzpldHSAu0"
   },
   "source": [
    "## Embeddings for unknown words (8 баллов)\n",
    "\n",
    "Пока что использовалась не вся информация из текста. Часть информации фильтровалось – если слова не было в словаре эмбеддингов, то мы просто превращали слово в нулевой вектор. Хочется использовать информацию по-максимуму. Поэтому рассмотрим другие способы обработки слов, которых нет в словаре. А именно:\n",
    "\n",
    "- Для каждого незнакомого слова будем запоминать его контекст(слова слева и справа от этого слова). Эмбеддингом нашего незнакомого слова будет сумма эмбеддингов всех слов из его контекста. (4 балла)\n",
    "- Для каждого слова текста получим его эмбеддинг из Tfidf с помощью ```TfidfVectorizer``` из [sklearn](https://scikit-learn.org/stable/modules/generated/sklearn.feature_extraction.text.TfidfVectorizer.html#sklearn.feature_extraction.text.TfidfVectorizer). Итоговым эмбеддингом для каждого слова будет сумма двух эмбеддингов: предобученного и Tfidf-ного. Для слов, которых нет в словаре предобученных эмбеддингов, результирующий эмбеддинг будет просто полученный из Tfidf. (4 балла)\n",
    "\n",
    "Реализуйте оба варианта **ниже**. Напишите, какой способ сработал лучше и ваши мысли, почему так получилось."
   ]
  },
  {
   "cell_type": "markdown",
   "metadata": {
    "id": "zz-zm5VfleIx"
   },
   "source": [
    "## Вариант 1: Эмбеддингом незнакомого слова будет сумма эмбеддингов всех слов из его контекста"
   ]
  },
  {
   "cell_type": "markdown",
   "metadata": {
    "id": "PkxU7MQkjfLU"
   },
   "source": [
    "#### Скорректируем класс Датасета для реализации этого варианта задания"
   ]
  },
  {
   "cell_type": "code",
   "execution_count": null,
   "metadata": {
    "id": "RxhEpKalU1UQ"
   },
   "outputs": [],
   "source": [
    " class TwitterDatasetContext(TwitterDataset):\r\n",
    "    def __init__(self, data: pd.DataFrame, feature_column: str, target_column: str, word2vec: gensim.models.Word2Vec, \r\n",
    "                 window_size=3):\r\n",
    "        super().__init__(data, feature_column, target_column, word2vec)\r\n",
    "        self.window_size = window_size\r\n",
    "\r\n",
    "    def get_embeddings_(self, tokens):\r\n",
    "        # Получи эмбеддинги слов и нормализуй их\r\n",
    "        embeddings = np.array([(self.word2vec.get_vector(w) - self.mean) / self.std \r\n",
    "                               if w in self.word2vec else self.get_context_emb(idx, tokens) \r\n",
    "                               for idx, w in enumerate(tokens)])\r\n",
    "\r\n",
    "        if len(embeddings) == 0:\r\n",
    "            embeddings = np.zeros((1, self.word2vec.vector_size))\r\n",
    "        else:\r\n",
    "            if len(embeddings.shape) == 1:\r\n",
    "                embeddings = embeddings.reshape(1, -1)\r\n",
    "\r\n",
    "        return embeddings\r\n",
    "\r\n",
    "    def get_context_emb(self, idx, tokens):\r\n",
    "        start_idx = max(0, idx - self.window_size)\r\n",
    "        end_idx = min(len(tokens), idx + self.window_size + 1)\r\n",
    "        pos_in_window = self.window_size\r\n",
    "        if idx - self.window_size < 0:  # start of the sentence\r\n",
    "            pos_in_window += idx - self.window_size\r\n",
    "            \r\n",
    "        co_words = tokens[start_idx:end_idx]  # cuts window from sentence\r\n",
    "        co_words = np.delete(co_words, pos_in_window)  # deletes central word from context\r\n",
    "\r\n",
    "        context_emb = np.zeros(self.word2vec.vector_size)\r\n",
    "        emb_num = 0\r\n",
    "        for word in co_words:\r\n",
    "            if word in self.word2vec:\r\n",
    "                emb = (self.word2vec.get_vector(word) - self.mean) / self.std\r\n",
    "                context_emb += emb\r\n",
    "                emb_num += 1\r\n",
    "        if emb_num != 0:\r\n",
    "            context_emb /= emb_num\r\n",
    "        return context_emb"
   ]
  },
  {
   "cell_type": "code",
   "execution_count": null,
   "metadata": {
    "id": "q0RR6j3PMIsy"
   },
   "outputs": [],
   "source": [
    "dev = TwitterDatasetContext(dev_data, \"text\", \"emotion\", word2vec)\r\n",
    "\r\n",
    "train_size = math.ceil(len(dev) * 0.8)\r\n",
    "\r\n",
    "train, valid = random_split(dev, [train_size, len(dev) - train_size])\r\n",
    "\r\n",
    "train_loader = DataLoader(train, batch_size=batch_size, num_workers=num_workers, shuffle=True, drop_last=True, collate_fn=average_emb)\r\n",
    "valid_loader = DataLoader(valid, batch_size=batch_size, num_workers=num_workers, shuffle=False, drop_last=False, collate_fn=average_emb)"
   ]
  },
  {
   "cell_type": "code",
   "execution_count": null,
   "metadata": {
    "colab": {
     "base_uri": "https://localhost:8080/",
     "height": 197,
     "referenced_widgets": [
      "226503e8430e4e18af80340537af35d9",
      "8748e7ad89c742f7b3481bbe98dc6159",
      "ebdeadc05a2940a187865ae85531b1da",
      "1e72e1279e9549988864833c30a9c64e",
      "a6f3371a7821496aa8ba27ade9ec82be",
      "13b75f88d0e54b778b0dd21d0efe8d89",
      "7224ca125a894573a18129eafcee3522",
      "d586fe734daa43709121615d5e6aafe6",
      "f58d1ce7d6dc4add906ee01a7257f507",
      "b4f97cb58e9d4426b1aa549a82ef1212",
      "2f1931b3f6d3491c92c9231fc7496ae2",
      "4fb015d3f21048ce80e7fdc0c7508e19",
      "4348e6c5c24c404c9cb831182b1dbb39",
      "db04ffeca2e14c0dbd676d3000908ee0",
      "49ff51d4082b42489eea494c9c22ca51",
      "0e5d5ed9a32040bbacf97497932a0e4f",
      "26d50be6c1754576bfe364ead841b0f0",
      "9e2168d12661468a8d448715032ced0e",
      "04ba8086e47b4ff19499c4aafa090185",
      "25e1af4fadec48f29a7d48c12b83e531",
      "5352f4f633894943a7004b007157a6c2",
      "17a9e050a3b14641a3d509527fe2364d",
      "b5ad654302374739a1b6581a72693f19",
      "fce8049da863413e811b36b5225172bc"
     ]
    },
    "id": "48ihlLuPLMZK",
    "outputId": "f9ca8101-d139-4576-9918-fe8fa48ab499"
   },
   "outputs": [
    {
     "data": {
      "application/vnd.jupyter.widget-view+json": {
       "model_id": "226503e8430e4e18af80340537af35d9",
       "version_major": 2,
       "version_minor": 0
      },
      "text/plain": [
       "HBox(children=(FloatProgress(value=0.0, description='Epoch 1. Train Loss: 0', max=1000.0, style=ProgressStyle(…"
      ]
     },
     "metadata": {
      "tags": []
     },
     "output_type": "display_data"
    },
    {
     "name": "stdout",
     "output_type": "stream",
     "text": [
      "\n"
     ]
    },
    {
     "data": {
      "application/vnd.jupyter.widget-view+json": {
       "model_id": "f58d1ce7d6dc4add906ee01a7257f507",
       "version_major": 2,
       "version_minor": 0
      },
      "text/plain": [
       "HBox(children=(FloatProgress(value=0.0, description='Test Loss: 0, Test Acc: 0', max=250.0, style=ProgressStyl…"
      ]
     },
     "metadata": {
      "tags": []
     },
     "output_type": "display_data"
    },
    {
     "name": "stdout",
     "output_type": "stream",
     "text": [
      "\n",
      "{'Test Loss': 0.5132736160755157, 'Test Acc': 0.68583984375}\n"
     ]
    },
    {
     "data": {
      "application/vnd.jupyter.widget-view+json": {
       "model_id": "26d50be6c1754576bfe364ead841b0f0",
       "version_major": 2,
       "version_minor": 0
      },
      "text/plain": [
       "HBox(children=(FloatProgress(value=0.0, description='Test Loss: 0, Test Acc: 0', max=313.0, style=ProgressStyl…"
      ]
     },
     "metadata": {
      "tags": []
     },
     "output_type": "display_data"
    },
    {
     "name": "stdout",
     "output_type": "stream",
     "text": [
      "\n",
      "{'Test Loss': 0.5133158340812111, 'Test Acc': 0.6853596745207667}\n"
     ]
    }
   ],
   "source": [
    "vector_size = dev.word2vec.vector_size\r\n",
    "num_classes = 2\r\n",
    "lr = 1e-2\r\n",
    "num_epochs = 1\r\n",
    "\r\n",
    "model = make_model(vector_size, num_classes)  # Твоя модель\r\n",
    "model = model.cuda()\r\n",
    "criterion = nn.CrossEntropyLoss()  # Твой лосс\r\n",
    "optimizer = Adam(model.parameters(), lr=lr)  # Твой оптимайзер\r\n",
    "\r\n",
    "# train\r\n",
    "best_metric = np.inf\r\n",
    "for e in range(num_epochs):\r\n",
    "    training(model, optimizer, criterion, train_loader, e, device)\r\n",
    "    log = testing(model, criterion, valid_loader, device)\r\n",
    "    print(log)\r\n",
    "    if log[\"Test Loss\"] < best_metric:\r\n",
    "        torch.save(model.state_dict(), \"model_con.pt\")\r\n",
    "        best_metric = log[\"Test Loss\"]\r\n",
    "\r\n",
    "# test\r\n",
    "test_loader = DataLoader(\r\n",
    "    TwitterDatasetContext(test_data, \"text\", \"emotion\", word2vec), \r\n",
    "    batch_size=batch_size, \r\n",
    "    num_workers=num_workers, \r\n",
    "    shuffle=False,\r\n",
    "    drop_last=False, \r\n",
    "    collate_fn=average_emb)\r\n",
    "\r\n",
    "model.load_state_dict(torch.load(\"model_con.pt\", map_location=device))\r\n",
    "\r\n",
    "print(testing(model, criterion, test_loader, device=device))"
   ]
  },
  {
   "cell_type": "markdown",
   "metadata": {
    "id": "QRqBwcXgqj4g"
   },
   "source": [
    "## Вариант 2: Итоговым эмбеддингом для каждого слова будет сумма двух эмбеддингов: предобученного и Tfidf-ного"
   ]
  },
  {
   "cell_type": "markdown",
   "metadata": {
    "id": "fA7VGIkC0PdU"
   },
   "source": [
    "## Tfidf (пробуем обработку)"
   ]
  },
  {
   "cell_type": "code",
   "execution_count": null,
   "metadata": {
    "colab": {
     "base_uri": "https://localhost:8080/"
    },
    "id": "-8y9wloT0PGH",
    "outputId": "cd83a908-87e8-4172-9640-5b4e5b21fd9b"
   },
   "outputs": [
    {
     "data": {
      "text/plain": [
       "0          @Claire_Nelson i'm on the north devon coast th...\n",
       "1          @jhicks  i will think of you on Sunday!   Who ...\n",
       "2          Out in the garden with the kids debating wheth...\n",
       "3          @FrVerona thank u my love...u've shown me the ...\n",
       "4          is with @jonasbrosfan1  going to buy LVATT tog...\n",
       "                                 ...                        \n",
       "1279995    @yajtyler thats so sweet =] they like you  and...\n",
       "1279996       Really sad the NBA playoffs are over for good \n",
       "1279997    @JuJuBeanz15 LOL Im glad that u have that pers...\n",
       "1279998           I have to go to the GYM  it's toooooo hot.\n",
       "1279999    @Natalie_McLife okay will do hen it has finish...\n",
       "Name: text, Length: 1280000, dtype: object"
      ]
     },
     "execution_count": 37,
     "metadata": {
      "tags": []
     },
     "output_type": "execute_result"
    }
   ],
   "source": [
    "dev_data[\"text\"]"
   ]
  },
  {
   "cell_type": "code",
   "execution_count": null,
   "metadata": {
    "id": "ypQ_HEnw0O5M"
   },
   "outputs": [],
   "source": [
    "def to_processed_corpus(text):\r\n",
    "    # Получи все токены из текста и профильтруй их\r\n",
    "    line = tokenizer.tokenize(text.lower())\r\n",
    "    tokens = [w for w in line if all(c not in string.punctuation for c in w)\\\r\n",
    "                                    and len(w) > 3]  # filtered_line\r\n",
    "    return \" \".join(tokens)"
   ]
  },
  {
   "cell_type": "code",
   "execution_count": null,
   "metadata": {
    "colab": {
     "base_uri": "https://localhost:8080/"
    },
    "id": "7QRlc4yg0Or0",
    "outputId": "8a914c74-0107-46a4-e23f-e8c4b053f286"
   },
   "outputs": [
    {
     "name": "stdout",
     "output_type": "stream",
     "text": [
      "1024000\n",
      "CPU times: user 22.1 s, sys: 181 ms, total: 22.3 s\n",
      "Wall time: 22.3 s\n"
     ]
    }
   ],
   "source": [
    "%%time\r\n",
    "train_corpus = dev_data[\"text\"][train.indices].apply(to_processed_corpus)\r\n",
    "print(len(train_corpus))"
   ]
  },
  {
   "cell_type": "code",
   "execution_count": null,
   "metadata": {
    "colab": {
     "base_uri": "https://localhost:8080/",
     "height": 35
    },
    "id": "fezXf2yw0OeL",
    "outputId": "8266b1ba-857e-44be-e253-c25176ceec84"
   },
   "outputs": [
    {
     "data": {
      "application/vnd.google.colaboratory.intrinsic+json": {
       "type": "string"
      },
      "text/plain": [
       "'north devon coast next weeks will down devon again sometime hope though'"
      ]
     },
     "execution_count": 58,
     "metadata": {
      "tags": []
     },
     "output_type": "execute_result"
    }
   ],
   "source": [
    "train_corpus[0]"
   ]
  },
  {
   "cell_type": "code",
   "execution_count": null,
   "metadata": {
    "id": "q8cWgY-z0OSK"
   },
   "outputs": [],
   "source": [
    "import sklearn\r\n",
    "from sklearn.feature_extraction.text import TfidfVectorizer"
   ]
  },
  {
   "cell_type": "code",
   "execution_count": null,
   "metadata": {
    "colab": {
     "base_uri": "https://localhost:8080/"
    },
    "id": "0eh3qGMYicN6",
    "outputId": "e3d014a2-d29d-4787-d724-04d1b159cfed"
   },
   "outputs": [
    {
     "name": "stdout",
     "output_type": "stream",
     "text": [
      "(1024000, 469010)\n",
      "CPU times: user 11.9 s, sys: 161 ms, total: 12.1 s\n",
      "Wall time: 12.1 s\n"
     ]
    }
   ],
   "source": [
    "%%time\r\n",
    "tfidf_vectorizer = TfidfVectorizer()\r\n",
    "X = tfidf_vectorizer.fit_transform(train_corpus)\r\n",
    "print(X.shape)"
   ]
  },
  {
   "cell_type": "markdown",
   "metadata": {
    "id": "4o9G7Xhvrndi"
   },
   "source": [
    "## SVD для уменьшения числа фич в Tfidf\r\n",
    "Пробуем **Усеченный SVD** для уменьшения числа признаков до 300 для складывания с эмбедингами."
   ]
  },
  {
   "cell_type": "code",
   "execution_count": null,
   "metadata": {
    "id": "cKvy3-lh7r_9"
   },
   "outputs": [],
   "source": [
    "# %%time\r\n",
    "# from sklearn.decomposition import TruncatedSVD\r\n",
    "\r\n",
    "# svd = TruncatedSVD(n_components=300)\r\n",
    "# X_300 = svd.fit_transform(X)"
   ]
  },
  {
   "cell_type": "markdown",
   "metadata": {
    "id": "uAbe0K_dsDh2"
   },
   "source": [
    "### Резюме по Усеченному SVD\r\n",
    "Если мы вместо **max_features** пытаемся регулировать количество фич в **tfidf** через **PCA** - этот вариант не проходит. Преобразовать не получается из-за переполнения ОЗУ.     \r\n",
    "ПРИМЕЧАНИЕ: конкатенировать все фичи (их несколько десятков или даже сотен тысяч) тоже не получилось."
   ]
  },
  {
   "cell_type": "markdown",
   "metadata": {
    "id": "lFFvEd6TgMDo"
   },
   "source": [
    "Используем параметр **max_features** для регулирования количества фич"
   ]
  },
  {
   "cell_type": "code",
   "execution_count": null,
   "metadata": {
    "colab": {
     "base_uri": "https://localhost:8080/"
    },
    "id": "O3NY5BBe0OEK",
    "outputId": "894d36f3-1f86-44f6-aad6-5d76b7025e24"
   },
   "outputs": [
    {
     "name": "stdout",
     "output_type": "stream",
     "text": [
      "(1024000, 300)\n",
      "CPU times: user 11.2 s, sys: 136 ms, total: 11.4 s\n",
      "Wall time: 11.4 s\n"
     ]
    }
   ],
   "source": [
    "%%time\r\n",
    "tfidf_vectorizer = TfidfVectorizer(max_features=300)\r\n",
    "X = tfidf_vectorizer.fit_transform(train_corpus)\r\n",
    "print(X.shape)"
   ]
  },
  {
   "cell_type": "code",
   "execution_count": null,
   "metadata": {
    "colab": {
     "base_uri": "https://localhost:8080/"
    },
    "id": "q4KIof8J5Jkp",
    "outputId": "29c1cb85-631b-4351-9892-d270f38b5ba5"
   },
   "outputs": [
    {
     "data": {
      "text/plain": [
       "300"
      ]
     },
     "execution_count": 37,
     "metadata": {
      "tags": []
     },
     "output_type": "execute_result"
    }
   ],
   "source": [
    "len(tfidf_vectorizer.get_feature_names())"
   ]
  },
  {
   "cell_type": "code",
   "execution_count": null,
   "metadata": {
    "colab": {
     "base_uri": "https://localhost:8080/"
    },
    "id": "Fz_vdM9E23_G",
    "outputId": "a3dac871-79a1-42a5-83b9-e5540d779fd3"
   },
   "outputs": [
    {
     "data": {
      "text/plain": [
       "(300,)"
      ]
     },
     "execution_count": 63,
     "metadata": {
      "tags": []
     },
     "output_type": "execute_result"
    }
   ],
   "source": [
    "tfidf_vectorizer.transform([train_corpus[2].split()[0]]).toarray()[0].shape"
   ]
  },
  {
   "cell_type": "markdown",
   "metadata": {
    "id": "EYV-sBFujYht"
   },
   "source": [
    "Сделаем класс Датасета под эту задачу.    \r\n",
    "Реализуем **2 подварианта**:   \r\n",
    "А) когда мы фичи складываем, параметр **mode = \"sum\"**    \r\n",
    "Б) второй вариант - фичи конкатенируем, параметр **mode = \"concat\"**"
   ]
  },
  {
   "cell_type": "code",
   "execution_count": null,
   "metadata": {
    "id": "K2lg0xVjqj4j"
   },
   "outputs": [],
   "source": [
    "class TwitterDatasetTfidf(TwitterDataset):\r\n",
    "    def __init__(self, data: pd.DataFrame, feature_column: str, target_column: str, word2vec: gensim.models.Word2Vec, \r\n",
    "                 tfidf_vectorizer: sklearn.feature_extraction.text.TfidfVectorizer, mode: str=\"sum\"):\r\n",
    "        super().__init__(data, feature_column, target_column, word2vec)\r\n",
    "        self.tfidf_vectorizer = tfidf_vectorizer\r\n",
    "        self.mode = mode\r\n",
    "        self.vector_size = None\r\n",
    "\r\n",
    "    def get_embeddings_(self, tokens):\r\n",
    "        # Получи эмбеддинги слов и нормализуй их\r\n",
    "        embeddings = np.array([(self.word2vec.get_vector(w) - self.mean) / self.std \r\n",
    "                               if w in self.word2vec else np.zeros(self.word2vec.vector_size)\r\n",
    "                               for w in tokens])\r\n",
    "        tfidf_emb = self.get_tfidf_emb(tokens)\r\n",
    "        # print(\"tfidf_emb.shape\", tfidf_emb.shape, \"embeddings.shape\", embeddings.shape)\r\n",
    "        # raise\r\n",
    "\r\n",
    "        if len(embeddings) == 0:\r\n",
    "            embeddings = np.zeros((1, self.word2vec.vector_size))\r\n",
    "            tfidf_emb = np.zeros((1, len(self.tfidf_vectorizer.get_feature_names())))\r\n",
    "        else:\r\n",
    "            if len(embeddings.shape) == 1:\r\n",
    "                embeddings = embeddings.reshape(1, -1)\r\n",
    "                tfidf_emb = tfidf_emb.reshape(1, -1)\r\n",
    "        \r\n",
    "        if self.mode == \"sum\":\r\n",
    "            if embeddings.shape == tfidf_emb.shape:\r\n",
    "                embeddings += tfidf_emb\r\n",
    "            else:\r\n",
    "                raise ValueError(\"embeddings shape should be match tfidf_emb shape\")\r\n",
    "        elif self.mode == \"concat\":\r\n",
    "            embeddings = np.hstack((embeddings, tfidf_emb))\r\n",
    "        else:\r\n",
    "            raise ValueError(\"mode should be one of 'sum' or 'concat'\")\r\n",
    "        # print(\"after hstack embeddings.shape\", embeddings.shape)\r\n",
    "        self.vector_size = embeddings.shape[1]\r\n",
    "        return embeddings\r\n",
    "\r\n",
    "    def get_tfidf_emb(self, tokens):\r\n",
    "        # tfidf_emb = np.array([np.zeros(len(self.tfidf_vectorizer.get_feature_names())) \r\n",
    "        #                        for w in tokens])\r\n",
    "        tfidf_emb = np.array([self.tfidf_vectorizer.transform([w]).toarray()[0] \r\n",
    "                               for w in tokens])\r\n",
    "        return tfidf_emb\r\n",
    "\r\n",
    "    @staticmethod\r\n",
    "    def to_processed_corpus(text):\r\n",
    "        \"\"\"\r\n",
    "        предобрабатываем  тексты для обучения tfidf_vectorizer так же, как мы \r\n",
    "        предобрабатывали тексты для работы с эмбедингами\r\n",
    "        \"\"\"\r\n",
    "        line = tokenizer.tokenize(text.lower())\r\n",
    "        tokens = [w for w in line if all(c not in string.punctuation for c in w)\\\r\n",
    "                                        and len(w) > 3]  # filtered_line\r\n",
    "        return \" \".join(tokens)\r\n",
    "    \r\n",
    "    def tfidf_vectorizer_fit(self, train_indices):\r\n",
    "        train_corpus = self.data[\"text\"][train_indices].apply(self.to_processed_corpus)\r\n",
    "        self.tfidf_vectorizer.fit(train_corpus)\r\n",
    "        if self.mode == \"sum\":\r\n",
    "            self.vector_size = self.word2vec.vector_size\r\n",
    "        elif self.mode == \"concat\":\r\n",
    "            self.vector_size = self.word2vec.vector_size + len(self.tfidf_vectorizer.get_feature_names())\r\n",
    "        else:\r\n",
    "            raise ValueError(\"mode should be one of 'sum' or 'concat'\")"
   ]
  },
  {
   "cell_type": "markdown",
   "metadata": {
    "id": "37L-Lj9ynvBN"
   },
   "source": [
    "#### ПРИМЕЧАНИЕ\r\n",
    "**tfidf_vectorizer** обучаем только на текстах из **train**. Тексты для обучения предобрабатываем так же, как мы предобрабатывали тексты для работы с эмбедингами (чтобы было соответствие)"
   ]
  },
  {
   "cell_type": "code",
   "execution_count": null,
   "metadata": {
    "id": "EOCiDQpTvYdQ"
   },
   "outputs": [],
   "source": [
    "# import warnings\r\n",
    "# warnings.filterwarnings(\"ignore\")  # to on use \"default\""
   ]
  },
  {
   "cell_type": "markdown",
   "metadata": {
    "id": "K7l42de_nRz0"
   },
   "source": [
    "### а) Подвариант A: Складываем фичи  \r\n",
    "**mode = 'sum'** "
   ]
  },
  {
   "cell_type": "code",
   "execution_count": null,
   "metadata": {
    "id": "jZQoG7Wpqj4k"
   },
   "outputs": [],
   "source": [
    "%%time\r\n",
    "batch_size = 1024\r\n",
    "num_workers = 4\r\n",
    "tfidf_vectorizer = TfidfVectorizer(max_features=300)\r\n",
    "\r\n",
    "dev = TwitterDatasetTfidf(dev_data, \"text\", \"emotion\", word2vec, tfidf_vectorizer, mode=\"sum\")\r\n",
    "\r\n",
    "train_size = math.ceil(len(dev) * 0.8)\r\n",
    "\r\n",
    "train, valid = random_split(dev, [train_size, len(dev) - train_size])\r\n",
    "\r\n",
    "dev.tfidf_vectorizer_fit(train.indices)  # обучаем tfidf_vectorizer только на train данных\r\n",
    "\r\n",
    "train_loader = DataLoader(train, batch_size=batch_size, num_workers=num_workers, shuffle=True, drop_last=True, collate_fn=average_emb)\r\n",
    "valid_loader = DataLoader(valid, batch_size=batch_size, num_workers=num_workers, shuffle=False, drop_last=False, collate_fn=average_emb)"
   ]
  },
  {
   "cell_type": "code",
   "execution_count": null,
   "metadata": {
    "colab": {
     "base_uri": "https://localhost:8080/",
     "height": 197,
     "referenced_widgets": [
      "95f0a88bf0594f94821dadce32dd1c4b",
      "e04d65289dc842e58d5104ca9999d807",
      "91c2f6a925b64752a319bdcbe6df27d9",
      "f2240f13147448508315878e1c4ddcd3",
      "2e0928f8a59c4fb9ae50978fa7ed4ce7",
      "b1b0d07d7e444f75b53a32f745338997",
      "5246db56ac5e417aac7c7c3d7282506f",
      "f4623d8a672246f8a63282740692fa8c",
      "371fde6328fa425d8f031aae10dc45a8",
      "3f0b9314d65d41af9ce3778e9e21a13b",
      "b8fb5dd785a646f6b7d8fb50924c28c3",
      "14ba6cd0de1f49098bd1cebc73db2b87",
      "c227ad606f3a447b81db45e49e450e5c",
      "6041dbd092f448319b71ecf0b2568a60",
      "4c3841d7957a4eb082061b63f5db00ee",
      "8dd3bbf92fa5467385cd338860b446fa",
      "c1805fb73c6f43f9b88991776061f80e",
      "5adcd803740b4e02b47e0cab4e49deb4",
      "07b476d10415400d80aff2da765dd3b6",
      "d100ad156269409ca9c4b690b41293cf",
      "560d37b2bcc14cdb96bc56b6005ee237",
      "fe3987ce30e34fd2903684020369db35",
      "73d30ab7f69d4536afa1a71489ca6bff",
      "615a1b9e25a24a9bb9e416a53a1c8bf7"
     ]
    },
    "id": "Aa9Wwq7Mqj4k",
    "outputId": "0dd69672-7930-4eba-b494-317f4c84e0bd"
   },
   "outputs": [
    {
     "data": {
      "application/vnd.jupyter.widget-view+json": {
       "model_id": "95f0a88bf0594f94821dadce32dd1c4b",
       "version_major": 2,
       "version_minor": 0
      },
      "text/plain": [
       "HBox(children=(FloatProgress(value=0.0, description='Epoch 1. Train Loss: 0', max=1000.0, style=ProgressStyle(…"
      ]
     },
     "metadata": {
      "tags": []
     },
     "output_type": "display_data"
    },
    {
     "name": "stdout",
     "output_type": "stream",
     "text": [
      "\n"
     ]
    },
    {
     "data": {
      "application/vnd.jupyter.widget-view+json": {
       "model_id": "371fde6328fa425d8f031aae10dc45a8",
       "version_major": 2,
       "version_minor": 0
      },
      "text/plain": [
       "HBox(children=(FloatProgress(value=0.0, description='Test Loss: 0, Test Acc: 0', max=250.0, style=ProgressStyl…"
      ]
     },
     "metadata": {
      "tags": []
     },
     "output_type": "display_data"
    },
    {
     "name": "stdout",
     "output_type": "stream",
     "text": [
      "\n",
      "{'Test Loss': 0.5201045408248901, 'Test Acc': 0.6684765625}\n"
     ]
    },
    {
     "data": {
      "application/vnd.jupyter.widget-view+json": {
       "model_id": "c1805fb73c6f43f9b88991776061f80e",
       "version_major": 2,
       "version_minor": 0
      },
      "text/plain": [
       "HBox(children=(FloatProgress(value=0.0, description='Test Loss: 0, Test Acc: 0', max=313.0, style=ProgressStyl…"
      ]
     },
     "metadata": {
      "tags": []
     },
     "output_type": "display_data"
    },
    {
     "name": "stdout",
     "output_type": "stream",
     "text": [
      "\n",
      "{'Test Loss': 0.5209477536213665, 'Test Acc': 0.6682963508386581}\n"
     ]
    }
   ],
   "source": [
    "vector_size = dev.vector_size\r\n",
    "num_classes = 2\r\n",
    "lr = 1e-2\r\n",
    "num_epochs = 1\r\n",
    "\r\n",
    "model = make_model(vector_size, num_classes)  # Твоя модель\r\n",
    "model = model.cuda()\r\n",
    "criterion = nn.CrossEntropyLoss()  # Твой лосс\r\n",
    "optimizer = Adam(model.parameters(), lr=lr)  # Твой оптимайзер\r\n",
    "\r\n",
    "# train\r\n",
    "best_metric = np.inf\r\n",
    "for e in range(num_epochs):\r\n",
    "    training(model, optimizer, criterion, train_loader, e, device)\r\n",
    "    log = testing(model, criterion, valid_loader, device)\r\n",
    "    print(log)\r\n",
    "    if log[\"Test Loss\"] < best_metric:\r\n",
    "        torch.save(model.state_dict(), \"model_tfidf-sum.pt\")\r\n",
    "        best_metric = log[\"Test Loss\"]\r\n",
    "\r\n",
    "# test\r\n",
    "test_loader = DataLoader(\r\n",
    "    TwitterDatasetTfidf(test_data, \"text\", \"emotion\", word2vec, tfidf_vectorizer, mode=\"sum\"), \r\n",
    "    batch_size=batch_size, \r\n",
    "    num_workers=num_workers, \r\n",
    "    shuffle=False,\r\n",
    "    drop_last=False, \r\n",
    "    collate_fn=average_emb)\r\n",
    "\r\n",
    "model.load_state_dict(torch.load(\"model_tfidf-sum.pt\", map_location=device))\r\n",
    "\r\n",
    "print(testing(model, criterion, test_loader, device=device))"
   ]
  },
  {
   "cell_type": "markdown",
   "metadata": {
    "id": "sdQPgayIsxUX"
   },
   "source": [
    "### б) Подвариант Б: Конкатенируем фичи  \r\n",
    "**mode = 'concat'** "
   ]
  },
  {
   "cell_type": "code",
   "execution_count": null,
   "metadata": {
    "colab": {
     "base_uri": "https://localhost:8080/"
    },
    "id": "CResNl7nsxUk",
    "outputId": "25c9aee4-194d-43e3-e0cf-dc53e08892a8"
   },
   "outputs": [
    {
     "name": "stdout",
     "output_type": "stream",
     "text": [
      "CPU times: user 36.5 s, sys: 600 ms, total: 37.1 s\n",
      "Wall time: 37.1 s\n"
     ]
    }
   ],
   "source": [
    "%%time\r\n",
    "\r\n",
    "batch_size = 1024\r\n",
    "num_workers = 4\r\n",
    "tfidf_vectorizer = TfidfVectorizer(max_features=300)\r\n",
    "\r\n",
    "dev = TwitterDatasetTfidf(dev_data, \"text\", \"emotion\", word2vec, tfidf_vectorizer, mode=\"concat\")\r\n",
    "\r\n",
    "train_size = math.ceil(len(dev) * 0.8)\r\n",
    "\r\n",
    "train, valid = random_split(dev, [train_size, len(dev) - train_size])\r\n",
    "\r\n",
    "dev.tfidf_vectorizer_fit(train.indices)  # обучаем tfidf_vectorizer только на train данных\r\n",
    "\r\n",
    "train_loader = DataLoader(train, batch_size=batch_size, num_workers=num_workers, shuffle=True, drop_last=True, collate_fn=average_emb)\r\n",
    "valid_loader = DataLoader(valid, batch_size=batch_size, num_workers=num_workers, shuffle=False, drop_last=False, collate_fn=average_emb)"
   ]
  },
  {
   "cell_type": "code",
   "execution_count": null,
   "metadata": {
    "colab": {
     "base_uri": "https://localhost:8080/",
     "height": 197,
     "referenced_widgets": [
      "b07c4b89473843b29d724c098fcc6ce6",
      "6cbb9c0415c94b2fb5e81cd221948bef",
      "fed4895df82c407080a8b18097759cf3",
      "639256e00d644398901ff92fcd178348",
      "70d5cfdb69664cbcbea0eba190694153",
      "b7c6a61d241f481eb199b5866f7b8989",
      "644ea527878242f6b6c7067c56c4b41b",
      "1ab4087d578743389c2d7e4f1ccac618",
      "15bf2a02b718463e8f25f3243ca613bb",
      "9f5dc67765084c8b8f5801c81cc87695",
      "19e76c70204148df82d1f6a907ad6d7a",
      "4de0fc00275045538f4affb40c239749",
      "5bc0e62896a1499282b9960d6035ab1a",
      "8e811765ce4b429d9cd72e17956f9d10",
      "424a700ad0ce4d8ab50ff782bdc7cc80",
      "412819879c784a4897932c243d846566",
      "42266fc0cd634aabbcc8d4eaec3e583e",
      "2e95eb52bb684d6884d225eb3f9524cb",
      "61841a72207b4cd290a352ba4be7893b",
      "1ac4358cab414d11aa27d4d1ad7699e5",
      "c8ba9031329440b1a21be92ad366cb45",
      "087beb3effde4b44a71b2750c37c14ef",
      "9f4f448ed9c649b3b7b04ef4eb2c1c58",
      "ad36f617c21e43c0a26e36041b95922b"
     ]
    },
    "id": "FxeG9xF7sxUk",
    "outputId": "68563b20-7c03-4538-ce80-7180b5e65d8f"
   },
   "outputs": [
    {
     "data": {
      "application/vnd.jupyter.widget-view+json": {
       "model_id": "b07c4b89473843b29d724c098fcc6ce6",
       "version_major": 2,
       "version_minor": 0
      },
      "text/plain": [
       "HBox(children=(FloatProgress(value=0.0, description='Epoch 1. Train Loss: 0', max=1000.0, style=ProgressStyle(…"
      ]
     },
     "metadata": {
      "tags": []
     },
     "output_type": "display_data"
    },
    {
     "name": "stdout",
     "output_type": "stream",
     "text": [
      "\n"
     ]
    },
    {
     "data": {
      "application/vnd.jupyter.widget-view+json": {
       "model_id": "15bf2a02b718463e8f25f3243ca613bb",
       "version_major": 2,
       "version_minor": 0
      },
      "text/plain": [
       "HBox(children=(FloatProgress(value=0.0, description='Test Loss: 0, Test Acc: 0', max=250.0, style=ProgressStyl…"
      ]
     },
     "metadata": {
      "tags": []
     },
     "output_type": "display_data"
    },
    {
     "name": "stdout",
     "output_type": "stream",
     "text": [
      "\n",
      "{'Test Loss': 0.5142746659517288, 'Test Acc': 0.71913671875}\n"
     ]
    },
    {
     "data": {
      "application/vnd.jupyter.widget-view+json": {
       "model_id": "42266fc0cd634aabbcc8d4eaec3e583e",
       "version_major": 2,
       "version_minor": 0
      },
      "text/plain": [
       "HBox(children=(FloatProgress(value=0.0, description='Test Loss: 0, Test Acc: 0', max=313.0, style=ProgressStyl…"
      ]
     },
     "metadata": {
      "tags": []
     },
     "output_type": "display_data"
    },
    {
     "name": "stdout",
     "output_type": "stream",
     "text": [
      "\n",
      "{'Test Loss': 0.5148940229187378, 'Test Acc': 0.7188748003194888}\n"
     ]
    }
   ],
   "source": [
    "vector_size = dev.vector_size\r\n",
    "num_classes = 2\r\n",
    "lr = 1e-2\r\n",
    "num_epochs = 1\r\n",
    "\r\n",
    "model = make_model(vector_size, num_classes)  # Твоя модель\r\n",
    "model = model.cuda()\r\n",
    "criterion = nn.CrossEntropyLoss()  # Твой лосс\r\n",
    "optimizer = Adam(model.parameters(), lr=lr)  # Твой оптимайзер\r\n",
    "\r\n",
    "# train\r\n",
    "best_metric = np.inf\r\n",
    "for e in range(num_epochs):\r\n",
    "    training(model, optimizer, criterion, train_loader, e, device)\r\n",
    "    log = testing(model, criterion, valid_loader, device)\r\n",
    "    print(log)\r\n",
    "    if log[\"Test Loss\"] < best_metric:\r\n",
    "        torch.save(model.state_dict(), \"model_tfidf-concat.pt\")\r\n",
    "        best_metric = log[\"Test Loss\"]\r\n",
    "\r\n",
    "# test\r\n",
    "test_loader = DataLoader(\r\n",
    "    TwitterDatasetTfidf(test_data, \"text\", \"emotion\", word2vec, tfidf_vectorizer, mode=\"concat\"), \r\n",
    "    batch_size=batch_size, \r\n",
    "    num_workers=num_workers, \r\n",
    "    shuffle=False,\r\n",
    "    drop_last=False, \r\n",
    "    collate_fn=average_emb)\r\n",
    "\r\n",
    "model.load_state_dict(torch.load(\"model_tfidf-concat.pt\", map_location=device))\r\n",
    "\r\n",
    "print(testing(model, criterion, test_loader, device=device))"
   ]
  },
  {
   "cell_type": "markdown",
   "metadata": {
    "id": "vYKNC4v5qRlI"
   },
   "source": [
    "### Резюме\r\n",
    "Из реализованных вариантов лучше всего сработал вариант с Tfidf, подвариант с конкатенацией.    \r\n",
    "На мой взгляд это логично.   \r\n",
    "Вариант в контекстами вместо неизвестного слова заметного прироста не дал, поскольку информация о контекстах берется из того же самого текста, который уже есть в фичах. То есть чего-то совсем нового не появляется.    \r\n",
    "При складывании эмбедингов и Tfidf в фичи вносится шум, поэтому прироста тоже особого нет.    \r\n",
    "А при конкатенации эмбедингов и Tfidf есть некоторый прирост аккураси, поскольку информация объединяется, на мой взгляд, более оптимально и без зашумления фич."
   ]
  }
 ],
 "metadata": {
  "accelerator": "GPU",
  "colab": {
   "collapsed_sections": [],
   "name": "[homework]embeddings_1_Dmitry_Shereshevskiy.ipynb",
   "provenance": [],
   "toc_visible": true
  },
  "kernelspec": {
   "display_name": "Python 3",
   "language": "python",
   "name": "python3"
  },
  "language_info": {
   "codemirror_mode": {
    "name": "ipython",
    "version": 3
   },
   "file_extension": ".py",
   "mimetype": "text/x-python",
   "name": "python",
   "nbconvert_exporter": "python",
   "pygments_lexer": "ipython3",
   "version": "3.8.6"
  },
  "widgets": {
   "application/vnd.jupyter.widget-state+json": {
    "04ba8086e47b4ff19499c4aafa090185": {
     "model_module": "@jupyter-widgets/controls",
     "model_name": "FloatProgressModel",
     "state": {
      "_dom_classes": [],
      "_model_module": "@jupyter-widgets/controls",
      "_model_module_version": "1.5.0",
      "_model_name": "FloatProgressModel",
      "_view_count": null,
      "_view_module": "@jupyter-widgets/controls",
      "_view_module_version": "1.5.0",
      "_view_name": "ProgressView",
      "bar_style": "success",
      "description": "Test Loss: 0.5133, Test Acc: 0.6854: 100%",
      "description_tooltip": null,
      "layout": "IPY_MODEL_17a9e050a3b14641a3d509527fe2364d",
      "max": 313,
      "min": 0,
      "orientation": "horizontal",
      "style": "IPY_MODEL_5352f4f633894943a7004b007157a6c2",
      "value": 313
     }
    },
    "07b476d10415400d80aff2da765dd3b6": {
     "model_module": "@jupyter-widgets/controls",
     "model_name": "FloatProgressModel",
     "state": {
      "_dom_classes": [],
      "_model_module": "@jupyter-widgets/controls",
      "_model_module_version": "1.5.0",
      "_model_name": "FloatProgressModel",
      "_view_count": null,
      "_view_module": "@jupyter-widgets/controls",
      "_view_module_version": "1.5.0",
      "_view_name": "ProgressView",
      "bar_style": "success",
      "description": "Test Loss: 0.5478, Test Acc: 0.6406: 100%",
      "description_tooltip": null,
      "layout": "IPY_MODEL_fe3987ce30e34fd2903684020369db35",
      "max": 313,
      "min": 0,
      "orientation": "horizontal",
      "style": "IPY_MODEL_560d37b2bcc14cdb96bc56b6005ee237",
      "value": 313
     }
    },
    "087beb3effde4b44a71b2750c37c14ef": {
     "model_module": "@jupyter-widgets/base",
     "model_name": "LayoutModel",
     "state": {
      "_model_module": "@jupyter-widgets/base",
      "_model_module_version": "1.2.0",
      "_model_name": "LayoutModel",
      "_view_count": null,
      "_view_module": "@jupyter-widgets/base",
      "_view_module_version": "1.2.0",
      "_view_name": "LayoutView",
      "align_content": null,
      "align_items": null,
      "align_self": null,
      "border": null,
      "bottom": null,
      "display": null,
      "flex": null,
      "flex_flow": null,
      "grid_area": null,
      "grid_auto_columns": null,
      "grid_auto_flow": null,
      "grid_auto_rows": null,
      "grid_column": null,
      "grid_gap": null,
      "grid_row": null,
      "grid_template_areas": null,
      "grid_template_columns": null,
      "grid_template_rows": null,
      "height": null,
      "justify_content": null,
      "justify_items": null,
      "left": null,
      "margin": null,
      "max_height": null,
      "max_width": null,
      "min_height": null,
      "min_width": null,
      "object_fit": null,
      "object_position": null,
      "order": null,
      "overflow": null,
      "overflow_x": null,
      "overflow_y": null,
      "padding": null,
      "right": null,
      "top": null,
      "visibility": null,
      "width": null
     }
    },
    "0e5d5ed9a32040bbacf97497932a0e4f": {
     "model_module": "@jupyter-widgets/base",
     "model_name": "LayoutModel",
     "state": {
      "_model_module": "@jupyter-widgets/base",
      "_model_module_version": "1.2.0",
      "_model_name": "LayoutModel",
      "_view_count": null,
      "_view_module": "@jupyter-widgets/base",
      "_view_module_version": "1.2.0",
      "_view_name": "LayoutView",
      "align_content": null,
      "align_items": null,
      "align_self": null,
      "border": null,
      "bottom": null,
      "display": null,
      "flex": null,
      "flex_flow": null,
      "grid_area": null,
      "grid_auto_columns": null,
      "grid_auto_flow": null,
      "grid_auto_rows": null,
      "grid_column": null,
      "grid_gap": null,
      "grid_row": null,
      "grid_template_areas": null,
      "grid_template_columns": null,
      "grid_template_rows": null,
      "height": null,
      "justify_content": null,
      "justify_items": null,
      "left": null,
      "margin": null,
      "max_height": null,
      "max_width": null,
      "min_height": null,
      "min_width": null,
      "object_fit": null,
      "object_position": null,
      "order": null,
      "overflow": null,
      "overflow_x": null,
      "overflow_y": null,
      "padding": null,
      "right": null,
      "top": null,
      "visibility": null,
      "width": null
     }
    },
    "13b75f88d0e54b778b0dd21d0efe8d89": {
     "model_module": "@jupyter-widgets/base",
     "model_name": "LayoutModel",
     "state": {
      "_model_module": "@jupyter-widgets/base",
      "_model_module_version": "1.2.0",
      "_model_name": "LayoutModel",
      "_view_count": null,
      "_view_module": "@jupyter-widgets/base",
      "_view_module_version": "1.2.0",
      "_view_name": "LayoutView",
      "align_content": null,
      "align_items": null,
      "align_self": null,
      "border": null,
      "bottom": null,
      "display": null,
      "flex": null,
      "flex_flow": null,
      "grid_area": null,
      "grid_auto_columns": null,
      "grid_auto_flow": null,
      "grid_auto_rows": null,
      "grid_column": null,
      "grid_gap": null,
      "grid_row": null,
      "grid_template_areas": null,
      "grid_template_columns": null,
      "grid_template_rows": null,
      "height": null,
      "justify_content": null,
      "justify_items": null,
      "left": null,
      "margin": null,
      "max_height": null,
      "max_width": null,
      "min_height": null,
      "min_width": null,
      "object_fit": null,
      "object_position": null,
      "order": null,
      "overflow": null,
      "overflow_x": null,
      "overflow_y": null,
      "padding": null,
      "right": null,
      "top": null,
      "visibility": null,
      "width": null
     }
    },
    "14ba6cd0de1f49098bd1cebc73db2b87": {
     "model_module": "@jupyter-widgets/controls",
     "model_name": "HTMLModel",
     "state": {
      "_dom_classes": [],
      "_model_module": "@jupyter-widgets/controls",
      "_model_module_version": "1.5.0",
      "_model_name": "HTMLModel",
      "_view_count": null,
      "_view_module": "@jupyter-widgets/controls",
      "_view_module_version": "1.5.0",
      "_view_name": "HTMLView",
      "description": "",
      "description_tooltip": null,
      "layout": "IPY_MODEL_8dd3bbf92fa5467385cd338860b446fa",
      "placeholder": "​",
      "style": "IPY_MODEL_4c3841d7957a4eb082061b63f5db00ee",
      "value": " 250/250 [20:39&lt;00:00,  4.96s/it]"
     }
    },
    "15bf2a02b718463e8f25f3243ca613bb": {
     "model_module": "@jupyter-widgets/controls",
     "model_name": "HBoxModel",
     "state": {
      "_dom_classes": [],
      "_model_module": "@jupyter-widgets/controls",
      "_model_module_version": "1.5.0",
      "_model_name": "HBoxModel",
      "_view_count": null,
      "_view_module": "@jupyter-widgets/controls",
      "_view_module_version": "1.5.0",
      "_view_name": "HBoxView",
      "box_style": "",
      "children": [
       "IPY_MODEL_19e76c70204148df82d1f6a907ad6d7a",
       "IPY_MODEL_4de0fc00275045538f4affb40c239749"
      ],
      "layout": "IPY_MODEL_9f5dc67765084c8b8f5801c81cc87695"
     }
    },
    "17a9e050a3b14641a3d509527fe2364d": {
     "model_module": "@jupyter-widgets/base",
     "model_name": "LayoutModel",
     "state": {
      "_model_module": "@jupyter-widgets/base",
      "_model_module_version": "1.2.0",
      "_model_name": "LayoutModel",
      "_view_count": null,
      "_view_module": "@jupyter-widgets/base",
      "_view_module_version": "1.2.0",
      "_view_name": "LayoutView",
      "align_content": null,
      "align_items": null,
      "align_self": null,
      "border": null,
      "bottom": null,
      "display": null,
      "flex": null,
      "flex_flow": null,
      "grid_area": null,
      "grid_auto_columns": null,
      "grid_auto_flow": null,
      "grid_auto_rows": null,
      "grid_column": null,
      "grid_gap": null,
      "grid_row": null,
      "grid_template_areas": null,
      "grid_template_columns": null,
      "grid_template_rows": null,
      "height": null,
      "justify_content": null,
      "justify_items": null,
      "left": null,
      "margin": null,
      "max_height": null,
      "max_width": null,
      "min_height": null,
      "min_width": null,
      "object_fit": null,
      "object_position": null,
      "order": null,
      "overflow": null,
      "overflow_x": null,
      "overflow_y": null,
      "padding": null,
      "right": null,
      "top": null,
      "visibility": null,
      "width": null
     }
    },
    "19e76c70204148df82d1f6a907ad6d7a": {
     "model_module": "@jupyter-widgets/controls",
     "model_name": "FloatProgressModel",
     "state": {
      "_dom_classes": [],
      "_model_module": "@jupyter-widgets/controls",
      "_model_module_version": "1.5.0",
      "_model_name": "FloatProgressModel",
      "_view_count": null,
      "_view_module": "@jupyter-widgets/controls",
      "_view_module_version": "1.5.0",
      "_view_name": "ProgressView",
      "bar_style": "success",
      "description": "Test Loss: 0.5143, Test Acc: 0.7191: 100%",
      "description_tooltip": null,
      "layout": "IPY_MODEL_8e811765ce4b429d9cd72e17956f9d10",
      "max": 250,
      "min": 0,
      "orientation": "horizontal",
      "style": "IPY_MODEL_5bc0e62896a1499282b9960d6035ab1a",
      "value": 250
     }
    },
    "1ab4087d578743389c2d7e4f1ccac618": {
     "model_module": "@jupyter-widgets/base",
     "model_name": "LayoutModel",
     "state": {
      "_model_module": "@jupyter-widgets/base",
      "_model_module_version": "1.2.0",
      "_model_name": "LayoutModel",
      "_view_count": null,
      "_view_module": "@jupyter-widgets/base",
      "_view_module_version": "1.2.0",
      "_view_name": "LayoutView",
      "align_content": null,
      "align_items": null,
      "align_self": null,
      "border": null,
      "bottom": null,
      "display": null,
      "flex": null,
      "flex_flow": null,
      "grid_area": null,
      "grid_auto_columns": null,
      "grid_auto_flow": null,
      "grid_auto_rows": null,
      "grid_column": null,
      "grid_gap": null,
      "grid_row": null,
      "grid_template_areas": null,
      "grid_template_columns": null,
      "grid_template_rows": null,
      "height": null,
      "justify_content": null,
      "justify_items": null,
      "left": null,
      "margin": null,
      "max_height": null,
      "max_width": null,
      "min_height": null,
      "min_width": null,
      "object_fit": null,
      "object_position": null,
      "order": null,
      "overflow": null,
      "overflow_x": null,
      "overflow_y": null,
      "padding": null,
      "right": null,
      "top": null,
      "visibility": null,
      "width": null
     }
    },
    "1ac4358cab414d11aa27d4d1ad7699e5": {
     "model_module": "@jupyter-widgets/controls",
     "model_name": "HTMLModel",
     "state": {
      "_dom_classes": [],
      "_model_module": "@jupyter-widgets/controls",
      "_model_module_version": "1.5.0",
      "_model_name": "HTMLModel",
      "_view_count": null,
      "_view_module": "@jupyter-widgets/controls",
      "_view_module_version": "1.5.0",
      "_view_name": "HTMLView",
      "description": "",
      "description_tooltip": null,
      "layout": "IPY_MODEL_ad36f617c21e43c0a26e36041b95922b",
      "placeholder": "​",
      "style": "IPY_MODEL_9f4f448ed9c649b3b7b04ef4eb2c1c58",
      "value": " 313/313 [25:16&lt;00:00,  4.84s/it]"
     }
    },
    "1d0310cc71db4f189e0e76e5fd50810a": {
     "model_module": "@jupyter-widgets/base",
     "model_name": "LayoutModel",
     "state": {
      "_model_module": "@jupyter-widgets/base",
      "_model_module_version": "1.2.0",
      "_model_name": "LayoutModel",
      "_view_count": null,
      "_view_module": "@jupyter-widgets/base",
      "_view_module_version": "1.2.0",
      "_view_name": "LayoutView",
      "align_content": null,
      "align_items": null,
      "align_self": null,
      "border": null,
      "bottom": null,
      "display": null,
      "flex": null,
      "flex_flow": null,
      "grid_area": null,
      "grid_auto_columns": null,
      "grid_auto_flow": null,
      "grid_auto_rows": null,
      "grid_column": null,
      "grid_gap": null,
      "grid_row": null,
      "grid_template_areas": null,
      "grid_template_columns": null,
      "grid_template_rows": null,
      "height": null,
      "justify_content": null,
      "justify_items": null,
      "left": null,
      "margin": null,
      "max_height": null,
      "max_width": null,
      "min_height": null,
      "min_width": null,
      "object_fit": null,
      "object_position": null,
      "order": null,
      "overflow": null,
      "overflow_x": null,
      "overflow_y": null,
      "padding": null,
      "right": null,
      "top": null,
      "visibility": null,
      "width": null
     }
    },
    "1e72e1279e9549988864833c30a9c64e": {
     "model_module": "@jupyter-widgets/controls",
     "model_name": "HTMLModel",
     "state": {
      "_dom_classes": [],
      "_model_module": "@jupyter-widgets/controls",
      "_model_module_version": "1.5.0",
      "_model_name": "HTMLModel",
      "_view_count": null,
      "_view_module": "@jupyter-widgets/controls",
      "_view_module_version": "1.5.0",
      "_view_name": "HTMLView",
      "description": "",
      "description_tooltip": null,
      "layout": "IPY_MODEL_d586fe734daa43709121615d5e6aafe6",
      "placeholder": "​",
      "style": "IPY_MODEL_7224ca125a894573a18129eafcee3522",
      "value": " 1000/1000 [04:50&lt;00:00,  3.45it/s]"
     }
    },
    "226503e8430e4e18af80340537af35d9": {
     "model_module": "@jupyter-widgets/controls",
     "model_name": "HBoxModel",
     "state": {
      "_dom_classes": [],
      "_model_module": "@jupyter-widgets/controls",
      "_model_module_version": "1.5.0",
      "_model_name": "HBoxModel",
      "_view_count": null,
      "_view_module": "@jupyter-widgets/controls",
      "_view_module_version": "1.5.0",
      "_view_name": "HBoxView",
      "box_style": "",
      "children": [
       "IPY_MODEL_ebdeadc05a2940a187865ae85531b1da",
       "IPY_MODEL_1e72e1279e9549988864833c30a9c64e"
      ],
      "layout": "IPY_MODEL_8748e7ad89c742f7b3481bbe98dc6159"
     }
    },
    "25e1af4fadec48f29a7d48c12b83e531": {
     "model_module": "@jupyter-widgets/controls",
     "model_name": "HTMLModel",
     "state": {
      "_dom_classes": [],
      "_model_module": "@jupyter-widgets/controls",
      "_model_module_version": "1.5.0",
      "_model_name": "HTMLModel",
      "_view_count": null,
      "_view_module": "@jupyter-widgets/controls",
      "_view_module_version": "1.5.0",
      "_view_name": "HTMLView",
      "description": "",
      "description_tooltip": null,
      "layout": "IPY_MODEL_fce8049da863413e811b36b5225172bc",
      "placeholder": "​",
      "style": "IPY_MODEL_b5ad654302374739a1b6581a72693f19",
      "value": " 313/313 [01:38&lt;00:00,  3.17it/s]"
     }
    },
    "26678bd3bc2a40beb9276abacd8be45b": {
     "model_module": "@jupyter-widgets/controls",
     "model_name": "HTMLModel",
     "state": {
      "_dom_classes": [],
      "_model_module": "@jupyter-widgets/controls",
      "_model_module_version": "1.5.0",
      "_model_name": "HTMLModel",
      "_view_count": null,
      "_view_module": "@jupyter-widgets/controls",
      "_view_module_version": "1.5.0",
      "_view_name": "HTMLView",
      "description": "",
      "description_tooltip": null,
      "layout": "IPY_MODEL_659b8d3907eb47f3ab0b27b9dd8f1662",
      "placeholder": "​",
      "style": "IPY_MODEL_b24f3b30fca6444d8b0d65ded4e65d20",
      "value": " 250/250 [00:34&lt;00:00,  7.23it/s]"
     }
    },
    "26d50be6c1754576bfe364ead841b0f0": {
     "model_module": "@jupyter-widgets/controls",
     "model_name": "HBoxModel",
     "state": {
      "_dom_classes": [],
      "_model_module": "@jupyter-widgets/controls",
      "_model_module_version": "1.5.0",
      "_model_name": "HBoxModel",
      "_view_count": null,
      "_view_module": "@jupyter-widgets/controls",
      "_view_module_version": "1.5.0",
      "_view_name": "HBoxView",
      "box_style": "",
      "children": [
       "IPY_MODEL_04ba8086e47b4ff19499c4aafa090185",
       "IPY_MODEL_25e1af4fadec48f29a7d48c12b83e531"
      ],
      "layout": "IPY_MODEL_9e2168d12661468a8d448715032ced0e"
     }
    },
    "27716171ce5840d584108cea126cddaf": {
     "model_module": "@jupyter-widgets/controls",
     "model_name": "FloatProgressModel",
     "state": {
      "_dom_classes": [],
      "_model_module": "@jupyter-widgets/controls",
      "_model_module_version": "1.5.0",
      "_model_name": "FloatProgressModel",
      "_view_count": null,
      "_view_module": "@jupyter-widgets/controls",
      "_view_module_version": "1.5.0",
      "_view_name": "ProgressView",
      "bar_style": "success",
      "description": "Test Loss: 0.5206, Test Acc: 0.7171: 100%",
      "description_tooltip": null,
      "layout": "IPY_MODEL_5e7903320b2c463bbc17571247d9e4e3",
      "max": 313,
      "min": 0,
      "orientation": "horizontal",
      "style": "IPY_MODEL_8ff83981b6d14560bdb0c7ef52236508",
      "value": 313
     }
    },
    "2e0928f8a59c4fb9ae50978fa7ed4ce7": {
     "model_module": "@jupyter-widgets/controls",
     "model_name": "ProgressStyleModel",
     "state": {
      "_model_module": "@jupyter-widgets/controls",
      "_model_module_version": "1.5.0",
      "_model_name": "ProgressStyleModel",
      "_view_count": null,
      "_view_module": "@jupyter-widgets/base",
      "_view_module_version": "1.2.0",
      "_view_name": "StyleView",
      "bar_color": null,
      "description_width": "initial"
     }
    },
    "2e95eb52bb684d6884d225eb3f9524cb": {
     "model_module": "@jupyter-widgets/base",
     "model_name": "LayoutModel",
     "state": {
      "_model_module": "@jupyter-widgets/base",
      "_model_module_version": "1.2.0",
      "_model_name": "LayoutModel",
      "_view_count": null,
      "_view_module": "@jupyter-widgets/base",
      "_view_module_version": "1.2.0",
      "_view_name": "LayoutView",
      "align_content": null,
      "align_items": null,
      "align_self": null,
      "border": null,
      "bottom": null,
      "display": null,
      "flex": null,
      "flex_flow": null,
      "grid_area": null,
      "grid_auto_columns": null,
      "grid_auto_flow": null,
      "grid_auto_rows": null,
      "grid_column": null,
      "grid_gap": null,
      "grid_row": null,
      "grid_template_areas": null,
      "grid_template_columns": null,
      "grid_template_rows": null,
      "height": null,
      "justify_content": null,
      "justify_items": null,
      "left": null,
      "margin": null,
      "max_height": null,
      "max_width": null,
      "min_height": null,
      "min_width": null,
      "object_fit": null,
      "object_position": null,
      "order": null,
      "overflow": null,
      "overflow_x": null,
      "overflow_y": null,
      "padding": null,
      "right": null,
      "top": null,
      "visibility": null,
      "width": null
     }
    },
    "2f1931b3f6d3491c92c9231fc7496ae2": {
     "model_module": "@jupyter-widgets/controls",
     "model_name": "FloatProgressModel",
     "state": {
      "_dom_classes": [],
      "_model_module": "@jupyter-widgets/controls",
      "_model_module_version": "1.5.0",
      "_model_name": "FloatProgressModel",
      "_view_count": null,
      "_view_module": "@jupyter-widgets/controls",
      "_view_module_version": "1.5.0",
      "_view_name": "ProgressView",
      "bar_style": "success",
      "description": "Test Loss: 0.5133, Test Acc: 0.6858: 100%",
      "description_tooltip": null,
      "layout": "IPY_MODEL_db04ffeca2e14c0dbd676d3000908ee0",
      "max": 250,
      "min": 0,
      "orientation": "horizontal",
      "style": "IPY_MODEL_4348e6c5c24c404c9cb831182b1dbb39",
      "value": 250
     }
    },
    "358fe9e804fe4fd6bcd9aa42736f158c": {
     "model_module": "@jupyter-widgets/base",
     "model_name": "LayoutModel",
     "state": {
      "_model_module": "@jupyter-widgets/base",
      "_model_module_version": "1.2.0",
      "_model_name": "LayoutModel",
      "_view_count": null,
      "_view_module": "@jupyter-widgets/base",
      "_view_module_version": "1.2.0",
      "_view_name": "LayoutView",
      "align_content": null,
      "align_items": null,
      "align_self": null,
      "border": null,
      "bottom": null,
      "display": null,
      "flex": null,
      "flex_flow": null,
      "grid_area": null,
      "grid_auto_columns": null,
      "grid_auto_flow": null,
      "grid_auto_rows": null,
      "grid_column": null,
      "grid_gap": null,
      "grid_row": null,
      "grid_template_areas": null,
      "grid_template_columns": null,
      "grid_template_rows": null,
      "height": null,
      "justify_content": null,
      "justify_items": null,
      "left": null,
      "margin": null,
      "max_height": null,
      "max_width": null,
      "min_height": null,
      "min_width": null,
      "object_fit": null,
      "object_position": null,
      "order": null,
      "overflow": null,
      "overflow_x": null,
      "overflow_y": null,
      "padding": null,
      "right": null,
      "top": null,
      "visibility": null,
      "width": null
     }
    },
    "371fde6328fa425d8f031aae10dc45a8": {
     "model_module": "@jupyter-widgets/controls",
     "model_name": "HBoxModel",
     "state": {
      "_dom_classes": [],
      "_model_module": "@jupyter-widgets/controls",
      "_model_module_version": "1.5.0",
      "_model_name": "HBoxModel",
      "_view_count": null,
      "_view_module": "@jupyter-widgets/controls",
      "_view_module_version": "1.5.0",
      "_view_name": "HBoxView",
      "box_style": "",
      "children": [
       "IPY_MODEL_b8fb5dd785a646f6b7d8fb50924c28c3",
       "IPY_MODEL_14ba6cd0de1f49098bd1cebc73db2b87"
      ],
      "layout": "IPY_MODEL_3f0b9314d65d41af9ce3778e9e21a13b"
     }
    },
    "3ce0f818652546fc82d1318c7bd119c1": {
     "model_module": "@jupyter-widgets/controls",
     "model_name": "HBoxModel",
     "state": {
      "_dom_classes": [],
      "_model_module": "@jupyter-widgets/controls",
      "_model_module_version": "1.5.0",
      "_model_name": "HBoxModel",
      "_view_count": null,
      "_view_module": "@jupyter-widgets/controls",
      "_view_module_version": "1.5.0",
      "_view_name": "HBoxView",
      "box_style": "",
      "children": [
       "IPY_MODEL_5807946c87154674af12a0e25946da29",
       "IPY_MODEL_9941487cc5ff4f3787b84f37429c08bd"
      ],
      "layout": "IPY_MODEL_1d0310cc71db4f189e0e76e5fd50810a"
     }
    },
    "3df527f4e4464c1f9a5a26b2ffbde421": {
     "model_module": "@jupyter-widgets/controls",
     "model_name": "ProgressStyleModel",
     "state": {
      "_model_module": "@jupyter-widgets/controls",
      "_model_module_version": "1.5.0",
      "_model_name": "ProgressStyleModel",
      "_view_count": null,
      "_view_module": "@jupyter-widgets/base",
      "_view_module_version": "1.2.0",
      "_view_name": "StyleView",
      "bar_color": null,
      "description_width": "initial"
     }
    },
    "3e5d5dd3a03e478e99214eb4d1ca8d64": {
     "model_module": "@jupyter-widgets/controls",
     "model_name": "DescriptionStyleModel",
     "state": {
      "_model_module": "@jupyter-widgets/controls",
      "_model_module_version": "1.5.0",
      "_model_name": "DescriptionStyleModel",
      "_view_count": null,
      "_view_module": "@jupyter-widgets/base",
      "_view_module_version": "1.2.0",
      "_view_name": "StyleView",
      "description_width": ""
     }
    },
    "3f0b9314d65d41af9ce3778e9e21a13b": {
     "model_module": "@jupyter-widgets/base",
     "model_name": "LayoutModel",
     "state": {
      "_model_module": "@jupyter-widgets/base",
      "_model_module_version": "1.2.0",
      "_model_name": "LayoutModel",
      "_view_count": null,
      "_view_module": "@jupyter-widgets/base",
      "_view_module_version": "1.2.0",
      "_view_name": "LayoutView",
      "align_content": null,
      "align_items": null,
      "align_self": null,
      "border": null,
      "bottom": null,
      "display": null,
      "flex": null,
      "flex_flow": null,
      "grid_area": null,
      "grid_auto_columns": null,
      "grid_auto_flow": null,
      "grid_auto_rows": null,
      "grid_column": null,
      "grid_gap": null,
      "grid_row": null,
      "grid_template_areas": null,
      "grid_template_columns": null,
      "grid_template_rows": null,
      "height": null,
      "justify_content": null,
      "justify_items": null,
      "left": null,
      "margin": null,
      "max_height": null,
      "max_width": null,
      "min_height": null,
      "min_width": null,
      "object_fit": null,
      "object_position": null,
      "order": null,
      "overflow": null,
      "overflow_x": null,
      "overflow_y": null,
      "padding": null,
      "right": null,
      "top": null,
      "visibility": null,
      "width": null
     }
    },
    "40e968d0b7a843eeb017d9adc715cbe5": {
     "model_module": "@jupyter-widgets/controls",
     "model_name": "FloatProgressModel",
     "state": {
      "_dom_classes": [],
      "_model_module": "@jupyter-widgets/controls",
      "_model_module_version": "1.5.0",
      "_model_name": "FloatProgressModel",
      "_view_count": null,
      "_view_module": "@jupyter-widgets/controls",
      "_view_module_version": "1.5.0",
      "_view_name": "ProgressView",
      "bar_style": "success",
      "description": "Epoch 1. Train Loss: 0.4923: 100%",
      "description_tooltip": null,
      "layout": "IPY_MODEL_aff28f1299f5411db3466934a13c6b77",
      "max": 1000,
      "min": 0,
      "orientation": "horizontal",
      "style": "IPY_MODEL_3df527f4e4464c1f9a5a26b2ffbde421",
      "value": 1000
     }
    },
    "412819879c784a4897932c243d846566": {
     "model_module": "@jupyter-widgets/base",
     "model_name": "LayoutModel",
     "state": {
      "_model_module": "@jupyter-widgets/base",
      "_model_module_version": "1.2.0",
      "_model_name": "LayoutModel",
      "_view_count": null,
      "_view_module": "@jupyter-widgets/base",
      "_view_module_version": "1.2.0",
      "_view_name": "LayoutView",
      "align_content": null,
      "align_items": null,
      "align_self": null,
      "border": null,
      "bottom": null,
      "display": null,
      "flex": null,
      "flex_flow": null,
      "grid_area": null,
      "grid_auto_columns": null,
      "grid_auto_flow": null,
      "grid_auto_rows": null,
      "grid_column": null,
      "grid_gap": null,
      "grid_row": null,
      "grid_template_areas": null,
      "grid_template_columns": null,
      "grid_template_rows": null,
      "height": null,
      "justify_content": null,
      "justify_items": null,
      "left": null,
      "margin": null,
      "max_height": null,
      "max_width": null,
      "min_height": null,
      "min_width": null,
      "object_fit": null,
      "object_position": null,
      "order": null,
      "overflow": null,
      "overflow_x": null,
      "overflow_y": null,
      "padding": null,
      "right": null,
      "top": null,
      "visibility": null,
      "width": null
     }
    },
    "42266fc0cd634aabbcc8d4eaec3e583e": {
     "model_module": "@jupyter-widgets/controls",
     "model_name": "HBoxModel",
     "state": {
      "_dom_classes": [],
      "_model_module": "@jupyter-widgets/controls",
      "_model_module_version": "1.5.0",
      "_model_name": "HBoxModel",
      "_view_count": null,
      "_view_module": "@jupyter-widgets/controls",
      "_view_module_version": "1.5.0",
      "_view_name": "HBoxView",
      "box_style": "",
      "children": [
       "IPY_MODEL_61841a72207b4cd290a352ba4be7893b",
       "IPY_MODEL_1ac4358cab414d11aa27d4d1ad7699e5"
      ],
      "layout": "IPY_MODEL_2e95eb52bb684d6884d225eb3f9524cb"
     }
    },
    "424a700ad0ce4d8ab50ff782bdc7cc80": {
     "model_module": "@jupyter-widgets/controls",
     "model_name": "DescriptionStyleModel",
     "state": {
      "_model_module": "@jupyter-widgets/controls",
      "_model_module_version": "1.5.0",
      "_model_name": "DescriptionStyleModel",
      "_view_count": null,
      "_view_module": "@jupyter-widgets/base",
      "_view_module_version": "1.2.0",
      "_view_name": "StyleView",
      "description_width": ""
     }
    },
    "4348e6c5c24c404c9cb831182b1dbb39": {
     "model_module": "@jupyter-widgets/controls",
     "model_name": "ProgressStyleModel",
     "state": {
      "_model_module": "@jupyter-widgets/controls",
      "_model_module_version": "1.5.0",
      "_model_name": "ProgressStyleModel",
      "_view_count": null,
      "_view_module": "@jupyter-widgets/base",
      "_view_module_version": "1.2.0",
      "_view_name": "StyleView",
      "bar_color": null,
      "description_width": "initial"
     }
    },
    "4653581706a34028a7be8e04f56d4858": {
     "model_module": "@jupyter-widgets/controls",
     "model_name": "ProgressStyleModel",
     "state": {
      "_model_module": "@jupyter-widgets/controls",
      "_model_module_version": "1.5.0",
      "_model_name": "ProgressStyleModel",
      "_view_count": null,
      "_view_module": "@jupyter-widgets/base",
      "_view_module_version": "1.2.0",
      "_view_name": "StyleView",
      "bar_color": null,
      "description_width": "initial"
     }
    },
    "475156dfc38b4aa69a8fa3b6f17fc8dc": {
     "model_module": "@jupyter-widgets/controls",
     "model_name": "HBoxModel",
     "state": {
      "_dom_classes": [],
      "_model_module": "@jupyter-widgets/controls",
      "_model_module_version": "1.5.0",
      "_model_name": "HBoxModel",
      "_view_count": null,
      "_view_module": "@jupyter-widgets/controls",
      "_view_module_version": "1.5.0",
      "_view_name": "HBoxView",
      "box_style": "",
      "children": [
       "IPY_MODEL_52c419c32a834dae8b4ea039767cd4a2",
       "IPY_MODEL_6d0ab3996f9a4bf0a672cc59f8e32f21"
      ],
      "layout": "IPY_MODEL_831ed68e8be649fe9ea8ed0ef4229c40"
     }
    },
    "49ff51d4082b42489eea494c9c22ca51": {
     "model_module": "@jupyter-widgets/controls",
     "model_name": "DescriptionStyleModel",
     "state": {
      "_model_module": "@jupyter-widgets/controls",
      "_model_module_version": "1.5.0",
      "_model_name": "DescriptionStyleModel",
      "_view_count": null,
      "_view_module": "@jupyter-widgets/base",
      "_view_module_version": "1.2.0",
      "_view_name": "StyleView",
      "description_width": ""
     }
    },
    "4c1d1d25910f4f64a6ffd4c8fbff38d8": {
     "model_module": "@jupyter-widgets/base",
     "model_name": "LayoutModel",
     "state": {
      "_model_module": "@jupyter-widgets/base",
      "_model_module_version": "1.2.0",
      "_model_name": "LayoutModel",
      "_view_count": null,
      "_view_module": "@jupyter-widgets/base",
      "_view_module_version": "1.2.0",
      "_view_name": "LayoutView",
      "align_content": null,
      "align_items": null,
      "align_self": null,
      "border": null,
      "bottom": null,
      "display": null,
      "flex": null,
      "flex_flow": null,
      "grid_area": null,
      "grid_auto_columns": null,
      "grid_auto_flow": null,
      "grid_auto_rows": null,
      "grid_column": null,
      "grid_gap": null,
      "grid_row": null,
      "grid_template_areas": null,
      "grid_template_columns": null,
      "grid_template_rows": null,
      "height": null,
      "justify_content": null,
      "justify_items": null,
      "left": null,
      "margin": null,
      "max_height": null,
      "max_width": null,
      "min_height": null,
      "min_width": null,
      "object_fit": null,
      "object_position": null,
      "order": null,
      "overflow": null,
      "overflow_x": null,
      "overflow_y": null,
      "padding": null,
      "right": null,
      "top": null,
      "visibility": null,
      "width": null
     }
    },
    "4c3841d7957a4eb082061b63f5db00ee": {
     "model_module": "@jupyter-widgets/controls",
     "model_name": "DescriptionStyleModel",
     "state": {
      "_model_module": "@jupyter-widgets/controls",
      "_model_module_version": "1.5.0",
      "_model_name": "DescriptionStyleModel",
      "_view_count": null,
      "_view_module": "@jupyter-widgets/base",
      "_view_module_version": "1.2.0",
      "_view_name": "StyleView",
      "description_width": ""
     }
    },
    "4d830a36344240ac94047618ba8dabb7": {
     "model_module": "@jupyter-widgets/base",
     "model_name": "LayoutModel",
     "state": {
      "_model_module": "@jupyter-widgets/base",
      "_model_module_version": "1.2.0",
      "_model_name": "LayoutModel",
      "_view_count": null,
      "_view_module": "@jupyter-widgets/base",
      "_view_module_version": "1.2.0",
      "_view_name": "LayoutView",
      "align_content": null,
      "align_items": null,
      "align_self": null,
      "border": null,
      "bottom": null,
      "display": null,
      "flex": null,
      "flex_flow": null,
      "grid_area": null,
      "grid_auto_columns": null,
      "grid_auto_flow": null,
      "grid_auto_rows": null,
      "grid_column": null,
      "grid_gap": null,
      "grid_row": null,
      "grid_template_areas": null,
      "grid_template_columns": null,
      "grid_template_rows": null,
      "height": null,
      "justify_content": null,
      "justify_items": null,
      "left": null,
      "margin": null,
      "max_height": null,
      "max_width": null,
      "min_height": null,
      "min_width": null,
      "object_fit": null,
      "object_position": null,
      "order": null,
      "overflow": null,
      "overflow_x": null,
      "overflow_y": null,
      "padding": null,
      "right": null,
      "top": null,
      "visibility": null,
      "width": null
     }
    },
    "4de0fc00275045538f4affb40c239749": {
     "model_module": "@jupyter-widgets/controls",
     "model_name": "HTMLModel",
     "state": {
      "_dom_classes": [],
      "_model_module": "@jupyter-widgets/controls",
      "_model_module_version": "1.5.0",
      "_model_name": "HTMLModel",
      "_view_count": null,
      "_view_module": "@jupyter-widgets/controls",
      "_view_module_version": "1.5.0",
      "_view_name": "HTMLView",
      "description": "",
      "description_tooltip": null,
      "layout": "IPY_MODEL_412819879c784a4897932c243d846566",
      "placeholder": "​",
      "style": "IPY_MODEL_424a700ad0ce4d8ab50ff782bdc7cc80",
      "value": " 250/250 [45:38&lt;00:00, 10.95s/it]"
     }
    },
    "4fb015d3f21048ce80e7fdc0c7508e19": {
     "model_module": "@jupyter-widgets/controls",
     "model_name": "HTMLModel",
     "state": {
      "_dom_classes": [],
      "_model_module": "@jupyter-widgets/controls",
      "_model_module_version": "1.5.0",
      "_model_name": "HTMLModel",
      "_view_count": null,
      "_view_module": "@jupyter-widgets/controls",
      "_view_module_version": "1.5.0",
      "_view_name": "HTMLView",
      "description": "",
      "description_tooltip": null,
      "layout": "IPY_MODEL_0e5d5ed9a32040bbacf97497932a0e4f",
      "placeholder": "​",
      "style": "IPY_MODEL_49ff51d4082b42489eea494c9c22ca51",
      "value": " 250/250 [02:20&lt;00:00,  1.78it/s]"
     }
    },
    "5246db56ac5e417aac7c7c3d7282506f": {
     "model_module": "@jupyter-widgets/controls",
     "model_name": "DescriptionStyleModel",
     "state": {
      "_model_module": "@jupyter-widgets/controls",
      "_model_module_version": "1.5.0",
      "_model_name": "DescriptionStyleModel",
      "_view_count": null,
      "_view_module": "@jupyter-widgets/base",
      "_view_module_version": "1.2.0",
      "_view_name": "StyleView",
      "description_width": ""
     }
    },
    "52c419c32a834dae8b4ea039767cd4a2": {
     "model_module": "@jupyter-widgets/controls",
     "model_name": "FloatProgressModel",
     "state": {
      "_dom_classes": [],
      "_model_module": "@jupyter-widgets/controls",
      "_model_module_version": "1.5.0",
      "_model_name": "FloatProgressModel",
      "_view_count": null,
      "_view_module": "@jupyter-widgets/controls",
      "_view_module_version": "1.5.0",
      "_view_name": "ProgressView",
      "bar_style": "success",
      "description": "Epoch 1. Train Loss: 0.5204: 100%",
      "description_tooltip": null,
      "layout": "IPY_MODEL_8a4a1fdce86d4912a882002e45ece1c1",
      "max": 1000,
      "min": 0,
      "orientation": "horizontal",
      "style": "IPY_MODEL_7af6217b7ff74163835a5e895ec1a570",
      "value": 1000
     }
    },
    "5352f4f633894943a7004b007157a6c2": {
     "model_module": "@jupyter-widgets/controls",
     "model_name": "ProgressStyleModel",
     "state": {
      "_model_module": "@jupyter-widgets/controls",
      "_model_module_version": "1.5.0",
      "_model_name": "ProgressStyleModel",
      "_view_count": null,
      "_view_module": "@jupyter-widgets/base",
      "_view_module_version": "1.2.0",
      "_view_name": "StyleView",
      "bar_color": null,
      "description_width": "initial"
     }
    },
    "55fb5ec8c4b74ee985db71e963d86988": {
     "model_module": "@jupyter-widgets/controls",
     "model_name": "FloatProgressModel",
     "state": {
      "_dom_classes": [],
      "_model_module": "@jupyter-widgets/controls",
      "_model_module_version": "1.5.0",
      "_model_name": "FloatProgressModel",
      "_view_count": null,
      "_view_module": "@jupyter-widgets/controls",
      "_view_module_version": "1.5.0",
      "_view_name": "ProgressView",
      "bar_style": "success",
      "description": "Test Loss: 0.5188, Test Acc: 0.718: 100%",
      "description_tooltip": null,
      "layout": "IPY_MODEL_f452a6310b774ffd8299e2d5f2e468b8",
      "max": 250,
      "min": 0,
      "orientation": "horizontal",
      "style": "IPY_MODEL_d929a94d173c43f18e920febd0baa7c4",
      "value": 250
     }
    },
    "560d37b2bcc14cdb96bc56b6005ee237": {
     "model_module": "@jupyter-widgets/controls",
     "model_name": "ProgressStyleModel",
     "state": {
      "_model_module": "@jupyter-widgets/controls",
      "_model_module_version": "1.5.0",
      "_model_name": "ProgressStyleModel",
      "_view_count": null,
      "_view_module": "@jupyter-widgets/base",
      "_view_module_version": "1.2.0",
      "_view_name": "StyleView",
      "bar_color": null,
      "description_width": "initial"
     }
    },
    "5807946c87154674af12a0e25946da29": {
     "model_module": "@jupyter-widgets/controls",
     "model_name": "FloatProgressModel",
     "state": {
      "_dom_classes": [],
      "_model_module": "@jupyter-widgets/controls",
      "_model_module_version": "1.5.0",
      "_model_name": "FloatProgressModel",
      "_view_count": null,
      "_view_module": "@jupyter-widgets/controls",
      "_view_module_version": "1.5.0",
      "_view_name": "ProgressView",
      "bar_style": "success",
      "description": "Test Loss: 0.5255, Test Acc: 0.7015: 100%",
      "description_tooltip": null,
      "layout": "IPY_MODEL_4d830a36344240ac94047618ba8dabb7",
      "max": 250,
      "min": 0,
      "orientation": "horizontal",
      "style": "IPY_MODEL_9336428dcc80437a895d3e297a9d87c5",
      "value": 250
     }
    },
    "5840e235228046b78ef91a39a73f9406": {
     "model_module": "@jupyter-widgets/controls",
     "model_name": "DescriptionStyleModel",
     "state": {
      "_model_module": "@jupyter-widgets/controls",
      "_model_module_version": "1.5.0",
      "_model_name": "DescriptionStyleModel",
      "_view_count": null,
      "_view_module": "@jupyter-widgets/base",
      "_view_module_version": "1.2.0",
      "_view_name": "StyleView",
      "description_width": ""
     }
    },
    "5adcd803740b4e02b47e0cab4e49deb4": {
     "model_module": "@jupyter-widgets/base",
     "model_name": "LayoutModel",
     "state": {
      "_model_module": "@jupyter-widgets/base",
      "_model_module_version": "1.2.0",
      "_model_name": "LayoutModel",
      "_view_count": null,
      "_view_module": "@jupyter-widgets/base",
      "_view_module_version": "1.2.0",
      "_view_name": "LayoutView",
      "align_content": null,
      "align_items": null,
      "align_self": null,
      "border": null,
      "bottom": null,
      "display": null,
      "flex": null,
      "flex_flow": null,
      "grid_area": null,
      "grid_auto_columns": null,
      "grid_auto_flow": null,
      "grid_auto_rows": null,
      "grid_column": null,
      "grid_gap": null,
      "grid_row": null,
      "grid_template_areas": null,
      "grid_template_columns": null,
      "grid_template_rows": null,
      "height": null,
      "justify_content": null,
      "justify_items": null,
      "left": null,
      "margin": null,
      "max_height": null,
      "max_width": null,
      "min_height": null,
      "min_width": null,
      "object_fit": null,
      "object_position": null,
      "order": null,
      "overflow": null,
      "overflow_x": null,
      "overflow_y": null,
      "padding": null,
      "right": null,
      "top": null,
      "visibility": null,
      "width": null
     }
    },
    "5bc0e62896a1499282b9960d6035ab1a": {
     "model_module": "@jupyter-widgets/controls",
     "model_name": "ProgressStyleModel",
     "state": {
      "_model_module": "@jupyter-widgets/controls",
      "_model_module_version": "1.5.0",
      "_model_name": "ProgressStyleModel",
      "_view_count": null,
      "_view_module": "@jupyter-widgets/base",
      "_view_module_version": "1.2.0",
      "_view_name": "StyleView",
      "bar_color": null,
      "description_width": "initial"
     }
    },
    "5e7903320b2c463bbc17571247d9e4e3": {
     "model_module": "@jupyter-widgets/base",
     "model_name": "LayoutModel",
     "state": {
      "_model_module": "@jupyter-widgets/base",
      "_model_module_version": "1.2.0",
      "_model_name": "LayoutModel",
      "_view_count": null,
      "_view_module": "@jupyter-widgets/base",
      "_view_module_version": "1.2.0",
      "_view_name": "LayoutView",
      "align_content": null,
      "align_items": null,
      "align_self": null,
      "border": null,
      "bottom": null,
      "display": null,
      "flex": null,
      "flex_flow": null,
      "grid_area": null,
      "grid_auto_columns": null,
      "grid_auto_flow": null,
      "grid_auto_rows": null,
      "grid_column": null,
      "grid_gap": null,
      "grid_row": null,
      "grid_template_areas": null,
      "grid_template_columns": null,
      "grid_template_rows": null,
      "height": null,
      "justify_content": null,
      "justify_items": null,
      "left": null,
      "margin": null,
      "max_height": null,
      "max_width": null,
      "min_height": null,
      "min_width": null,
      "object_fit": null,
      "object_position": null,
      "order": null,
      "overflow": null,
      "overflow_x": null,
      "overflow_y": null,
      "padding": null,
      "right": null,
      "top": null,
      "visibility": null,
      "width": null
     }
    },
    "6041dbd092f448319b71ecf0b2568a60": {
     "model_module": "@jupyter-widgets/base",
     "model_name": "LayoutModel",
     "state": {
      "_model_module": "@jupyter-widgets/base",
      "_model_module_version": "1.2.0",
      "_model_name": "LayoutModel",
      "_view_count": null,
      "_view_module": "@jupyter-widgets/base",
      "_view_module_version": "1.2.0",
      "_view_name": "LayoutView",
      "align_content": null,
      "align_items": null,
      "align_self": null,
      "border": null,
      "bottom": null,
      "display": null,
      "flex": null,
      "flex_flow": null,
      "grid_area": null,
      "grid_auto_columns": null,
      "grid_auto_flow": null,
      "grid_auto_rows": null,
      "grid_column": null,
      "grid_gap": null,
      "grid_row": null,
      "grid_template_areas": null,
      "grid_template_columns": null,
      "grid_template_rows": null,
      "height": null,
      "justify_content": null,
      "justify_items": null,
      "left": null,
      "margin": null,
      "max_height": null,
      "max_width": null,
      "min_height": null,
      "min_width": null,
      "object_fit": null,
      "object_position": null,
      "order": null,
      "overflow": null,
      "overflow_x": null,
      "overflow_y": null,
      "padding": null,
      "right": null,
      "top": null,
      "visibility": null,
      "width": null
     }
    },
    "615a1b9e25a24a9bb9e416a53a1c8bf7": {
     "model_module": "@jupyter-widgets/base",
     "model_name": "LayoutModel",
     "state": {
      "_model_module": "@jupyter-widgets/base",
      "_model_module_version": "1.2.0",
      "_model_name": "LayoutModel",
      "_view_count": null,
      "_view_module": "@jupyter-widgets/base",
      "_view_module_version": "1.2.0",
      "_view_name": "LayoutView",
      "align_content": null,
      "align_items": null,
      "align_self": null,
      "border": null,
      "bottom": null,
      "display": null,
      "flex": null,
      "flex_flow": null,
      "grid_area": null,
      "grid_auto_columns": null,
      "grid_auto_flow": null,
      "grid_auto_rows": null,
      "grid_column": null,
      "grid_gap": null,
      "grid_row": null,
      "grid_template_areas": null,
      "grid_template_columns": null,
      "grid_template_rows": null,
      "height": null,
      "justify_content": null,
      "justify_items": null,
      "left": null,
      "margin": null,
      "max_height": null,
      "max_width": null,
      "min_height": null,
      "min_width": null,
      "object_fit": null,
      "object_position": null,
      "order": null,
      "overflow": null,
      "overflow_x": null,
      "overflow_y": null,
      "padding": null,
      "right": null,
      "top": null,
      "visibility": null,
      "width": null
     }
    },
    "61841a72207b4cd290a352ba4be7893b": {
     "model_module": "@jupyter-widgets/controls",
     "model_name": "FloatProgressModel",
     "state": {
      "_dom_classes": [],
      "_model_module": "@jupyter-widgets/controls",
      "_model_module_version": "1.5.0",
      "_model_name": "FloatProgressModel",
      "_view_count": null,
      "_view_module": "@jupyter-widgets/controls",
      "_view_module_version": "1.5.0",
      "_view_name": "ProgressView",
      "bar_style": "success",
      "description": "Test Loss: 0.5167, Test Acc: 0.709: 100%",
      "description_tooltip": null,
      "layout": "IPY_MODEL_087beb3effde4b44a71b2750c37c14ef",
      "max": 313,
      "min": 0,
      "orientation": "horizontal",
      "style": "IPY_MODEL_c8ba9031329440b1a21be92ad366cb45",
      "value": 313
     }
    },
    "62f042cc3b484177aa672810ce564d3c": {
     "model_module": "@jupyter-widgets/base",
     "model_name": "LayoutModel",
     "state": {
      "_model_module": "@jupyter-widgets/base",
      "_model_module_version": "1.2.0",
      "_model_name": "LayoutModel",
      "_view_count": null,
      "_view_module": "@jupyter-widgets/base",
      "_view_module_version": "1.2.0",
      "_view_name": "LayoutView",
      "align_content": null,
      "align_items": null,
      "align_self": null,
      "border": null,
      "bottom": null,
      "display": null,
      "flex": null,
      "flex_flow": null,
      "grid_area": null,
      "grid_auto_columns": null,
      "grid_auto_flow": null,
      "grid_auto_rows": null,
      "grid_column": null,
      "grid_gap": null,
      "grid_row": null,
      "grid_template_areas": null,
      "grid_template_columns": null,
      "grid_template_rows": null,
      "height": null,
      "justify_content": null,
      "justify_items": null,
      "left": null,
      "margin": null,
      "max_height": null,
      "max_width": null,
      "min_height": null,
      "min_width": null,
      "object_fit": null,
      "object_position": null,
      "order": null,
      "overflow": null,
      "overflow_x": null,
      "overflow_y": null,
      "padding": null,
      "right": null,
      "top": null,
      "visibility": null,
      "width": null
     }
    },
    "639256e00d644398901ff92fcd178348": {
     "model_module": "@jupyter-widgets/controls",
     "model_name": "HTMLModel",
     "state": {
      "_dom_classes": [],
      "_model_module": "@jupyter-widgets/controls",
      "_model_module_version": "1.5.0",
      "_model_name": "HTMLModel",
      "_view_count": null,
      "_view_module": "@jupyter-widgets/controls",
      "_view_module_version": "1.5.0",
      "_view_name": "HTMLView",
      "description": "",
      "description_tooltip": null,
      "layout": "IPY_MODEL_1ab4087d578743389c2d7e4f1ccac618",
      "placeholder": "​",
      "style": "IPY_MODEL_644ea527878242f6b6c7067c56c4b41b",
      "value": " 1000/1000 [1:20:38&lt;00:00,  4.84s/it]"
     }
    },
    "644ea527878242f6b6c7067c56c4b41b": {
     "model_module": "@jupyter-widgets/controls",
     "model_name": "DescriptionStyleModel",
     "state": {
      "_model_module": "@jupyter-widgets/controls",
      "_model_module_version": "1.5.0",
      "_model_name": "DescriptionStyleModel",
      "_view_count": null,
      "_view_module": "@jupyter-widgets/base",
      "_view_module_version": "1.2.0",
      "_view_name": "StyleView",
      "description_width": ""
     }
    },
    "659b8d3907eb47f3ab0b27b9dd8f1662": {
     "model_module": "@jupyter-widgets/base",
     "model_name": "LayoutModel",
     "state": {
      "_model_module": "@jupyter-widgets/base",
      "_model_module_version": "1.2.0",
      "_model_name": "LayoutModel",
      "_view_count": null,
      "_view_module": "@jupyter-widgets/base",
      "_view_module_version": "1.2.0",
      "_view_name": "LayoutView",
      "align_content": null,
      "align_items": null,
      "align_self": null,
      "border": null,
      "bottom": null,
      "display": null,
      "flex": null,
      "flex_flow": null,
      "grid_area": null,
      "grid_auto_columns": null,
      "grid_auto_flow": null,
      "grid_auto_rows": null,
      "grid_column": null,
      "grid_gap": null,
      "grid_row": null,
      "grid_template_areas": null,
      "grid_template_columns": null,
      "grid_template_rows": null,
      "height": null,
      "justify_content": null,
      "justify_items": null,
      "left": null,
      "margin": null,
      "max_height": null,
      "max_width": null,
      "min_height": null,
      "min_width": null,
      "object_fit": null,
      "object_position": null,
      "order": null,
      "overflow": null,
      "overflow_x": null,
      "overflow_y": null,
      "padding": null,
      "right": null,
      "top": null,
      "visibility": null,
      "width": null
     }
    },
    "6be0877177c04faa8f4acf13eca3fddd": {
     "model_module": "@jupyter-widgets/base",
     "model_name": "LayoutModel",
     "state": {
      "_model_module": "@jupyter-widgets/base",
      "_model_module_version": "1.2.0",
      "_model_name": "LayoutModel",
      "_view_count": null,
      "_view_module": "@jupyter-widgets/base",
      "_view_module_version": "1.2.0",
      "_view_name": "LayoutView",
      "align_content": null,
      "align_items": null,
      "align_self": null,
      "border": null,
      "bottom": null,
      "display": null,
      "flex": null,
      "flex_flow": null,
      "grid_area": null,
      "grid_auto_columns": null,
      "grid_auto_flow": null,
      "grid_auto_rows": null,
      "grid_column": null,
      "grid_gap": null,
      "grid_row": null,
      "grid_template_areas": null,
      "grid_template_columns": null,
      "grid_template_rows": null,
      "height": null,
      "justify_content": null,
      "justify_items": null,
      "left": null,
      "margin": null,
      "max_height": null,
      "max_width": null,
      "min_height": null,
      "min_width": null,
      "object_fit": null,
      "object_position": null,
      "order": null,
      "overflow": null,
      "overflow_x": null,
      "overflow_y": null,
      "padding": null,
      "right": null,
      "top": null,
      "visibility": null,
      "width": null
     }
    },
    "6cbb9c0415c94b2fb5e81cd221948bef": {
     "model_module": "@jupyter-widgets/base",
     "model_name": "LayoutModel",
     "state": {
      "_model_module": "@jupyter-widgets/base",
      "_model_module_version": "1.2.0",
      "_model_name": "LayoutModel",
      "_view_count": null,
      "_view_module": "@jupyter-widgets/base",
      "_view_module_version": "1.2.0",
      "_view_name": "LayoutView",
      "align_content": null,
      "align_items": null,
      "align_self": null,
      "border": null,
      "bottom": null,
      "display": null,
      "flex": null,
      "flex_flow": null,
      "grid_area": null,
      "grid_auto_columns": null,
      "grid_auto_flow": null,
      "grid_auto_rows": null,
      "grid_column": null,
      "grid_gap": null,
      "grid_row": null,
      "grid_template_areas": null,
      "grid_template_columns": null,
      "grid_template_rows": null,
      "height": null,
      "justify_content": null,
      "justify_items": null,
      "left": null,
      "margin": null,
      "max_height": null,
      "max_width": null,
      "min_height": null,
      "min_width": null,
      "object_fit": null,
      "object_position": null,
      "order": null,
      "overflow": null,
      "overflow_x": null,
      "overflow_y": null,
      "padding": null,
      "right": null,
      "top": null,
      "visibility": null,
      "width": null
     }
    },
    "6d0ab3996f9a4bf0a672cc59f8e32f21": {
     "model_module": "@jupyter-widgets/controls",
     "model_name": "HTMLModel",
     "state": {
      "_dom_classes": [],
      "_model_module": "@jupyter-widgets/controls",
      "_model_module_version": "1.5.0",
      "_model_name": "HTMLModel",
      "_view_count": null,
      "_view_module": "@jupyter-widgets/controls",
      "_view_module_version": "1.5.0",
      "_view_name": "HTMLView",
      "description": "",
      "description_tooltip": null,
      "layout": "IPY_MODEL_cec444b0199f4cb5814ef60fc2723e79",
      "placeholder": "​",
      "style": "IPY_MODEL_caed38eeaad74a3381be2353383c321d",
      "value": " 1000/1000 [02:36&lt;00:00,  6.39it/s]"
     }
    },
    "70d5cfdb69664cbcbea0eba190694153": {
     "model_module": "@jupyter-widgets/controls",
     "model_name": "ProgressStyleModel",
     "state": {
      "_model_module": "@jupyter-widgets/controls",
      "_model_module_version": "1.5.0",
      "_model_name": "ProgressStyleModel",
      "_view_count": null,
      "_view_module": "@jupyter-widgets/base",
      "_view_module_version": "1.2.0",
      "_view_name": "StyleView",
      "bar_color": null,
      "description_width": "initial"
     }
    },
    "712ebd7ff4414760afbc140412676d0d": {
     "model_module": "@jupyter-widgets/base",
     "model_name": "LayoutModel",
     "state": {
      "_model_module": "@jupyter-widgets/base",
      "_model_module_version": "1.2.0",
      "_model_name": "LayoutModel",
      "_view_count": null,
      "_view_module": "@jupyter-widgets/base",
      "_view_module_version": "1.2.0",
      "_view_name": "LayoutView",
      "align_content": null,
      "align_items": null,
      "align_self": null,
      "border": null,
      "bottom": null,
      "display": null,
      "flex": null,
      "flex_flow": null,
      "grid_area": null,
      "grid_auto_columns": null,
      "grid_auto_flow": null,
      "grid_auto_rows": null,
      "grid_column": null,
      "grid_gap": null,
      "grid_row": null,
      "grid_template_areas": null,
      "grid_template_columns": null,
      "grid_template_rows": null,
      "height": null,
      "justify_content": null,
      "justify_items": null,
      "left": null,
      "margin": null,
      "max_height": null,
      "max_width": null,
      "min_height": null,
      "min_width": null,
      "object_fit": null,
      "object_position": null,
      "order": null,
      "overflow": null,
      "overflow_x": null,
      "overflow_y": null,
      "padding": null,
      "right": null,
      "top": null,
      "visibility": null,
      "width": null
     }
    },
    "715bb33dfc624aa1be8c99656bc47805": {
     "model_module": "@jupyter-widgets/controls",
     "model_name": "HBoxModel",
     "state": {
      "_dom_classes": [],
      "_model_module": "@jupyter-widgets/controls",
      "_model_module_version": "1.5.0",
      "_model_name": "HBoxModel",
      "_view_count": null,
      "_view_module": "@jupyter-widgets/controls",
      "_view_module_version": "1.5.0",
      "_view_name": "HBoxView",
      "box_style": "",
      "children": [
       "IPY_MODEL_e1044b6187f74ccbba2afcfb0403ed8c",
       "IPY_MODEL_f50097fe4d944d3d89ad1889946c149d"
      ],
      "layout": "IPY_MODEL_4c1d1d25910f4f64a6ffd4c8fbff38d8"
     }
    },
    "7224ca125a894573a18129eafcee3522": {
     "model_module": "@jupyter-widgets/controls",
     "model_name": "DescriptionStyleModel",
     "state": {
      "_model_module": "@jupyter-widgets/controls",
      "_model_module_version": "1.5.0",
      "_model_name": "DescriptionStyleModel",
      "_view_count": null,
      "_view_module": "@jupyter-widgets/base",
      "_view_module_version": "1.2.0",
      "_view_name": "StyleView",
      "description_width": ""
     }
    },
    "73d30ab7f69d4536afa1a71489ca6bff": {
     "model_module": "@jupyter-widgets/controls",
     "model_name": "DescriptionStyleModel",
     "state": {
      "_model_module": "@jupyter-widgets/controls",
      "_model_module_version": "1.5.0",
      "_model_name": "DescriptionStyleModel",
      "_view_count": null,
      "_view_module": "@jupyter-widgets/base",
      "_view_module_version": "1.2.0",
      "_view_name": "StyleView",
      "description_width": ""
     }
    },
    "7af6217b7ff74163835a5e895ec1a570": {
     "model_module": "@jupyter-widgets/controls",
     "model_name": "ProgressStyleModel",
     "state": {
      "_model_module": "@jupyter-widgets/controls",
      "_model_module_version": "1.5.0",
      "_model_name": "ProgressStyleModel",
      "_view_count": null,
      "_view_module": "@jupyter-widgets/base",
      "_view_module_version": "1.2.0",
      "_view_name": "StyleView",
      "bar_color": null,
      "description_width": "initial"
     }
    },
    "831ed68e8be649fe9ea8ed0ef4229c40": {
     "model_module": "@jupyter-widgets/base",
     "model_name": "LayoutModel",
     "state": {
      "_model_module": "@jupyter-widgets/base",
      "_model_module_version": "1.2.0",
      "_model_name": "LayoutModel",
      "_view_count": null,
      "_view_module": "@jupyter-widgets/base",
      "_view_module_version": "1.2.0",
      "_view_name": "LayoutView",
      "align_content": null,
      "align_items": null,
      "align_self": null,
      "border": null,
      "bottom": null,
      "display": null,
      "flex": null,
      "flex_flow": null,
      "grid_area": null,
      "grid_auto_columns": null,
      "grid_auto_flow": null,
      "grid_auto_rows": null,
      "grid_column": null,
      "grid_gap": null,
      "grid_row": null,
      "grid_template_areas": null,
      "grid_template_columns": null,
      "grid_template_rows": null,
      "height": null,
      "justify_content": null,
      "justify_items": null,
      "left": null,
      "margin": null,
      "max_height": null,
      "max_width": null,
      "min_height": null,
      "min_width": null,
      "object_fit": null,
      "object_position": null,
      "order": null,
      "overflow": null,
      "overflow_x": null,
      "overflow_y": null,
      "padding": null,
      "right": null,
      "top": null,
      "visibility": null,
      "width": null
     }
    },
    "8492343f204e4373b1fd4b411a7ab530": {
     "model_module": "@jupyter-widgets/base",
     "model_name": "LayoutModel",
     "state": {
      "_model_module": "@jupyter-widgets/base",
      "_model_module_version": "1.2.0",
      "_model_name": "LayoutModel",
      "_view_count": null,
      "_view_module": "@jupyter-widgets/base",
      "_view_module_version": "1.2.0",
      "_view_name": "LayoutView",
      "align_content": null,
      "align_items": null,
      "align_self": null,
      "border": null,
      "bottom": null,
      "display": null,
      "flex": null,
      "flex_flow": null,
      "grid_area": null,
      "grid_auto_columns": null,
      "grid_auto_flow": null,
      "grid_auto_rows": null,
      "grid_column": null,
      "grid_gap": null,
      "grid_row": null,
      "grid_template_areas": null,
      "grid_template_columns": null,
      "grid_template_rows": null,
      "height": null,
      "justify_content": null,
      "justify_items": null,
      "left": null,
      "margin": null,
      "max_height": null,
      "max_width": null,
      "min_height": null,
      "min_width": null,
      "object_fit": null,
      "object_position": null,
      "order": null,
      "overflow": null,
      "overflow_x": null,
      "overflow_y": null,
      "padding": null,
      "right": null,
      "top": null,
      "visibility": null,
      "width": null
     }
    },
    "8748e7ad89c742f7b3481bbe98dc6159": {
     "model_module": "@jupyter-widgets/base",
     "model_name": "LayoutModel",
     "state": {
      "_model_module": "@jupyter-widgets/base",
      "_model_module_version": "1.2.0",
      "_model_name": "LayoutModel",
      "_view_count": null,
      "_view_module": "@jupyter-widgets/base",
      "_view_module_version": "1.2.0",
      "_view_name": "LayoutView",
      "align_content": null,
      "align_items": null,
      "align_self": null,
      "border": null,
      "bottom": null,
      "display": null,
      "flex": null,
      "flex_flow": null,
      "grid_area": null,
      "grid_auto_columns": null,
      "grid_auto_flow": null,
      "grid_auto_rows": null,
      "grid_column": null,
      "grid_gap": null,
      "grid_row": null,
      "grid_template_areas": null,
      "grid_template_columns": null,
      "grid_template_rows": null,
      "height": null,
      "justify_content": null,
      "justify_items": null,
      "left": null,
      "margin": null,
      "max_height": null,
      "max_width": null,
      "min_height": null,
      "min_width": null,
      "object_fit": null,
      "object_position": null,
      "order": null,
      "overflow": null,
      "overflow_x": null,
      "overflow_y": null,
      "padding": null,
      "right": null,
      "top": null,
      "visibility": null,
      "width": null
     }
    },
    "8a4a1fdce86d4912a882002e45ece1c1": {
     "model_module": "@jupyter-widgets/base",
     "model_name": "LayoutModel",
     "state": {
      "_model_module": "@jupyter-widgets/base",
      "_model_module_version": "1.2.0",
      "_model_name": "LayoutModel",
      "_view_count": null,
      "_view_module": "@jupyter-widgets/base",
      "_view_module_version": "1.2.0",
      "_view_name": "LayoutView",
      "align_content": null,
      "align_items": null,
      "align_self": null,
      "border": null,
      "bottom": null,
      "display": null,
      "flex": null,
      "flex_flow": null,
      "grid_area": null,
      "grid_auto_columns": null,
      "grid_auto_flow": null,
      "grid_auto_rows": null,
      "grid_column": null,
      "grid_gap": null,
      "grid_row": null,
      "grid_template_areas": null,
      "grid_template_columns": null,
      "grid_template_rows": null,
      "height": null,
      "justify_content": null,
      "justify_items": null,
      "left": null,
      "margin": null,
      "max_height": null,
      "max_width": null,
      "min_height": null,
      "min_width": null,
      "object_fit": null,
      "object_position": null,
      "order": null,
      "overflow": null,
      "overflow_x": null,
      "overflow_y": null,
      "padding": null,
      "right": null,
      "top": null,
      "visibility": null,
      "width": null
     }
    },
    "8ccd788073764f0ba40b4592ecabfbef": {
     "model_module": "@jupyter-widgets/controls",
     "model_name": "HBoxModel",
     "state": {
      "_dom_classes": [],
      "_model_module": "@jupyter-widgets/controls",
      "_model_module_version": "1.5.0",
      "_model_name": "HBoxModel",
      "_view_count": null,
      "_view_module": "@jupyter-widgets/controls",
      "_view_module_version": "1.5.0",
      "_view_name": "HBoxView",
      "box_style": "",
      "children": [
       "IPY_MODEL_55fb5ec8c4b74ee985db71e963d86988",
       "IPY_MODEL_26678bd3bc2a40beb9276abacd8be45b"
      ],
      "layout": "IPY_MODEL_6be0877177c04faa8f4acf13eca3fddd"
     }
    },
    "8dd3bbf92fa5467385cd338860b446fa": {
     "model_module": "@jupyter-widgets/base",
     "model_name": "LayoutModel",
     "state": {
      "_model_module": "@jupyter-widgets/base",
      "_model_module_version": "1.2.0",
      "_model_name": "LayoutModel",
      "_view_count": null,
      "_view_module": "@jupyter-widgets/base",
      "_view_module_version": "1.2.0",
      "_view_name": "LayoutView",
      "align_content": null,
      "align_items": null,
      "align_self": null,
      "border": null,
      "bottom": null,
      "display": null,
      "flex": null,
      "flex_flow": null,
      "grid_area": null,
      "grid_auto_columns": null,
      "grid_auto_flow": null,
      "grid_auto_rows": null,
      "grid_column": null,
      "grid_gap": null,
      "grid_row": null,
      "grid_template_areas": null,
      "grid_template_columns": null,
      "grid_template_rows": null,
      "height": null,
      "justify_content": null,
      "justify_items": null,
      "left": null,
      "margin": null,
      "max_height": null,
      "max_width": null,
      "min_height": null,
      "min_width": null,
      "object_fit": null,
      "object_position": null,
      "order": null,
      "overflow": null,
      "overflow_x": null,
      "overflow_y": null,
      "padding": null,
      "right": null,
      "top": null,
      "visibility": null,
      "width": null
     }
    },
    "8e811765ce4b429d9cd72e17956f9d10": {
     "model_module": "@jupyter-widgets/base",
     "model_name": "LayoutModel",
     "state": {
      "_model_module": "@jupyter-widgets/base",
      "_model_module_version": "1.2.0",
      "_model_name": "LayoutModel",
      "_view_count": null,
      "_view_module": "@jupyter-widgets/base",
      "_view_module_version": "1.2.0",
      "_view_name": "LayoutView",
      "align_content": null,
      "align_items": null,
      "align_self": null,
      "border": null,
      "bottom": null,
      "display": null,
      "flex": null,
      "flex_flow": null,
      "grid_area": null,
      "grid_auto_columns": null,
      "grid_auto_flow": null,
      "grid_auto_rows": null,
      "grid_column": null,
      "grid_gap": null,
      "grid_row": null,
      "grid_template_areas": null,
      "grid_template_columns": null,
      "grid_template_rows": null,
      "height": null,
      "justify_content": null,
      "justify_items": null,
      "left": null,
      "margin": null,
      "max_height": null,
      "max_width": null,
      "min_height": null,
      "min_width": null,
      "object_fit": null,
      "object_position": null,
      "order": null,
      "overflow": null,
      "overflow_x": null,
      "overflow_y": null,
      "padding": null,
      "right": null,
      "top": null,
      "visibility": null,
      "width": null
     }
    },
    "8ff83981b6d14560bdb0c7ef52236508": {
     "model_module": "@jupyter-widgets/controls",
     "model_name": "ProgressStyleModel",
     "state": {
      "_model_module": "@jupyter-widgets/controls",
      "_model_module_version": "1.5.0",
      "_model_name": "ProgressStyleModel",
      "_view_count": null,
      "_view_module": "@jupyter-widgets/base",
      "_view_module_version": "1.2.0",
      "_view_name": "StyleView",
      "bar_color": null,
      "description_width": "initial"
     }
    },
    "91c2f6a925b64752a319bdcbe6df27d9": {
     "model_module": "@jupyter-widgets/controls",
     "model_name": "FloatProgressModel",
     "state": {
      "_dom_classes": [],
      "_model_module": "@jupyter-widgets/controls",
      "_model_module_version": "1.5.0",
      "_model_name": "FloatProgressModel",
      "_view_count": null,
      "_view_module": "@jupyter-widgets/controls",
      "_view_module_version": "1.5.0",
      "_view_name": "ProgressView",
      "bar_style": "success",
      "description": "Epoch 1. Train Loss: 0.5088: 100%",
      "description_tooltip": null,
      "layout": "IPY_MODEL_b1b0d07d7e444f75b53a32f745338997",
      "max": 1000,
      "min": 0,
      "orientation": "horizontal",
      "style": "IPY_MODEL_2e0928f8a59c4fb9ae50978fa7ed4ce7",
      "value": 1000
     }
    },
    "9336428dcc80437a895d3e297a9d87c5": {
     "model_module": "@jupyter-widgets/controls",
     "model_name": "ProgressStyleModel",
     "state": {
      "_model_module": "@jupyter-widgets/controls",
      "_model_module_version": "1.5.0",
      "_model_name": "ProgressStyleModel",
      "_view_count": null,
      "_view_module": "@jupyter-widgets/base",
      "_view_module_version": "1.2.0",
      "_view_name": "StyleView",
      "bar_color": null,
      "description_width": "initial"
     }
    },
    "95733e2fea4844acb66fcd7547cf4715": {
     "model_module": "@jupyter-widgets/controls",
     "model_name": "HBoxModel",
     "state": {
      "_dom_classes": [],
      "_model_module": "@jupyter-widgets/controls",
      "_model_module_version": "1.5.0",
      "_model_name": "HBoxModel",
      "_view_count": null,
      "_view_module": "@jupyter-widgets/controls",
      "_view_module_version": "1.5.0",
      "_view_name": "HBoxView",
      "box_style": "",
      "children": [
       "IPY_MODEL_40e968d0b7a843eeb017d9adc715cbe5",
       "IPY_MODEL_bb65ea330e8046ebae40ce67d60eaf5a"
      ],
      "layout": "IPY_MODEL_358fe9e804fe4fd6bcd9aa42736f158c"
     }
    },
    "95f0a88bf0594f94821dadce32dd1c4b": {
     "model_module": "@jupyter-widgets/controls",
     "model_name": "HBoxModel",
     "state": {
      "_dom_classes": [],
      "_model_module": "@jupyter-widgets/controls",
      "_model_module_version": "1.5.0",
      "_model_name": "HBoxModel",
      "_view_count": null,
      "_view_module": "@jupyter-widgets/controls",
      "_view_module_version": "1.5.0",
      "_view_name": "HBoxView",
      "box_style": "",
      "children": [
       "IPY_MODEL_91c2f6a925b64752a319bdcbe6df27d9",
       "IPY_MODEL_f2240f13147448508315878e1c4ddcd3"
      ],
      "layout": "IPY_MODEL_e04d65289dc842e58d5104ca9999d807"
     }
    },
    "9941487cc5ff4f3787b84f37429c08bd": {
     "model_module": "@jupyter-widgets/controls",
     "model_name": "HTMLModel",
     "state": {
      "_dom_classes": [],
      "_model_module": "@jupyter-widgets/controls",
      "_model_module_version": "1.5.0",
      "_model_name": "HTMLModel",
      "_view_count": null,
      "_view_module": "@jupyter-widgets/controls",
      "_view_module_version": "1.5.0",
      "_view_name": "HTMLView",
      "description": "",
      "description_tooltip": null,
      "layout": "IPY_MODEL_a2036018d08a498193988e4f19c95198",
      "placeholder": "​",
      "style": "IPY_MODEL_5840e235228046b78ef91a39a73f9406",
      "value": " 250/250 [00:43&lt;00:00,  5.71it/s]"
     }
    },
    "99a8c91eb6db4f41a1aa33f5159214ef": {
     "model_module": "@jupyter-widgets/controls",
     "model_name": "DescriptionStyleModel",
     "state": {
      "_model_module": "@jupyter-widgets/controls",
      "_model_module_version": "1.5.0",
      "_model_name": "DescriptionStyleModel",
      "_view_count": null,
      "_view_module": "@jupyter-widgets/base",
      "_view_module_version": "1.2.0",
      "_view_name": "StyleView",
      "description_width": ""
     }
    },
    "9e2168d12661468a8d448715032ced0e": {
     "model_module": "@jupyter-widgets/base",
     "model_name": "LayoutModel",
     "state": {
      "_model_module": "@jupyter-widgets/base",
      "_model_module_version": "1.2.0",
      "_model_name": "LayoutModel",
      "_view_count": null,
      "_view_module": "@jupyter-widgets/base",
      "_view_module_version": "1.2.0",
      "_view_name": "LayoutView",
      "align_content": null,
      "align_items": null,
      "align_self": null,
      "border": null,
      "bottom": null,
      "display": null,
      "flex": null,
      "flex_flow": null,
      "grid_area": null,
      "grid_auto_columns": null,
      "grid_auto_flow": null,
      "grid_auto_rows": null,
      "grid_column": null,
      "grid_gap": null,
      "grid_row": null,
      "grid_template_areas": null,
      "grid_template_columns": null,
      "grid_template_rows": null,
      "height": null,
      "justify_content": null,
      "justify_items": null,
      "left": null,
      "margin": null,
      "max_height": null,
      "max_width": null,
      "min_height": null,
      "min_width": null,
      "object_fit": null,
      "object_position": null,
      "order": null,
      "overflow": null,
      "overflow_x": null,
      "overflow_y": null,
      "padding": null,
      "right": null,
      "top": null,
      "visibility": null,
      "width": null
     }
    },
    "9f4f448ed9c649b3b7b04ef4eb2c1c58": {
     "model_module": "@jupyter-widgets/controls",
     "model_name": "DescriptionStyleModel",
     "state": {
      "_model_module": "@jupyter-widgets/controls",
      "_model_module_version": "1.5.0",
      "_model_name": "DescriptionStyleModel",
      "_view_count": null,
      "_view_module": "@jupyter-widgets/base",
      "_view_module_version": "1.2.0",
      "_view_name": "StyleView",
      "description_width": ""
     }
    },
    "9f5dc67765084c8b8f5801c81cc87695": {
     "model_module": "@jupyter-widgets/base",
     "model_name": "LayoutModel",
     "state": {
      "_model_module": "@jupyter-widgets/base",
      "_model_module_version": "1.2.0",
      "_model_name": "LayoutModel",
      "_view_count": null,
      "_view_module": "@jupyter-widgets/base",
      "_view_module_version": "1.2.0",
      "_view_name": "LayoutView",
      "align_content": null,
      "align_items": null,
      "align_self": null,
      "border": null,
      "bottom": null,
      "display": null,
      "flex": null,
      "flex_flow": null,
      "grid_area": null,
      "grid_auto_columns": null,
      "grid_auto_flow": null,
      "grid_auto_rows": null,
      "grid_column": null,
      "grid_gap": null,
      "grid_row": null,
      "grid_template_areas": null,
      "grid_template_columns": null,
      "grid_template_rows": null,
      "height": null,
      "justify_content": null,
      "justify_items": null,
      "left": null,
      "margin": null,
      "max_height": null,
      "max_width": null,
      "min_height": null,
      "min_width": null,
      "object_fit": null,
      "object_position": null,
      "order": null,
      "overflow": null,
      "overflow_x": null,
      "overflow_y": null,
      "padding": null,
      "right": null,
      "top": null,
      "visibility": null,
      "width": null
     }
    },
    "a2036018d08a498193988e4f19c95198": {
     "model_module": "@jupyter-widgets/base",
     "model_name": "LayoutModel",
     "state": {
      "_model_module": "@jupyter-widgets/base",
      "_model_module_version": "1.2.0",
      "_model_name": "LayoutModel",
      "_view_count": null,
      "_view_module": "@jupyter-widgets/base",
      "_view_module_version": "1.2.0",
      "_view_name": "LayoutView",
      "align_content": null,
      "align_items": null,
      "align_self": null,
      "border": null,
      "bottom": null,
      "display": null,
      "flex": null,
      "flex_flow": null,
      "grid_area": null,
      "grid_auto_columns": null,
      "grid_auto_flow": null,
      "grid_auto_rows": null,
      "grid_column": null,
      "grid_gap": null,
      "grid_row": null,
      "grid_template_areas": null,
      "grid_template_columns": null,
      "grid_template_rows": null,
      "height": null,
      "justify_content": null,
      "justify_items": null,
      "left": null,
      "margin": null,
      "max_height": null,
      "max_width": null,
      "min_height": null,
      "min_width": null,
      "object_fit": null,
      "object_position": null,
      "order": null,
      "overflow": null,
      "overflow_x": null,
      "overflow_y": null,
      "padding": null,
      "right": null,
      "top": null,
      "visibility": null,
      "width": null
     }
    },
    "a6f3371a7821496aa8ba27ade9ec82be": {
     "model_module": "@jupyter-widgets/controls",
     "model_name": "ProgressStyleModel",
     "state": {
      "_model_module": "@jupyter-widgets/controls",
      "_model_module_version": "1.5.0",
      "_model_name": "ProgressStyleModel",
      "_view_count": null,
      "_view_module": "@jupyter-widgets/base",
      "_view_module_version": "1.2.0",
      "_view_name": "StyleView",
      "bar_color": null,
      "description_width": "initial"
     }
    },
    "a7f09a637b754d949f7fa0181c2c87c3": {
     "model_module": "@jupyter-widgets/controls",
     "model_name": "DescriptionStyleModel",
     "state": {
      "_model_module": "@jupyter-widgets/controls",
      "_model_module_version": "1.5.0",
      "_model_name": "DescriptionStyleModel",
      "_view_count": null,
      "_view_module": "@jupyter-widgets/base",
      "_view_module_version": "1.2.0",
      "_view_name": "StyleView",
      "description_width": ""
     }
    },
    "ad36f617c21e43c0a26e36041b95922b": {
     "model_module": "@jupyter-widgets/base",
     "model_name": "LayoutModel",
     "state": {
      "_model_module": "@jupyter-widgets/base",
      "_model_module_version": "1.2.0",
      "_model_name": "LayoutModel",
      "_view_count": null,
      "_view_module": "@jupyter-widgets/base",
      "_view_module_version": "1.2.0",
      "_view_name": "LayoutView",
      "align_content": null,
      "align_items": null,
      "align_self": null,
      "border": null,
      "bottom": null,
      "display": null,
      "flex": null,
      "flex_flow": null,
      "grid_area": null,
      "grid_auto_columns": null,
      "grid_auto_flow": null,
      "grid_auto_rows": null,
      "grid_column": null,
      "grid_gap": null,
      "grid_row": null,
      "grid_template_areas": null,
      "grid_template_columns": null,
      "grid_template_rows": null,
      "height": null,
      "justify_content": null,
      "justify_items": null,
      "left": null,
      "margin": null,
      "max_height": null,
      "max_width": null,
      "min_height": null,
      "min_width": null,
      "object_fit": null,
      "object_position": null,
      "order": null,
      "overflow": null,
      "overflow_x": null,
      "overflow_y": null,
      "padding": null,
      "right": null,
      "top": null,
      "visibility": null,
      "width": null
     }
    },
    "aff28f1299f5411db3466934a13c6b77": {
     "model_module": "@jupyter-widgets/base",
     "model_name": "LayoutModel",
     "state": {
      "_model_module": "@jupyter-widgets/base",
      "_model_module_version": "1.2.0",
      "_model_name": "LayoutModel",
      "_view_count": null,
      "_view_module": "@jupyter-widgets/base",
      "_view_module_version": "1.2.0",
      "_view_name": "LayoutView",
      "align_content": null,
      "align_items": null,
      "align_self": null,
      "border": null,
      "bottom": null,
      "display": null,
      "flex": null,
      "flex_flow": null,
      "grid_area": null,
      "grid_auto_columns": null,
      "grid_auto_flow": null,
      "grid_auto_rows": null,
      "grid_column": null,
      "grid_gap": null,
      "grid_row": null,
      "grid_template_areas": null,
      "grid_template_columns": null,
      "grid_template_rows": null,
      "height": null,
      "justify_content": null,
      "justify_items": null,
      "left": null,
      "margin": null,
      "max_height": null,
      "max_width": null,
      "min_height": null,
      "min_width": null,
      "object_fit": null,
      "object_position": null,
      "order": null,
      "overflow": null,
      "overflow_x": null,
      "overflow_y": null,
      "padding": null,
      "right": null,
      "top": null,
      "visibility": null,
      "width": null
     }
    },
    "b07c4b89473843b29d724c098fcc6ce6": {
     "model_module": "@jupyter-widgets/controls",
     "model_name": "HBoxModel",
     "state": {
      "_dom_classes": [],
      "_model_module": "@jupyter-widgets/controls",
      "_model_module_version": "1.5.0",
      "_model_name": "HBoxModel",
      "_view_count": null,
      "_view_module": "@jupyter-widgets/controls",
      "_view_module_version": "1.5.0",
      "_view_name": "HBoxView",
      "box_style": "",
      "children": [
       "IPY_MODEL_fed4895df82c407080a8b18097759cf3",
       "IPY_MODEL_639256e00d644398901ff92fcd178348"
      ],
      "layout": "IPY_MODEL_6cbb9c0415c94b2fb5e81cd221948bef"
     }
    },
    "b1b0d07d7e444f75b53a32f745338997": {
     "model_module": "@jupyter-widgets/base",
     "model_name": "LayoutModel",
     "state": {
      "_model_module": "@jupyter-widgets/base",
      "_model_module_version": "1.2.0",
      "_model_name": "LayoutModel",
      "_view_count": null,
      "_view_module": "@jupyter-widgets/base",
      "_view_module_version": "1.2.0",
      "_view_name": "LayoutView",
      "align_content": null,
      "align_items": null,
      "align_self": null,
      "border": null,
      "bottom": null,
      "display": null,
      "flex": null,
      "flex_flow": null,
      "grid_area": null,
      "grid_auto_columns": null,
      "grid_auto_flow": null,
      "grid_auto_rows": null,
      "grid_column": null,
      "grid_gap": null,
      "grid_row": null,
      "grid_template_areas": null,
      "grid_template_columns": null,
      "grid_template_rows": null,
      "height": null,
      "justify_content": null,
      "justify_items": null,
      "left": null,
      "margin": null,
      "max_height": null,
      "max_width": null,
      "min_height": null,
      "min_width": null,
      "object_fit": null,
      "object_position": null,
      "order": null,
      "overflow": null,
      "overflow_x": null,
      "overflow_y": null,
      "padding": null,
      "right": null,
      "top": null,
      "visibility": null,
      "width": null
     }
    },
    "b24f3b30fca6444d8b0d65ded4e65d20": {
     "model_module": "@jupyter-widgets/controls",
     "model_name": "DescriptionStyleModel",
     "state": {
      "_model_module": "@jupyter-widgets/controls",
      "_model_module_version": "1.5.0",
      "_model_name": "DescriptionStyleModel",
      "_view_count": null,
      "_view_module": "@jupyter-widgets/base",
      "_view_module_version": "1.2.0",
      "_view_name": "StyleView",
      "description_width": ""
     }
    },
    "b4f97cb58e9d4426b1aa549a82ef1212": {
     "model_module": "@jupyter-widgets/base",
     "model_name": "LayoutModel",
     "state": {
      "_model_module": "@jupyter-widgets/base",
      "_model_module_version": "1.2.0",
      "_model_name": "LayoutModel",
      "_view_count": null,
      "_view_module": "@jupyter-widgets/base",
      "_view_module_version": "1.2.0",
      "_view_name": "LayoutView",
      "align_content": null,
      "align_items": null,
      "align_self": null,
      "border": null,
      "bottom": null,
      "display": null,
      "flex": null,
      "flex_flow": null,
      "grid_area": null,
      "grid_auto_columns": null,
      "grid_auto_flow": null,
      "grid_auto_rows": null,
      "grid_column": null,
      "grid_gap": null,
      "grid_row": null,
      "grid_template_areas": null,
      "grid_template_columns": null,
      "grid_template_rows": null,
      "height": null,
      "justify_content": null,
      "justify_items": null,
      "left": null,
      "margin": null,
      "max_height": null,
      "max_width": null,
      "min_height": null,
      "min_width": null,
      "object_fit": null,
      "object_position": null,
      "order": null,
      "overflow": null,
      "overflow_x": null,
      "overflow_y": null,
      "padding": null,
      "right": null,
      "top": null,
      "visibility": null,
      "width": null
     }
    },
    "b5ad654302374739a1b6581a72693f19": {
     "model_module": "@jupyter-widgets/controls",
     "model_name": "DescriptionStyleModel",
     "state": {
      "_model_module": "@jupyter-widgets/controls",
      "_model_module_version": "1.5.0",
      "_model_name": "DescriptionStyleModel",
      "_view_count": null,
      "_view_module": "@jupyter-widgets/base",
      "_view_module_version": "1.2.0",
      "_view_name": "StyleView",
      "description_width": ""
     }
    },
    "b66218bd31034505ae20cf7ba72d39c7": {
     "model_module": "@jupyter-widgets/controls",
     "model_name": "HTMLModel",
     "state": {
      "_dom_classes": [],
      "_model_module": "@jupyter-widgets/controls",
      "_model_module_version": "1.5.0",
      "_model_name": "HTMLModel",
      "_view_count": null,
      "_view_module": "@jupyter-widgets/controls",
      "_view_module_version": "1.5.0",
      "_view_name": "HTMLView",
      "description": "",
      "description_tooltip": null,
      "layout": "IPY_MODEL_712ebd7ff4414760afbc140412676d0d",
      "placeholder": "​",
      "style": "IPY_MODEL_99a8c91eb6db4f41a1aa33f5159214ef",
      "value": " 313/313 [07:45&lt;00:00,  1.49s/it]"
     }
    },
    "b7c6a61d241f481eb199b5866f7b8989": {
     "model_module": "@jupyter-widgets/base",
     "model_name": "LayoutModel",
     "state": {
      "_model_module": "@jupyter-widgets/base",
      "_model_module_version": "1.2.0",
      "_model_name": "LayoutModel",
      "_view_count": null,
      "_view_module": "@jupyter-widgets/base",
      "_view_module_version": "1.2.0",
      "_view_name": "LayoutView",
      "align_content": null,
      "align_items": null,
      "align_self": null,
      "border": null,
      "bottom": null,
      "display": null,
      "flex": null,
      "flex_flow": null,
      "grid_area": null,
      "grid_auto_columns": null,
      "grid_auto_flow": null,
      "grid_auto_rows": null,
      "grid_column": null,
      "grid_gap": null,
      "grid_row": null,
      "grid_template_areas": null,
      "grid_template_columns": null,
      "grid_template_rows": null,
      "height": null,
      "justify_content": null,
      "justify_items": null,
      "left": null,
      "margin": null,
      "max_height": null,
      "max_width": null,
      "min_height": null,
      "min_width": null,
      "object_fit": null,
      "object_position": null,
      "order": null,
      "overflow": null,
      "overflow_x": null,
      "overflow_y": null,
      "padding": null,
      "right": null,
      "top": null,
      "visibility": null,
      "width": null
     }
    },
    "b8fb5dd785a646f6b7d8fb50924c28c3": {
     "model_module": "@jupyter-widgets/controls",
     "model_name": "FloatProgressModel",
     "state": {
      "_dom_classes": [],
      "_model_module": "@jupyter-widgets/controls",
      "_model_module_version": "1.5.0",
      "_model_name": "FloatProgressModel",
      "_view_count": null,
      "_view_module": "@jupyter-widgets/controls",
      "_view_module_version": "1.5.0",
      "_view_name": "ProgressView",
      "bar_style": "success",
      "description": "Test Loss: 0.5201, Test Acc: 0.6685: 100%",
      "description_tooltip": null,
      "layout": "IPY_MODEL_6041dbd092f448319b71ecf0b2568a60",
      "max": 250,
      "min": 0,
      "orientation": "horizontal",
      "style": "IPY_MODEL_c227ad606f3a447b81db45e49e450e5c",
      "value": 250
     }
    },
    "bb65ea330e8046ebae40ce67d60eaf5a": {
     "model_module": "@jupyter-widgets/controls",
     "model_name": "HTMLModel",
     "state": {
      "_dom_classes": [],
      "_model_module": "@jupyter-widgets/controls",
      "_model_module_version": "1.5.0",
      "_model_name": "HTMLModel",
      "_view_count": null,
      "_view_module": "@jupyter-widgets/controls",
      "_view_module_version": "1.5.0",
      "_view_name": "HTMLView",
      "description": "",
      "description_tooltip": null,
      "layout": "IPY_MODEL_f3792a09c0e0414590ccfa94f7f96cc8",
      "placeholder": "​",
      "style": "IPY_MODEL_a7f09a637b754d949f7fa0181c2c87c3",
      "value": " 1000/1000 [10:14&lt;00:00,  1.63it/s]"
     }
    },
    "c1805fb73c6f43f9b88991776061f80e": {
     "model_module": "@jupyter-widgets/controls",
     "model_name": "HBoxModel",
     "state": {
      "_dom_classes": [],
      "_model_module": "@jupyter-widgets/controls",
      "_model_module_version": "1.5.0",
      "_model_name": "HBoxModel",
      "_view_count": null,
      "_view_module": "@jupyter-widgets/controls",
      "_view_module_version": "1.5.0",
      "_view_name": "HBoxView",
      "box_style": "",
      "children": [
       "IPY_MODEL_07b476d10415400d80aff2da765dd3b6",
       "IPY_MODEL_d100ad156269409ca9c4b690b41293cf"
      ],
      "layout": "IPY_MODEL_5adcd803740b4e02b47e0cab4e49deb4"
     }
    },
    "c227ad606f3a447b81db45e49e450e5c": {
     "model_module": "@jupyter-widgets/controls",
     "model_name": "ProgressStyleModel",
     "state": {
      "_model_module": "@jupyter-widgets/controls",
      "_model_module_version": "1.5.0",
      "_model_name": "ProgressStyleModel",
      "_view_count": null,
      "_view_module": "@jupyter-widgets/base",
      "_view_module_version": "1.2.0",
      "_view_name": "StyleView",
      "bar_color": null,
      "description_width": "initial"
     }
    },
    "c8ba9031329440b1a21be92ad366cb45": {
     "model_module": "@jupyter-widgets/controls",
     "model_name": "ProgressStyleModel",
     "state": {
      "_model_module": "@jupyter-widgets/controls",
      "_model_module_version": "1.5.0",
      "_model_name": "ProgressStyleModel",
      "_view_count": null,
      "_view_module": "@jupyter-widgets/base",
      "_view_module_version": "1.2.0",
      "_view_name": "StyleView",
      "bar_color": null,
      "description_width": "initial"
     }
    },
    "caed38eeaad74a3381be2353383c321d": {
     "model_module": "@jupyter-widgets/controls",
     "model_name": "DescriptionStyleModel",
     "state": {
      "_model_module": "@jupyter-widgets/controls",
      "_model_module_version": "1.5.0",
      "_model_name": "DescriptionStyleModel",
      "_view_count": null,
      "_view_module": "@jupyter-widgets/base",
      "_view_module_version": "1.2.0",
      "_view_name": "StyleView",
      "description_width": ""
     }
    },
    "cec444b0199f4cb5814ef60fc2723e79": {
     "model_module": "@jupyter-widgets/base",
     "model_name": "LayoutModel",
     "state": {
      "_model_module": "@jupyter-widgets/base",
      "_model_module_version": "1.2.0",
      "_model_name": "LayoutModel",
      "_view_count": null,
      "_view_module": "@jupyter-widgets/base",
      "_view_module_version": "1.2.0",
      "_view_name": "LayoutView",
      "align_content": null,
      "align_items": null,
      "align_self": null,
      "border": null,
      "bottom": null,
      "display": null,
      "flex": null,
      "flex_flow": null,
      "grid_area": null,
      "grid_auto_columns": null,
      "grid_auto_flow": null,
      "grid_auto_rows": null,
      "grid_column": null,
      "grid_gap": null,
      "grid_row": null,
      "grid_template_areas": null,
      "grid_template_columns": null,
      "grid_template_rows": null,
      "height": null,
      "justify_content": null,
      "justify_items": null,
      "left": null,
      "margin": null,
      "max_height": null,
      "max_width": null,
      "min_height": null,
      "min_width": null,
      "object_fit": null,
      "object_position": null,
      "order": null,
      "overflow": null,
      "overflow_x": null,
      "overflow_y": null,
      "padding": null,
      "right": null,
      "top": null,
      "visibility": null,
      "width": null
     }
    },
    "d100ad156269409ca9c4b690b41293cf": {
     "model_module": "@jupyter-widgets/controls",
     "model_name": "HTMLModel",
     "state": {
      "_dom_classes": [],
      "_model_module": "@jupyter-widgets/controls",
      "_model_module_version": "1.5.0",
      "_model_name": "HTMLModel",
      "_view_count": null,
      "_view_module": "@jupyter-widgets/controls",
      "_view_module_version": "1.5.0",
      "_view_name": "HTMLView",
      "description": "",
      "description_tooltip": null,
      "layout": "IPY_MODEL_615a1b9e25a24a9bb9e416a53a1c8bf7",
      "placeholder": "​",
      "style": "IPY_MODEL_73d30ab7f69d4536afa1a71489ca6bff",
      "value": " 313/313 [24:45&lt;00:00,  4.75s/it]"
     }
    },
    "d586fe734daa43709121615d5e6aafe6": {
     "model_module": "@jupyter-widgets/base",
     "model_name": "LayoutModel",
     "state": {
      "_model_module": "@jupyter-widgets/base",
      "_model_module_version": "1.2.0",
      "_model_name": "LayoutModel",
      "_view_count": null,
      "_view_module": "@jupyter-widgets/base",
      "_view_module_version": "1.2.0",
      "_view_name": "LayoutView",
      "align_content": null,
      "align_items": null,
      "align_self": null,
      "border": null,
      "bottom": null,
      "display": null,
      "flex": null,
      "flex_flow": null,
      "grid_area": null,
      "grid_auto_columns": null,
      "grid_auto_flow": null,
      "grid_auto_rows": null,
      "grid_column": null,
      "grid_gap": null,
      "grid_row": null,
      "grid_template_areas": null,
      "grid_template_columns": null,
      "grid_template_rows": null,
      "height": null,
      "justify_content": null,
      "justify_items": null,
      "left": null,
      "margin": null,
      "max_height": null,
      "max_width": null,
      "min_height": null,
      "min_width": null,
      "object_fit": null,
      "object_position": null,
      "order": null,
      "overflow": null,
      "overflow_x": null,
      "overflow_y": null,
      "padding": null,
      "right": null,
      "top": null,
      "visibility": null,
      "width": null
     }
    },
    "d929a94d173c43f18e920febd0baa7c4": {
     "model_module": "@jupyter-widgets/controls",
     "model_name": "ProgressStyleModel",
     "state": {
      "_model_module": "@jupyter-widgets/controls",
      "_model_module_version": "1.5.0",
      "_model_name": "ProgressStyleModel",
      "_view_count": null,
      "_view_module": "@jupyter-widgets/base",
      "_view_module_version": "1.2.0",
      "_view_name": "StyleView",
      "bar_color": null,
      "description_width": "initial"
     }
    },
    "db04ffeca2e14c0dbd676d3000908ee0": {
     "model_module": "@jupyter-widgets/base",
     "model_name": "LayoutModel",
     "state": {
      "_model_module": "@jupyter-widgets/base",
      "_model_module_version": "1.2.0",
      "_model_name": "LayoutModel",
      "_view_count": null,
      "_view_module": "@jupyter-widgets/base",
      "_view_module_version": "1.2.0",
      "_view_name": "LayoutView",
      "align_content": null,
      "align_items": null,
      "align_self": null,
      "border": null,
      "bottom": null,
      "display": null,
      "flex": null,
      "flex_flow": null,
      "grid_area": null,
      "grid_auto_columns": null,
      "grid_auto_flow": null,
      "grid_auto_rows": null,
      "grid_column": null,
      "grid_gap": null,
      "grid_row": null,
      "grid_template_areas": null,
      "grid_template_columns": null,
      "grid_template_rows": null,
      "height": null,
      "justify_content": null,
      "justify_items": null,
      "left": null,
      "margin": null,
      "max_height": null,
      "max_width": null,
      "min_height": null,
      "min_width": null,
      "object_fit": null,
      "object_position": null,
      "order": null,
      "overflow": null,
      "overflow_x": null,
      "overflow_y": null,
      "padding": null,
      "right": null,
      "top": null,
      "visibility": null,
      "width": null
     }
    },
    "e04d65289dc842e58d5104ca9999d807": {
     "model_module": "@jupyter-widgets/base",
     "model_name": "LayoutModel",
     "state": {
      "_model_module": "@jupyter-widgets/base",
      "_model_module_version": "1.2.0",
      "_model_name": "LayoutModel",
      "_view_count": null,
      "_view_module": "@jupyter-widgets/base",
      "_view_module_version": "1.2.0",
      "_view_name": "LayoutView",
      "align_content": null,
      "align_items": null,
      "align_self": null,
      "border": null,
      "bottom": null,
      "display": null,
      "flex": null,
      "flex_flow": null,
      "grid_area": null,
      "grid_auto_columns": null,
      "grid_auto_flow": null,
      "grid_auto_rows": null,
      "grid_column": null,
      "grid_gap": null,
      "grid_row": null,
      "grid_template_areas": null,
      "grid_template_columns": null,
      "grid_template_rows": null,
      "height": null,
      "justify_content": null,
      "justify_items": null,
      "left": null,
      "margin": null,
      "max_height": null,
      "max_width": null,
      "min_height": null,
      "min_width": null,
      "object_fit": null,
      "object_position": null,
      "order": null,
      "overflow": null,
      "overflow_x": null,
      "overflow_y": null,
      "padding": null,
      "right": null,
      "top": null,
      "visibility": null,
      "width": null
     }
    },
    "e1044b6187f74ccbba2afcfb0403ed8c": {
     "model_module": "@jupyter-widgets/controls",
     "model_name": "FloatProgressModel",
     "state": {
      "_dom_classes": [],
      "_model_module": "@jupyter-widgets/controls",
      "_model_module_version": "1.5.0",
      "_model_name": "FloatProgressModel",
      "_view_count": null,
      "_view_module": "@jupyter-widgets/controls",
      "_view_module_version": "1.5.0",
      "_view_name": "ProgressView",
      "bar_style": "success",
      "description": "Test Loss: 0.5228, Test Acc: 0.692: 100%",
      "description_tooltip": null,
      "layout": "IPY_MODEL_f9ae48f55d0748eb84ee9ab0bfe30ce9",
      "max": 313,
      "min": 0,
      "orientation": "horizontal",
      "style": "IPY_MODEL_4653581706a34028a7be8e04f56d4858",
      "value": 313
     }
    },
    "ebdeadc05a2940a187865ae85531b1da": {
     "model_module": "@jupyter-widgets/controls",
     "model_name": "FloatProgressModel",
     "state": {
      "_dom_classes": [],
      "_model_module": "@jupyter-widgets/controls",
      "_model_module_version": "1.5.0",
      "_model_name": "FloatProgressModel",
      "_view_count": null,
      "_view_module": "@jupyter-widgets/controls",
      "_view_module_version": "1.5.0",
      "_view_name": "ProgressView",
      "bar_style": "success",
      "description": "Epoch 1. Train Loss: 0.4922: 100%",
      "description_tooltip": null,
      "layout": "IPY_MODEL_13b75f88d0e54b778b0dd21d0efe8d89",
      "max": 1000,
      "min": 0,
      "orientation": "horizontal",
      "style": "IPY_MODEL_a6f3371a7821496aa8ba27ade9ec82be",
      "value": 1000
     }
    },
    "f2240f13147448508315878e1c4ddcd3": {
     "model_module": "@jupyter-widgets/controls",
     "model_name": "HTMLModel",
     "state": {
      "_dom_classes": [],
      "_model_module": "@jupyter-widgets/controls",
      "_model_module_version": "1.5.0",
      "_model_name": "HTMLModel",
      "_view_count": null,
      "_view_module": "@jupyter-widgets/controls",
      "_view_module_version": "1.5.0",
      "_view_name": "HTMLView",
      "description": "",
      "description_tooltip": null,
      "layout": "IPY_MODEL_f4623d8a672246f8a63282740692fa8c",
      "placeholder": "​",
      "style": "IPY_MODEL_5246db56ac5e417aac7c7c3d7282506f",
      "value": " 1000/1000 [2:03:32&lt;00:00,  7.41s/it]"
     }
    },
    "f3792a09c0e0414590ccfa94f7f96cc8": {
     "model_module": "@jupyter-widgets/base",
     "model_name": "LayoutModel",
     "state": {
      "_model_module": "@jupyter-widgets/base",
      "_model_module_version": "1.2.0",
      "_model_name": "LayoutModel",
      "_view_count": null,
      "_view_module": "@jupyter-widgets/base",
      "_view_module_version": "1.2.0",
      "_view_name": "LayoutView",
      "align_content": null,
      "align_items": null,
      "align_self": null,
      "border": null,
      "bottom": null,
      "display": null,
      "flex": null,
      "flex_flow": null,
      "grid_area": null,
      "grid_auto_columns": null,
      "grid_auto_flow": null,
      "grid_auto_rows": null,
      "grid_column": null,
      "grid_gap": null,
      "grid_row": null,
      "grid_template_areas": null,
      "grid_template_columns": null,
      "grid_template_rows": null,
      "height": null,
      "justify_content": null,
      "justify_items": null,
      "left": null,
      "margin": null,
      "max_height": null,
      "max_width": null,
      "min_height": null,
      "min_width": null,
      "object_fit": null,
      "object_position": null,
      "order": null,
      "overflow": null,
      "overflow_x": null,
      "overflow_y": null,
      "padding": null,
      "right": null,
      "top": null,
      "visibility": null,
      "width": null
     }
    },
    "f452a6310b774ffd8299e2d5f2e468b8": {
     "model_module": "@jupyter-widgets/base",
     "model_name": "LayoutModel",
     "state": {
      "_model_module": "@jupyter-widgets/base",
      "_model_module_version": "1.2.0",
      "_model_name": "LayoutModel",
      "_view_count": null,
      "_view_module": "@jupyter-widgets/base",
      "_view_module_version": "1.2.0",
      "_view_name": "LayoutView",
      "align_content": null,
      "align_items": null,
      "align_self": null,
      "border": null,
      "bottom": null,
      "display": null,
      "flex": null,
      "flex_flow": null,
      "grid_area": null,
      "grid_auto_columns": null,
      "grid_auto_flow": null,
      "grid_auto_rows": null,
      "grid_column": null,
      "grid_gap": null,
      "grid_row": null,
      "grid_template_areas": null,
      "grid_template_columns": null,
      "grid_template_rows": null,
      "height": null,
      "justify_content": null,
      "justify_items": null,
      "left": null,
      "margin": null,
      "max_height": null,
      "max_width": null,
      "min_height": null,
      "min_width": null,
      "object_fit": null,
      "object_position": null,
      "order": null,
      "overflow": null,
      "overflow_x": null,
      "overflow_y": null,
      "padding": null,
      "right": null,
      "top": null,
      "visibility": null,
      "width": null
     }
    },
    "f4623d8a672246f8a63282740692fa8c": {
     "model_module": "@jupyter-widgets/base",
     "model_name": "LayoutModel",
     "state": {
      "_model_module": "@jupyter-widgets/base",
      "_model_module_version": "1.2.0",
      "_model_name": "LayoutModel",
      "_view_count": null,
      "_view_module": "@jupyter-widgets/base",
      "_view_module_version": "1.2.0",
      "_view_name": "LayoutView",
      "align_content": null,
      "align_items": null,
      "align_self": null,
      "border": null,
      "bottom": null,
      "display": null,
      "flex": null,
      "flex_flow": null,
      "grid_area": null,
      "grid_auto_columns": null,
      "grid_auto_flow": null,
      "grid_auto_rows": null,
      "grid_column": null,
      "grid_gap": null,
      "grid_row": null,
      "grid_template_areas": null,
      "grid_template_columns": null,
      "grid_template_rows": null,
      "height": null,
      "justify_content": null,
      "justify_items": null,
      "left": null,
      "margin": null,
      "max_height": null,
      "max_width": null,
      "min_height": null,
      "min_width": null,
      "object_fit": null,
      "object_position": null,
      "order": null,
      "overflow": null,
      "overflow_x": null,
      "overflow_y": null,
      "padding": null,
      "right": null,
      "top": null,
      "visibility": null,
      "width": null
     }
    },
    "f50097fe4d944d3d89ad1889946c149d": {
     "model_module": "@jupyter-widgets/controls",
     "model_name": "HTMLModel",
     "state": {
      "_dom_classes": [],
      "_model_module": "@jupyter-widgets/controls",
      "_model_module_version": "1.5.0",
      "_model_name": "HTMLModel",
      "_view_count": null,
      "_view_module": "@jupyter-widgets/controls",
      "_view_module_version": "1.5.0",
      "_view_name": "HTMLView",
      "description": "",
      "description_tooltip": null,
      "layout": "IPY_MODEL_62f042cc3b484177aa672810ce564d3c",
      "placeholder": "​",
      "style": "IPY_MODEL_3e5d5dd3a03e478e99214eb4d1ca8d64",
      "value": " 313/313 [10:50&lt;00:00,  2.08s/it]"
     }
    },
    "f58d1ce7d6dc4add906ee01a7257f507": {
     "model_module": "@jupyter-widgets/controls",
     "model_name": "HBoxModel",
     "state": {
      "_dom_classes": [],
      "_model_module": "@jupyter-widgets/controls",
      "_model_module_version": "1.5.0",
      "_model_name": "HBoxModel",
      "_view_count": null,
      "_view_module": "@jupyter-widgets/controls",
      "_view_module_version": "1.5.0",
      "_view_name": "HBoxView",
      "box_style": "",
      "children": [
       "IPY_MODEL_2f1931b3f6d3491c92c9231fc7496ae2",
       "IPY_MODEL_4fb015d3f21048ce80e7fdc0c7508e19"
      ],
      "layout": "IPY_MODEL_b4f97cb58e9d4426b1aa549a82ef1212"
     }
    },
    "f66b40762dbb48b198618774ad8124fa": {
     "model_module": "@jupyter-widgets/controls",
     "model_name": "HBoxModel",
     "state": {
      "_dom_classes": [],
      "_model_module": "@jupyter-widgets/controls",
      "_model_module_version": "1.5.0",
      "_model_name": "HBoxModel",
      "_view_count": null,
      "_view_module": "@jupyter-widgets/controls",
      "_view_module_version": "1.5.0",
      "_view_name": "HBoxView",
      "box_style": "",
      "children": [
       "IPY_MODEL_27716171ce5840d584108cea126cddaf",
       "IPY_MODEL_b66218bd31034505ae20cf7ba72d39c7"
      ],
      "layout": "IPY_MODEL_8492343f204e4373b1fd4b411a7ab530"
     }
    },
    "f9ae48f55d0748eb84ee9ab0bfe30ce9": {
     "model_module": "@jupyter-widgets/base",
     "model_name": "LayoutModel",
     "state": {
      "_model_module": "@jupyter-widgets/base",
      "_model_module_version": "1.2.0",
      "_model_name": "LayoutModel",
      "_view_count": null,
      "_view_module": "@jupyter-widgets/base",
      "_view_module_version": "1.2.0",
      "_view_name": "LayoutView",
      "align_content": null,
      "align_items": null,
      "align_self": null,
      "border": null,
      "bottom": null,
      "display": null,
      "flex": null,
      "flex_flow": null,
      "grid_area": null,
      "grid_auto_columns": null,
      "grid_auto_flow": null,
      "grid_auto_rows": null,
      "grid_column": null,
      "grid_gap": null,
      "grid_row": null,
      "grid_template_areas": null,
      "grid_template_columns": null,
      "grid_template_rows": null,
      "height": null,
      "justify_content": null,
      "justify_items": null,
      "left": null,
      "margin": null,
      "max_height": null,
      "max_width": null,
      "min_height": null,
      "min_width": null,
      "object_fit": null,
      "object_position": null,
      "order": null,
      "overflow": null,
      "overflow_x": null,
      "overflow_y": null,
      "padding": null,
      "right": null,
      "top": null,
      "visibility": null,
      "width": null
     }
    },
    "fce8049da863413e811b36b5225172bc": {
     "model_module": "@jupyter-widgets/base",
     "model_name": "LayoutModel",
     "state": {
      "_model_module": "@jupyter-widgets/base",
      "_model_module_version": "1.2.0",
      "_model_name": "LayoutModel",
      "_view_count": null,
      "_view_module": "@jupyter-widgets/base",
      "_view_module_version": "1.2.0",
      "_view_name": "LayoutView",
      "align_content": null,
      "align_items": null,
      "align_self": null,
      "border": null,
      "bottom": null,
      "display": null,
      "flex": null,
      "flex_flow": null,
      "grid_area": null,
      "grid_auto_columns": null,
      "grid_auto_flow": null,
      "grid_auto_rows": null,
      "grid_column": null,
      "grid_gap": null,
      "grid_row": null,
      "grid_template_areas": null,
      "grid_template_columns": null,
      "grid_template_rows": null,
      "height": null,
      "justify_content": null,
      "justify_items": null,
      "left": null,
      "margin": null,
      "max_height": null,
      "max_width": null,
      "min_height": null,
      "min_width": null,
      "object_fit": null,
      "object_position": null,
      "order": null,
      "overflow": null,
      "overflow_x": null,
      "overflow_y": null,
      "padding": null,
      "right": null,
      "top": null,
      "visibility": null,
      "width": null
     }
    },
    "fe3987ce30e34fd2903684020369db35": {
     "model_module": "@jupyter-widgets/base",
     "model_name": "LayoutModel",
     "state": {
      "_model_module": "@jupyter-widgets/base",
      "_model_module_version": "1.2.0",
      "_model_name": "LayoutModel",
      "_view_count": null,
      "_view_module": "@jupyter-widgets/base",
      "_view_module_version": "1.2.0",
      "_view_name": "LayoutView",
      "align_content": null,
      "align_items": null,
      "align_self": null,
      "border": null,
      "bottom": null,
      "display": null,
      "flex": null,
      "flex_flow": null,
      "grid_area": null,
      "grid_auto_columns": null,
      "grid_auto_flow": null,
      "grid_auto_rows": null,
      "grid_column": null,
      "grid_gap": null,
      "grid_row": null,
      "grid_template_areas": null,
      "grid_template_columns": null,
      "grid_template_rows": null,
      "height": null,
      "justify_content": null,
      "justify_items": null,
      "left": null,
      "margin": null,
      "max_height": null,
      "max_width": null,
      "min_height": null,
      "min_width": null,
      "object_fit": null,
      "object_position": null,
      "order": null,
      "overflow": null,
      "overflow_x": null,
      "overflow_y": null,
      "padding": null,
      "right": null,
      "top": null,
      "visibility": null,
      "width": null
     }
    },
    "fed4895df82c407080a8b18097759cf3": {
     "model_module": "@jupyter-widgets/controls",
     "model_name": "FloatProgressModel",
     "state": {
      "_dom_classes": [],
      "_model_module": "@jupyter-widgets/controls",
      "_model_module_version": "1.5.0",
      "_model_name": "FloatProgressModel",
      "_view_count": null,
      "_view_module": "@jupyter-widgets/controls",
      "_view_module_version": "1.5.0",
      "_view_name": "ProgressView",
      "bar_style": "success",
      "description": "Epoch 1. Train Loss: 0.4737: 100%",
      "description_tooltip": null,
      "layout": "IPY_MODEL_b7c6a61d241f481eb199b5866f7b8989",
      "max": 1000,
      "min": 0,
      "orientation": "horizontal",
      "style": "IPY_MODEL_70d5cfdb69664cbcbea0eba190694153",
      "value": 1000
     }
    }
   }
  }
 },
 "nbformat": 4,
 "nbformat_minor": 4
}
