{
 "cells": [
  {
   "cell_type": "markdown",
   "metadata": {
    "id": "tWJTCBu4Tveb"
   },
   "source": [
    "<img src=\"https://static.wixstatic.com/media/66c28f_db7a1ba3e35b4b17a6688472c889b7bf~mv2_d_2777_1254_s_2.png/v1/fill/w_710,h_320,al_c,q_85,usm_0.66_1.00_0.01/logo_yellow_white.webp\" width=1000, height=450>\n",
    "<h3 style=\"text-align: center;\"><b>Физтех-Школа Прикладной математики и информатики (ФПМИ) МФТИ</b></h3>"
   ]
  },
  {
   "cell_type": "markdown",
   "metadata": {
    "id": "Kmb8UhIzOnfK"
   },
   "source": [
    "# Text Summarization\n",
    "\n",
    "Всем привет! Сегодня мы познакомимся с задачей суммаризации текста на примере генерации \"сжатых\" новостей. Рассмотрим некоторые базовые решения и познакомимся с архитектурами нейросетей для решения задачи.\n",
    "Датасет: gazeta.ru\n",
    "\n",
    "\n",
    "`Ноутбук создан на основе семинара Гусева Ильи на кафедре компьютерной лингвистики ABBYY МФТИ.`\n",
    "\n",
    "Загрузим датасет и необходимые библиотеки"
   ]
  },
  {
   "cell_type": "code",
   "execution_count": 1,
   "metadata": {
    "colab": {
     "base_uri": "https://localhost:8080/"
    },
    "id": "65yJ59djUQND",
    "outputId": "38f908a6-512a-4836-9cf9-83d94a8130b8"
   },
   "outputs": [
    {
     "name": "stdout",
     "output_type": "stream",
     "text": [
      "Mounted at /content/drive\n"
     ]
    }
   ],
   "source": [
    "from google.colab import drive\n",
    "drive.mount('/content/drive')"
   ]
  },
  {
   "cell_type": "code",
   "execution_count": 2,
   "metadata": {
    "id": "ySCDSTGOUZ0R"
   },
   "outputs": [],
   "source": [
    "import os\n",
    "os.chdir(\"/content/drive/MyDrive/Colab_Notebooks/DLSchool_mipt_2sem\")"
   ]
  },
  {
   "cell_type": "code",
   "execution_count": 3,
   "metadata": {
    "id": "OqkLTkFRfXvA"
   },
   "outputs": [],
   "source": [
    "# !wget -q https://www.dropbox.com/s/43l702z5a5i2w8j/gazeta_train.txt\n",
    "# !wget -q https://www.dropbox.com/s/k2egt3sug0hb185/gazeta_val.txt\n",
    "# !wget -q https://www.dropbox.com/s/3gki5n5djs9w0v6/gazeta_test.txt"
   ]
  },
  {
   "cell_type": "code",
   "execution_count": 4,
   "metadata": {
    "colab": {
     "base_uri": "https://localhost:8080/"
    },
    "id": "SXS1sdYZCluU",
    "outputId": "7c095e0f-e33e-4204-f125-eeebe94185c4"
   },
   "outputs": [
    {
     "name": "stdout",
     "output_type": "stream",
     "text": [
      "\u001b[K     |████████████████████████████████| 61kB 3.9MB/s \n",
      "\u001b[K     |████████████████████████████████| 61kB 6.7MB/s \n",
      "\u001b[K     |████████████████████████████████| 8.2MB 10.6MB/s \n",
      "\u001b[?25h  Building wheel for summa (setup.py) ... \u001b[?25l\u001b[?25hdone\n"
     ]
    }
   ],
   "source": [
    "!pip -q install razdel networkx pymorphy2 nltk rouge==0.3.1 summa "
   ]
  },
  {
   "cell_type": "markdown",
   "metadata": {
    "id": "xT3W_DUxamNw"
   },
   "source": [
    "#### SEED"
   ]
  },
  {
   "cell_type": "code",
   "execution_count": 5,
   "metadata": {
    "id": "vIq9oNhcaRKn"
   },
   "outputs": [],
   "source": [
    "import torch, random\n",
    "import numpy as np\n",
    "\n",
    "SEED = 42\n",
    "\n",
    "random.seed(SEED)\n",
    "np.random.seed(SEED)\n",
    "torch.manual_seed(SEED)\n",
    "torch.cuda.manual_seed(SEED)\n",
    "torch.backends.cudnn.deterministic = True"
   ]
  },
  {
   "cell_type": "markdown",
   "metadata": {
    "id": "Wa0NfryxbPUP"
   },
   "source": [
    "## Dataset"
   ]
  },
  {
   "cell_type": "markdown",
   "metadata": {
    "id": "eesnclfDDV3F"
   },
   "source": [
    "Посмотрим на то, как устроен датасет"
   ]
  },
  {
   "cell_type": "code",
   "execution_count": 6,
   "metadata": {
    "colab": {
     "base_uri": "https://localhost:8080/"
    },
    "id": "Mz6CZYKQhnd-",
    "outputId": "322a96c4-1c57-4d5d-f01a-d78af0cb4ef5"
   },
   "outputs": [
    {
     "name": "stdout",
     "output_type": "stream",
     "text": [
      "{\"url\": \"https://www.gazeta.ru/financial/2011/11/30/3852658.shtml\", \"text\": \"«По итогам 2011 года чистый отток может составить примерно $80 млрд, в следующем году — около $20 млрд. При этом мы ожидаем, что со второго полугодия 2012 года начнется приток капитала», — заявил «Интерфаксу» замминистра экономического развития Андрей Клепач. Официальные прогнозы по выводу капитала из России становятся все пессимистичными: еще летом власти полагали, что из страны уйдет не более $35 млрд, в сентябре Минэкономразвития назвал цифру $50 млрд, в начале ноября Центробанк пересмотрел оценку до $70 млрд. Очередное изменение прогноза было ожидаемо: по расчетам Центробанка , за январь — октябрь чистый отток капитала достиг $64 млрд, причем в последние месяцы он ускорился: в сентябре он составил $14 млрд, в октябре — $13 млрд против среднего ежемесячного оттока в $6—8 млрд в первом полугодии. «После октябрьских данных Минэкономразвития вынуждено было изменить оценку, настаивать на $70 млрд означало ожидать серьезного замедления оттока капитала на непонятно каких причинах», — говорит главный экономист BNP Paribas Юлия Цепляева. «В последние два месяца отток капитала ускорится, на декабрь приходится значительная часть выплат по внешним долгам, что приводит к усилению оттока, особенно если они не рефинансируются новыми кредитами», — соглашается главный экономист ФК «Открытие» Владимир Тихомиров. Прогнозируемый Минэкономразвития отток капитала — один из самых высоких за последние 20 лет. Больше ушло лишь в 2008 году на фоне разрастания финансового кризиса и российско-грузинской войны — $133,7 млрд. В кризисный 2009 год из России утекло $56,1 млрд. Главный фактор ускорения оттока капитала в 2011 году — нестабильность на внешних финансовых рынках и рост опасений относительно второй волны рецессии. «Это реакция на неуверенность, которую генерирует Европа с долговыми проблемами. В случае новой волны глобальной турбулентности Россия — одна из самых уязвимых стран», — говорит Цепляева. Еще одна причина — ослабление рубля. «Привлекательность вложений снижается на фоне того, что рубль перестал укрепляться, а ставки по депозитам достаточно низкие. В результате экспортеры не полностью возвращают экспортную выручку», — говорит Тихомиров. Внутри страны эксперты не видят особых причин для бегства капитала. «Ситуация выглядит достаточно позитивно, очень хорошие макроэкономические результаты за год, особенно на фоне других стран. С политической точки зрения все достаточно понятно и предсказуемо, итог выборов очевиден», — говорит экономист ИК «Тройка Диалог» Антон Струченевский. Тем не менее политический фактор играет роль. «Бизнесу важно не только, кто будет президентом, он ждет ясности с перестановками в правительстве. В наших условиях административный ресурс важнее всего для успешности бизнеса», — говорит Цепляева, добавляя, что отток капитала продолжится до завершения президентских выборов.\", \"title\": \"Прогноз не успевает за оттоком\", \"summary\": \"В 2011 году из России уйдет $80 млрд, считают в Минэкономразвития. Менее месяца назад Центробанк давал оценку $70 млрд, повысив первоначальный прогноз вдвое. Отток капитала из страны усиливается из-за кризиса в Европе, а в декабре российским компаниям выплачивать внешние долги. На движение капитала повлияли и выборы: несмотря на их предсказуемость, бизнес хочет ясности с перестановками в правительстве.\", \"date\": \"2011-11-30 18:33:39\"}\n",
      "52400\n",
      "5265\n",
      "5770\n"
     ]
    }
   ],
   "source": [
    "!head -n 1 gazeta_train.txt\n",
    "# with open(\"gazeta_train.txt\", encoding=\"utf-8\") as f:\n",
    "#     print(f.readline())\n",
    "!cat gazeta_train.txt | wc -l\n",
    "!cat gazeta_val.txt | wc -l\n",
    "!cat gazeta_test.txt | wc -l"
   ]
  },
  {
   "cell_type": "code",
   "execution_count": 7,
   "metadata": {
    "id": "5pZ2UGS2DGjH"
   },
   "outputs": [],
   "source": [
    "import json\n",
    "import random\n",
    "\n",
    "def read_gazeta_records(file_name, shuffle=True, sort_by_date=False):\n",
    "    assert shuffle != sort_by_date\n",
    "    records = []\n",
    "    with open(file_name, \"r\") as r:\n",
    "        for line in r:\n",
    "            records.append(json.loads(line))\n",
    "    if sort_by_date:\n",
    "        records.sort(key=lambda x: x[\"date\"])\n",
    "    if shuffle:\n",
    "        random.shuffle(records)\n",
    "    return records"
   ]
  },
  {
   "cell_type": "code",
   "execution_count": 8,
   "metadata": {
    "id": "GNDp-BunEA91"
   },
   "outputs": [],
   "source": [
    "train_records = read_gazeta_records(\"gazeta_train.txt\")\n",
    "val_records = read_gazeta_records(\"gazeta_val.txt\")\n",
    "test_records = read_gazeta_records(\"gazeta_test.txt\")"
   ]
  },
  {
   "cell_type": "code",
   "execution_count": 9,
   "metadata": {
    "id": "397gjsNfFBZ_"
   },
   "outputs": [],
   "source": [
    "from nltk.translate.bleu_score import corpus_bleu\n",
    "from rouge import Rouge\n",
    "\n",
    "def calc_scores(references, predictions, metric=\"all\"):\n",
    "    print(\"Count:\", len(predictions))\n",
    "    print(\"Ref:\", references[-1])\n",
    "    print(\"Hyp:\", predictions[-1])\n",
    "\n",
    "    if metric in (\"bleu\", \"all\"):\n",
    "        print(\"BLEU: \", corpus_bleu([[r] for r in references], predictions))\n",
    "    if metric in (\"rouge\", \"all\"):\n",
    "        try:\n",
    "            rouge = Rouge()\n",
    "            scores = rouge.get_scores(predictions, references, avg=True)\n",
    "            print(\"ROUGE: \", scores)\n",
    "        except ValueError as err:\n",
    "            print(f\"Error by ROUGE score calulation: {err}\")"
   ]
  },
  {
   "cell_type": "markdown",
   "metadata": {
    "id": "aaJKNsUGFBaA"
   },
   "source": [
    "## Extractive RNN"
   ]
  },
  {
   "cell_type": "markdown",
   "metadata": {
    "id": "l3izlm8HFBaC"
   },
   "source": [
    "### BPE\n",
    "Для начала сделаем BPE токенизацию"
   ]
  },
  {
   "cell_type": "code",
   "execution_count": 10,
   "metadata": {
    "colab": {
     "base_uri": "https://localhost:8080/"
    },
    "id": "2DMVtloWFBaC",
    "outputId": "3eacffbc-a6e4-4178-a750-5e3d26ee94e7"
   },
   "outputs": [
    {
     "name": "stdout",
     "output_type": "stream",
     "text": [
      "Collecting youtokentome\n",
      "\u001b[?25l  Downloading https://files.pythonhosted.org/packages/c8/1c/224cdc3d9a32ed706c8fb1f30b491be6ea5da114ff4edc174014cc24fa43/youtokentome-1.0.6-cp37-cp37m-manylinux2010_x86_64.whl (1.7MB)\n",
      "\u001b[K     |████████████████████████████████| 1.7MB 5.1MB/s \n",
      "\u001b[?25hRequirement already satisfied: Click>=7.0 in /usr/local/lib/python3.7/dist-packages (from youtokentome) (7.1.2)\n",
      "Installing collected packages: youtokentome\n",
      "Successfully installed youtokentome-1.0.6\n"
     ]
    }
   ],
   "source": [
    "!pip install youtokentome"
   ]
  },
  {
   "cell_type": "code",
   "execution_count": 11,
   "metadata": {
    "colab": {
     "base_uri": "https://localhost:8080/"
    },
    "id": "Yg9T6q0wFBaF",
    "outputId": "3d007755-723f-4842-9da5-e6acd0303be1"
   },
   "outputs": [
    {
     "name": "stdout",
     "output_type": "stream",
     "text": [
      "CPU times: user 27.5 s, sys: 2.29 s, total: 29.8 s\n",
      "Wall time: 24.4 s\n"
     ]
    }
   ],
   "source": [
    "%%time\n",
    "import youtokentome as yttm\n",
    "\n",
    "def train_bpe(records, model_path, model_type=\"bpe\", vocab_size=10000, lower=True):\n",
    "    temp_file_name = \"temp.txt\"\n",
    "    with open(temp_file_name, \"w\") as temp:\n",
    "        for record in records:\n",
    "            text, summary = record['text'], record['summary']\n",
    "            if lower:\n",
    "                summary = summary.lower()\n",
    "                text = text.lower()\n",
    "            if not text or not summary:\n",
    "                continue\n",
    "            temp.write(text + \"\\n\")\n",
    "            temp.write(summary + \"\\n\")\n",
    "    yttm.BPE.train(data=temp_file_name, vocab_size=vocab_size, model=model_path)\n",
    "\n",
    "train_bpe(train_records, \"BPE_model.bin\")"
   ]
  },
  {
   "cell_type": "markdown",
   "metadata": {
    "id": "jJFAJHTtFBaF"
   },
   "source": [
    "### Словарь\n",
    "Составим словарь для индексации токенов"
   ]
  },
  {
   "cell_type": "code",
   "execution_count": 12,
   "metadata": {
    "id": "MueXtatmFBaG"
   },
   "outputs": [],
   "source": [
    "bpe_processor = yttm.BPE('BPE_model.bin')\n",
    "vocabulary = bpe_processor.vocab()"
   ]
  },
  {
   "cell_type": "markdown",
   "metadata": {
    "id": "Z_C_p7tHFBaH"
   },
   "source": [
    "### Кэш oracle summary\n",
    "Закэшируем oracle summary, чтобы не пересчитывать их каждый раз"
   ]
  },
  {
   "cell_type": "code",
   "execution_count": 13,
   "metadata": {
    "colab": {
     "base_uri": "https://localhost:8080/",
     "height": 113,
     "referenced_widgets": [
      "41414039931c443fb76e674c2b940947",
      "0246cd4563284911949dbd5a2cc89331",
      "77d9bb7e147d42dd862e690bea43925b",
      "4fc3a014f58841229d813ef07ddd1253",
      "a540c9f1c5f74448a60af72b46458143",
      "7dbdeae9dcc44e4d87b82f19fa658ad0",
      "40dc60d69c914055a52f3cf3b5fb8ff8",
      "2d8929bb53f54f94874462c407a3ca87",
      "748f65b04cae4e69a45bcf369b22fb6e",
      "16f32f0289964865b5382c83e52573e4",
      "17437aa42f2c45d59fbd8e0724699c00",
      "1717c2b1f73f4ada94e7e7bb5da69101",
      "ee39da2c38dd4f85be6a0a5c775c74c0",
      "393ae81432044b74b9b0871a37b7d9f7",
      "c5f41aac7d034280aabc1c343c11d1ae",
      "e9ca7135695c471f8395af07066c2a97",
      "5338697f0266450f9b355101cdffccf9",
      "487e575445364a879652894491ef834b",
      "3d0b1a2ef71a453ba607d2a923403f28",
      "dfc660160b65448dbf816c388e7befcc",
      "276c11e257d14fb5b98f6363ea0ae438",
      "2108b34ce0564245a0fc16e63e4dcb13",
      "2efdcd5079d543d4bc71a6c51c1aafca",
      "1812fb9863ca4462a08a42fd0afb1022"
     ]
    },
    "id": "Fp23tuPbFBaH",
    "outputId": "c3528be8-f0c4-4def-a540-be60230a4dbe"
   },
   "outputs": [
    {
     "data": {
      "application/vnd.jupyter.widget-view+json": {
       "model_id": "41414039931c443fb76e674c2b940947",
       "version_major": 2,
       "version_minor": 0
      },
      "text/plain": [
       "HBox(children=(FloatProgress(value=0.0, max=2048.0), HTML(value='')))"
      ]
     },
     "metadata": {
      "tags": []
     },
     "output_type": "display_data"
    },
    {
     "data": {
      "application/vnd.jupyter.widget-view+json": {
       "model_id": "748f65b04cae4e69a45bcf369b22fb6e",
       "version_major": 2,
       "version_minor": 0
      },
      "text/plain": [
       "HBox(children=(FloatProgress(value=0.0, max=256.0), HTML(value='')))"
      ]
     },
     "metadata": {
      "tags": []
     },
     "output_type": "display_data"
    },
    {
     "data": {
      "application/vnd.jupyter.widget-view+json": {
       "model_id": "5338697f0266450f9b355101cdffccf9",
       "version_major": 2,
       "version_minor": 0
      },
      "text/plain": [
       "HBox(children=(FloatProgress(value=0.0, max=256.0), HTML(value='')))"
      ]
     },
     "metadata": {
      "tags": []
     },
     "output_type": "display_data"
    }
   ],
   "source": [
    "from rouge import Rouge\n",
    "import razdel\n",
    "from tqdm.notebook import tqdm\n",
    "\n",
    "import copy\n",
    "\n",
    "def build_oracle_summary_greedy(text, gold_summary, calc_score, lower=True, max_sentences=30):\n",
    "    '''\n",
    "    Жадное построение oracle summary\n",
    "    '''\n",
    "    gold_summary = gold_summary.lower() if lower else gold_summary\n",
    "    # Делим текст на предложения\n",
    "    sentences = [sentence.text.lower() if lower else sentence.text for sentence in razdel.sentenize(text)][:max_sentences]\n",
    "    n_sentences = len(sentences)\n",
    "    oracle_summary_sentences = set()\n",
    "    \n",
    "    score = -1.0\n",
    "    summaries = []\n",
    "    for _ in range(n_sentences):\n",
    "        for i in range(n_sentences):\n",
    "            if i in oracle_summary_sentences:\n",
    "                continue\n",
    "            current_summary_sentences = copy.copy(oracle_summary_sentences)\n",
    "            # Добавляем какое-то предложения к уже существующему summary\n",
    "            current_summary_sentences.add(i)\n",
    "            current_summary = \" \".join([sentences[index] for index in sorted(list(current_summary_sentences))])\n",
    "            # Считаем метрики\n",
    "            current_score = calc_score(current_summary, gold_summary)\n",
    "            summaries.append((current_score, current_summary_sentences))\n",
    "        # Если получилось улучшить метрики с добавлением какого-либо предложения, то пробуем добавить ещё\n",
    "        # Иначе на этом заканчиваем\n",
    "        best_summary_score, best_summary_sentences = max(summaries)\n",
    "        if best_summary_score <= score:\n",
    "            break\n",
    "        oracle_summary_sentences = best_summary_sentences\n",
    "        score = best_summary_score\n",
    "    oracle_summary = \" \".join([sentences[index] for index in sorted(list(oracle_summary_sentences))])\n",
    "    return oracle_summary, oracle_summary_sentences\n",
    "\n",
    "def calc_single_score(pred_summary, gold_summary, rouge):\n",
    "    return rouge.get_scores([pred_summary], [gold_summary], avg=True)['rouge-2']['f']\n",
    "\n",
    "def add_oracle_summary_to_records(records, max_sentences=30, lower=True, nrows=1000):\n",
    "    rouge = Rouge()\n",
    "    for i, record in tqdm(enumerate(records), total=nrows):\n",
    "        if i >= nrows:\n",
    "            break\n",
    "        text = record[\"text\"]\n",
    "        summary = record[\"summary\"]\n",
    "\n",
    "        summary = summary.lower() if lower else summary\n",
    "        sentences = [sentence.text.lower() if lower else sentence.text for sentence in razdel.sentenize(text)][:max_sentences]\n",
    "        oracle_summary, sentences_indicies = build_oracle_summary_greedy(text, summary, calc_score=lambda x, y: calc_single_score(x, y, rouge),\n",
    "                                                                         lower=lower, max_sentences=max_sentences)\n",
    "        record[\"sentences\"] = sentences\n",
    "        record[\"oracle_sentences\"] = list(sentences_indicies)\n",
    "        record[\"oracle_summary\"] = oracle_summary\n",
    "\n",
    "    return records[:nrows]\n",
    "\n",
    "ext_train_records = add_oracle_summary_to_records(train_records, nrows=2048)\n",
    "ext_val_records = add_oracle_summary_to_records(val_records, nrows=256)\n",
    "ext_test_records = add_oracle_summary_to_records(test_records, nrows=256)"
   ]
  },
  {
   "cell_type": "markdown",
   "metadata": {
    "id": "UlXXc8qUHC5m"
   },
   "source": [
    "### Составление батчей"
   ]
  },
  {
   "cell_type": "code",
   "execution_count": 14,
   "metadata": {
    "colab": {
     "base_uri": "https://localhost:8080/"
    },
    "id": "YATQKCuqHPo3",
    "outputId": "744e9afb-6723-4a85-84d6-be134555b1ad"
   },
   "outputs": [
    {
     "data": {
      "text/plain": [
       "device(type='cuda')"
      ]
     },
     "execution_count": 14,
     "metadata": {
      "tags": []
     },
     "output_type": "execute_result"
    }
   ],
   "source": [
    "import torch\n",
    "device = torch.device('cuda' if torch.cuda.is_available() else 'cpu')\n",
    "device"
   ]
  },
  {
   "cell_type": "code",
   "execution_count": 15,
   "metadata": {
    "id": "MNyxstTChK3C"
   },
   "outputs": [],
   "source": [
    "import random\n",
    "import math\n",
    "import razdel\n",
    "import torch\n",
    "import numpy as np\n",
    "from rouge import Rouge\n",
    "\n",
    "\n",
    "class BatchIterator():\n",
    "    def __init__(self, records, vocabulary, batch_size, bpe_processor, shuffle=True, lower=True, max_sentences=30, max_sentence_length=50, device=torch.device('cpu')):\n",
    "        self.records = records\n",
    "        self.num_samples = len(records)\n",
    "        self.batch_size = batch_size\n",
    "        self.bpe_processor = bpe_processor\n",
    "        self.shuffle = shuffle\n",
    "        self.batches_count = int(math.ceil(self.num_samples / batch_size))\n",
    "        self.lower = lower\n",
    "        self.rouge = Rouge()\n",
    "        self.vocabulary = vocabulary\n",
    "        self.max_sentences = max_sentences\n",
    "        self.max_sentence_length = max_sentence_length\n",
    "        self.device = device\n",
    "        \n",
    "    def __len__(self):\n",
    "        return self.batches_count\n",
    "    \n",
    "    def __iter__(self):\n",
    "        indices = np.arange(self.num_samples)\n",
    "        if self.shuffle:\n",
    "            np.random.shuffle(indices)\n",
    "\n",
    "        for start in range(0, self.num_samples, self.batch_size):\n",
    "            end = min(start + self.batch_size, self.num_samples)\n",
    "            batch_indices = indices[start:end]\n",
    "\n",
    "            batch_inputs = []\n",
    "            batch_outputs = []\n",
    "            max_sentence_length = 0\n",
    "            max_sentences = 0\n",
    "            batch_records = []\n",
    "\n",
    "            for data_ind in batch_indices:\n",
    "                \n",
    "                record = self.records[data_ind]\n",
    "                batch_records.append(record)\n",
    "                text = record[\"text\"]\n",
    "                summary = record[\"summary\"]\n",
    "                summary = summary.lower() if self.lower else summary\n",
    "\n",
    "                if \"sentences\" not in record:\n",
    "                    sentences = [sentence.text.lower() if self.lower else sentence.text for sentence in razdel.sentenize(text)][:self.max_sentences]\n",
    "                else:\n",
    "                    sentences = record[\"sentences\"]\n",
    "                max_sentences = max(len(sentences), max_sentences)\n",
    "                \n",
    "                # номера предложений, которые в нашем саммари\n",
    "                if \"oracle_sentences\" not in record:\n",
    "                    calc_score = lambda x, y: calc_single_score(x, y, self.rouge)\n",
    "                    sentences_indicies = build_oracle_summary_greedy(text, summary, calc_score=calc_score, lower=self.lower, max_sentences=self.max_sentences)[1]\n",
    "                else:   \n",
    "                    sentences_indicies = record[\"oracle_sentences\"]\n",
    "                \n",
    "                # inputs - индексы слов в предложении\n",
    "                inputs = [bpe_processor.encode(sentence)[:self.max_sentence_length] for sentence in sentences]\n",
    "                max_sentence_length = max(max_sentence_length, max([len(tokens) for tokens in inputs]))\n",
    "                \n",
    "                # получение метки класса предложения\n",
    "                outputs = [int(i in sentences_indicies) for i in range(len(sentences))]\n",
    "                batch_inputs.append(inputs)\n",
    "                batch_outputs.append(outputs)\n",
    "\n",
    "            tensor_inputs = torch.zeros((self.batch_size, max_sentences, max_sentence_length), dtype=torch.long, device=self.device)\n",
    "            # we add index 2 for padding\n",
    "            # YOUR CODE\n",
    "            tensor_outputs = torch.ones((self.batch_size, max_sentences), dtype=torch.float32, device=self.device) * 2\n",
    "            # tensor_outputs = torch.zeros((self.batch_size, max_sentences), dtype=torch.float32, device=self.device)\n",
    "\n",
    "            for i, inputs in enumerate(batch_inputs):\n",
    "                for j, sentence_tokens in enumerate(inputs):\n",
    "                    tensor_inputs[i][j][:len(sentence_tokens)] = torch.tensor(sentence_tokens, dtype=torch.int64)\n",
    "\n",
    "            for i, outputs in enumerate(batch_outputs):\n",
    "                tensor_outputs[i][:len(outputs)] = torch.LongTensor(outputs)\n",
    "\n",
    "            tensor_outputs = tensor_outputs.long()\n",
    "            yield {\n",
    "                'inputs': tensor_inputs,\n",
    "                'outputs': tensor_outputs,\n",
    "                'records': batch_records\n",
    "            }"
   ]
  },
  {
   "cell_type": "code",
   "execution_count": 16,
   "metadata": {
    "id": "5ug9MIObdi03"
   },
   "outputs": [],
   "source": [
    "train_iterator = BatchIterator(ext_train_records, vocabulary, 32, bpe_processor, device=device)\n",
    "val_iterator = BatchIterator(ext_val_records, vocabulary, 32, bpe_processor, device=device)\n",
    "test_iterator = BatchIterator(ext_test_records, vocabulary, 32, bpe_processor, device=device)"
   ]
  },
  {
   "cell_type": "markdown",
   "metadata": {
    "id": "yPlJMg0_dQM-"
   },
   "source": [
    "## Extractor -  SummaRuNNer\n",
    " https://arxiv.org/pdf/1611.04230.pdf\n"
   ]
  },
  {
   "cell_type": "markdown",
   "metadata": {
    "id": "4BSsnfe4t1uK"
   },
   "source": [
    "### Homework\n",
    "\n",
    "* В данной реализации в `outputs` в качестве padding используется индекс 0. Измените в функции \\_\\_iter__ индекс padding, чтобы он не совпадал с классом 0 или 1, например, 2.\n",
    "* В качестве criterion используйте `CrossEntropyLoss`вместо `BCEWithLogitsLoss`\n",
    "* Из-за смены criterion, вы уже должны подавать на вход criterion ни одно число, а logits для каждого класса. Перед подачей logits вы можете отфильтровать предсказания для класса padding. В этом пункте вам придется изменять файл `train_model.py`, а именно функциии `train` и `evaluate`.\n",
    "* Используйте два варианта обучения: c весами в `CrossEntropyLoss` и без\n",
    "* Также сравните `inference`, когда вы ранжируете logits, и когды вы выбирате предложения, у котрых logits > 0, в двух вариантах обучения. \n",
    "* Реализуйте дополнительно характеристику предложения `novelty`. Как влияет добавление `novelty` на качество summary?\n",
    "* Постарайтесь улучшить качество модели, полученной на семинаре: $BLEU \\approx 0.45$"
   ]
  },
  {
   "cell_type": "code",
   "execution_count": 17,
   "metadata": {
    "id": "iW7iS76KeEdO"
   },
   "outputs": [],
   "source": [
    "import numpy as np\n",
    "\n",
    "import torch\n",
    "import torch.nn as nn\n",
    "import torch.nn.functional as F\n",
    "import torch.optim as optim\n",
    "from torch.autograd import Variable\n",
    "\n",
    "from torch.nn.utils.rnn import pack_padded_sequence as pack\n",
    "from torch.nn.utils.rnn import pad_packed_sequence as unpack\n",
    "\n",
    "class SentenceEncoderRNN(nn.Module):\n",
    "    def __init__(self, input_size, embedding_dim, hidden_size, n_layers=3, dropout=0.3, bidirectional=True):\n",
    "        super().__init__()\n",
    "\n",
    "        num_directions = 2 if bidirectional else 1\n",
    "        assert hidden_size % num_directions == 0\n",
    "        hidden_size = hidden_size // num_directions\n",
    "\n",
    "        self.embedding_dim = embedding_dim\n",
    "        self.input_size = input_size\n",
    "        self.hidden_size = hidden_size\n",
    "        self.n_layers = n_layers\n",
    "        self.dropout = dropout\n",
    "        self.bidirectional = bidirectional\n",
    "\n",
    "        self.embedding_layer = nn.Embedding(input_size, embedding_dim)\n",
    "        self.rnn_layer = nn.LSTM(embedding_dim, hidden_size, n_layers, dropout=dropout, bidirectional=bidirectional, batch_first=True)\n",
    "        self.dropout_layer = nn.Dropout(dropout)\n",
    "\n",
    "    def forward(self, inputs, hidden=None):\n",
    "        embedded = self.dropout_layer(self.embedding_layer(inputs))\n",
    "        outputs, _ = self.rnn_layer(embedded, hidden)\n",
    "        sentences_embeddings = torch.mean(outputs, 1)\n",
    "        # [batch_size, hidden_size]\n",
    "        return sentences_embeddings\n",
    "\n",
    "class SentenceTaggerRNN(nn.Module):\n",
    "    def __init__(self,\n",
    "                 vocabulary_size,\n",
    "                 use_content=True,\n",
    "                 use_salience=True,\n",
    "                 use_novelty=True,\n",
    "                 token_embedding_dim=128,\n",
    "                 sentence_encoder_hidden_size=256,\n",
    "                 hidden_size=256,\n",
    "                 bidirectional=True,\n",
    "                 sentence_encoder_n_layers=2,\n",
    "                 sentence_encoder_dropout=0.3,\n",
    "                 sentence_encoder_bidirectional=True,\n",
    "                 n_layers=2,\n",
    "                 dropout=0.3):\n",
    "        \n",
    "        super().__init__()\n",
    "\n",
    "        num_directions = 2 if bidirectional else 1\n",
    "        assert hidden_size % num_directions == 0\n",
    "        hidden_size = hidden_size // num_directions\n",
    "\n",
    "        self.hidden_size = hidden_size\n",
    "        self.n_layers = n_layers\n",
    "        self.dropout = dropout\n",
    "        self.bidirectional = bidirectional\n",
    "\n",
    "        self.sentence_encoder = SentenceEncoderRNN(vocabulary_size, token_embedding_dim,\n",
    "                                                   sentence_encoder_hidden_size, sentence_encoder_n_layers, \n",
    "                                                   sentence_encoder_dropout, sentence_encoder_bidirectional)\n",
    "        \n",
    "        self.rnn_layer = nn.LSTM(sentence_encoder_hidden_size, hidden_size, n_layers, dropout=dropout,\n",
    "                           bidirectional=bidirectional, batch_first=True)\n",
    "        \n",
    "        self.dropout_layer = nn.Dropout(dropout)\n",
    "        self.content_linear_layer = nn.Linear(hidden_size * 2, 1)\n",
    "        self.document_linear_layer = nn.Linear(hidden_size * 2, hidden_size * 2)\n",
    "        self.salience_linear_layer = nn.Linear(hidden_size * 2, hidden_size * 2)\n",
    "        if use_novelty:\n",
    "            self.novelty_linear_layer = nn.Linear(hidden_size * 2, hidden_size * 2)  # YOUR CODE\n",
    "        self.tanh_layer = nn.Tanh()\n",
    "\n",
    "        self.use_content = use_content\n",
    "        self.use_salience = use_salience\n",
    "        self.use_novelty = use_novelty\n",
    "\n",
    "    def forward(self, inputs, hidden=None):\n",
    "        # parameters of the probability\n",
    "        content = 0\n",
    "        salience = 0\n",
    "        novelty = 0\n",
    "\n",
    "        # [batch_size, seq num, seq_len]\n",
    "        batch_size = inputs.size(0)\n",
    "        sentences_count = inputs.size(1)\n",
    "        tokens_count = inputs.size(2)\n",
    "        inputs = inputs.reshape(-1, tokens_count)\n",
    "        # [batch_size * seq num, seq_len]\n",
    "\n",
    "        embedded_sentences = self.sentence_encoder(inputs)\n",
    "        embedded_sentences = self.dropout_layer(embedded_sentences.reshape(batch_size, sentences_count, -1))\n",
    "        # [batch_size *  seq num, seq_len, hidden_size] -> [batch_size, seq num, hidden_size]\n",
    "\n",
    "        outputs, _ = self.rnn_layer(embedded_sentences, hidden)\n",
    "        # [batch_size, seq num, 2 * hidden_size]  MM\n",
    "\n",
    "        document_embedding = self.tanh_layer(self.document_linear_layer(torch.mean(outputs, 1)))\n",
    "        # [batch_size, 2 * hidden_size]  MM\n",
    "\n",
    "        # W * h^T\n",
    "        if self.use_content:\n",
    "            content = self.content_linear_layer(outputs).squeeze(2) # 1-representation\n",
    "        # [batch_size, seq num]\n",
    "\n",
    "        # h^T * W * d\n",
    "        if self.use_salience:\n",
    "            salience = torch.bmm(outputs, self.salience_linear_layer(document_embedding).unsqueeze(2)).squeeze(2) # 2-representation\n",
    "        # [batch_size, seq num, hidden_size] * [batch_size, hidden_size, 1] = [batch_size, seq num]\n",
    "\n",
    "        out = content + salience\n",
    "        \n",
    "        if self.use_novelty:\n",
    "            # at every step add novelty to prediction of the sentence\n",
    "            predictions = content + salience\n",
    "            \n",
    "            # 0) initialize summary_representation and novelty by zeros\n",
    "            # YOUR CODE\n",
    "            summary_representation = torch.zeros_like(outputs[:, 0, :])\n",
    "            novelty = torch.zeros_like(outputs[:, 0, 0])\n",
    "\n",
    "            for sentence_num in range(sentences_count):\n",
    "                \n",
    "                # 1) take sentence_num_state from outputs(representation of the sentence with number sentence_num)\n",
    "                # 2) calculate novelty for current sentence\n",
    "                # 3) add novelty to predictions\n",
    "                # 4) calculcate probability for current sentence\n",
    "                # 5) add sentence_num_state with the weight which is equal to probability to summary_representation\n",
    "\n",
    "                # YOUR CODE\n",
    "                sentence_num_state = outputs[:, sentence_num, :]\n",
    "                novelty = torch.bmm(sentence_num_state.unsqueeze(1), \n",
    "                                    self.novelty_linear_layer(torch.tanh(summary_representation))\n",
    "                                    .unsqueeze(2)).squeeze(2).squeeze(1)\n",
    "                predictions[:, sentence_num] -= novelty\n",
    "                probability = torch.sigmoid(predictions[:, sentence_num]).unsqueeze(1)\n",
    "                summary_representation += probability * sentence_num_state\n",
    "\n",
    "            out = predictions\n",
    "\n",
    "        out = torch.cat((-out.unsqueeze(-1), out.unsqueeze(-1)), dim=-1)\n",
    "        return out"
   ]
  },
  {
   "cell_type": "markdown",
   "metadata": {
    "id": "QxpL3AtOrctD"
   },
   "source": [
    "## Model\n",
    "$P\\left(y_{j} = 1 \\mid \\mathbf{h}_{j}, \\mathbf{s}_{j}, \\mathbf{d}\\right)=\\sigma\\left(W_{c} \\mathbf{h}_{j} + \\mathbf{h}_{j}^{T} W_{s} \\mathbf{d}\\right)$\n",
    "--------------------"
   ]
  },
  {
   "cell_type": "code",
   "execution_count": 18,
   "metadata": {
    "colab": {
     "base_uri": "https://localhost:8080/"
    },
    "id": "-QC1ZmuQfB7f",
    "outputId": "489cd450-47db-4fe3-87e8-2490714378f7"
   },
   "outputs": [
    {
     "name": "stdout",
     "output_type": "stream",
     "text": [
      "Trainable params: 2861825\n"
     ]
    }
   ],
   "source": [
    "vocab_size = len(vocabulary)\n",
    "model = SentenceTaggerRNN(vocab_size, use_novelty=False).to(device)\n",
    "\n",
    "params_count = np.sum([p.numel() for p in model.parameters() if p.requires_grad])\n",
    "print(\"Trainable params: {}\".format(params_count))"
   ]
  },
  {
   "cell_type": "code",
   "execution_count": 19,
   "metadata": {
    "colab": {
     "base_uri": "https://localhost:8080/"
    },
    "id": "f9Q3aFHhgsB4",
    "outputId": "8a948b61-53bd-4a06-f4b1-d116ca729e70"
   },
   "outputs": [
    {
     "name": "stdout",
     "output_type": "stream",
     "text": [
      "sentence_encoder.embedding_layer.weight: 1280000\n",
      "sentence_encoder.rnn_layer.weight_ih_l0: 65536\n",
      "sentence_encoder.rnn_layer.weight_hh_l0: 65536\n",
      "sentence_encoder.rnn_layer.bias_ih_l0: 512\n",
      "sentence_encoder.rnn_layer.bias_hh_l0: 512\n",
      "sentence_encoder.rnn_layer.weight_ih_l0_reverse: 65536\n",
      "sentence_encoder.rnn_layer.weight_hh_l0_reverse: 65536\n",
      "sentence_encoder.rnn_layer.bias_ih_l0_reverse: 512\n",
      "sentence_encoder.rnn_layer.bias_hh_l0_reverse: 512\n",
      "sentence_encoder.rnn_layer.weight_ih_l1: 131072\n",
      "sentence_encoder.rnn_layer.weight_hh_l1: 65536\n",
      "sentence_encoder.rnn_layer.bias_ih_l1: 512\n",
      "sentence_encoder.rnn_layer.bias_hh_l1: 512\n",
      "sentence_encoder.rnn_layer.weight_ih_l1_reverse: 131072\n",
      "sentence_encoder.rnn_layer.weight_hh_l1_reverse: 65536\n",
      "sentence_encoder.rnn_layer.bias_ih_l1_reverse: 512\n",
      "sentence_encoder.rnn_layer.bias_hh_l1_reverse: 512\n",
      "rnn_layer.weight_ih_l0: 131072\n",
      "rnn_layer.weight_hh_l0: 65536\n",
      "rnn_layer.bias_ih_l0: 512\n",
      "rnn_layer.bias_hh_l0: 512\n",
      "rnn_layer.weight_ih_l0_reverse: 131072\n",
      "rnn_layer.weight_hh_l0_reverse: 65536\n",
      "rnn_layer.bias_ih_l0_reverse: 512\n",
      "rnn_layer.bias_hh_l0_reverse: 512\n",
      "rnn_layer.weight_ih_l1: 131072\n",
      "rnn_layer.weight_hh_l1: 65536\n",
      "rnn_layer.bias_ih_l1: 512\n",
      "rnn_layer.bias_hh_l1: 512\n",
      "rnn_layer.weight_ih_l1_reverse: 131072\n",
      "rnn_layer.weight_hh_l1_reverse: 65536\n",
      "rnn_layer.bias_ih_l1_reverse: 512\n",
      "rnn_layer.bias_hh_l1_reverse: 512\n",
      "content_linear_layer.weight: 256\n",
      "content_linear_layer.bias: 1\n",
      "document_linear_layer.weight: 65536\n",
      "document_linear_layer.bias: 256\n",
      "salience_linear_layer.weight: 65536\n",
      "salience_linear_layer.bias: 256\n"
     ]
    }
   ],
   "source": [
    "for name, param in model.named_parameters():\n",
    "    print(f\"{name}: {param.numel()}\")"
   ]
  },
  {
   "cell_type": "code",
   "execution_count": 20,
   "metadata": {
    "id": "JC3M-NHzbmGL"
   },
   "outputs": [],
   "source": [
    "# !gdown https://drive.google.com/uc?id=1MiS_iczALcyF7zGDPY6niyeD82P0_PBH -O train_model.py"
   ]
  },
  {
   "cell_type": "code",
   "execution_count": 21,
   "metadata": {
    "id": "05s8UWh81cjG"
   },
   "outputs": [],
   "source": [
    "import train_model\n",
    "import imp \n",
    "imp.reload(train_model)\n",
    "from train_model import train_with_logs"
   ]
  },
  {
   "cell_type": "markdown",
   "metadata": {
    "id": "FK8V3HxjqDHZ"
   },
   "source": [
    "### weights"
   ]
  },
  {
   "cell_type": "code",
   "execution_count": 22,
   "metadata": {
    "colab": {
     "base_uri": "https://localhost:8080/"
    },
    "id": "oLjJq9nRqCYA",
    "outputId": "930bb01f-02b0-4b66-cce9-841d9b2466c3"
   },
   "outputs": [
    {
     "data": {
      "text/plain": [
       "tensor([0.0790, 0.9210])"
      ]
     },
     "execution_count": 22,
     "metadata": {
      "tags": []
     },
     "output_type": "execute_result"
    }
   ],
   "source": [
    "def get_weights(records):\n",
    "    one_class_num = 0\n",
    "    total_class_num = 0\n",
    "    for item in records:\n",
    "        one_class_num += len(item[\"oracle_sentences\"])\n",
    "        total_class_num += len(item[\"sentences\"])\n",
    "    # weights = torch.tensor([one_class_num / total_class_num, (total_class_num - one_class_num) / total_class_num])\n",
    "    inv_zero = 1 / (total_class_num - one_class_num)\n",
    "    inv_one = 1 / one_class_num\n",
    "    weights = torch.tensor([inv_zero / (inv_zero + inv_one), inv_one / (inv_zero + inv_one)])\n",
    "    return weights\n",
    "\n",
    "get_weights(ext_train_records)"
   ]
  },
  {
   "cell_type": "code",
   "execution_count": 23,
   "metadata": {
    "id": "rwrhG4v71yts"
   },
   "outputs": [],
   "source": [
    "def train(use_class_weights, N_EPOCHS, CLIP, lr=1e-3):\n",
    "    optimizer = optim.Adam(model.parameters(), lr)\n",
    "    if use_class_weights:\n",
    "        # weights depend on the number of objects of class 0 and 1\n",
    "        # YOUR CODE\n",
    "        weights = get_weights(ext_train_records).to(device)\n",
    "        criterion = nn.CrossEntropyLoss(weight=weights)\n",
    "    else:\n",
    "        criterion = nn.CrossEntropyLoss()\n",
    "    train_with_logs(model, train_iterator, val_iterator, optimizer, criterion, N_EPOCHS, CLIP)\n",
    "\n",
    "# train(True, N_EPOCHS, CLIP)"
   ]
  },
  {
   "cell_type": "markdown",
   "metadata": {
    "id": "vuv4Sh2Vj5Yr"
   },
   "source": [
    "## Inference function"
   ]
  },
  {
   "cell_type": "code",
   "execution_count": 24,
   "metadata": {
    "id": "wZ96X37bb_PV"
   },
   "outputs": [],
   "source": [
    "from train_model import punct_detokenize, postprocess\n",
    "\n",
    "def inference_summarunner(model, iterator, top_k=3):\n",
    "\n",
    "    references = []\n",
    "    predictions = []\n",
    "\n",
    "    model.eval()\n",
    "    for batch in test_iterator:\n",
    "        sum_in = None\n",
    "        logits = model(batch['inputs'])[:, :, 1]\n",
    "        \n",
    "        if top_k:\n",
    "            sum_in = torch.argsort(logits, dim=1)[:, -top_k:]\n",
    "        \n",
    "        for i in range(len(batch['outputs'])):\n",
    "\n",
    "            summary = batch['records'][i]['summary'].lower()\n",
    "            if top_k:\n",
    "                pred_summary = ' '.join([batch['records'][i]['sentences'][ind] for ind in sum_in.sort(dim=1)[0][i] \n",
    "                                        if ind < len(batch['records'][i]['sentences'])])\n",
    "            else:\n",
    "                pred_summary = ' '.join([batch['records'][i]['sentences'][ind] for ind, logit in enumerate(logits[i]) \n",
    "                                        if (ind < len(batch['records'][i]['sentences'])) and (logit > 0)])\n",
    "\n",
    "            summary, pred_summary = postprocess(summary, pred_summary)\n",
    "\n",
    "            references.append(summary)\n",
    "            predictions.append(pred_summary)\n",
    "\n",
    "    calc_scores(references, predictions)\n",
    "\n",
    "# model.load_state_dict(torch.load('best-val-model.pt'))\n",
    "# inference_summarunner(model, test_iterator, 3)"
   ]
  },
  {
   "cell_type": "markdown",
   "metadata": {
    "id": "iKfEAJkdJzl7"
   },
   "source": [
    "## <center>Research Part"
   ]
  },
  {
   "cell_type": "markdown",
   "metadata": {
    "id": "y4WbM0DOgw7F"
   },
   "source": [
    "### Params init"
   ]
  },
  {
   "cell_type": "code",
   "execution_count": 25,
   "metadata": {
    "id": "78x0fRD5gu_K"
   },
   "outputs": [],
   "source": [
    "N_EPOCHS = 5\n",
    "CLIP = 1"
   ]
  },
  {
   "cell_type": "markdown",
   "metadata": {
    "id": "s6DTOQPXltDo"
   },
   "source": [
    "## weights +, novelty +"
   ]
  },
  {
   "cell_type": "code",
   "execution_count": 26,
   "metadata": {
    "colab": {
     "base_uri": "https://localhost:8080/",
     "height": 575
    },
    "id": "HWBwHt0EfO77",
    "outputId": "069fadf9-c58b-4f98-d7f4-ec8711bbfe5f"
   },
   "outputs": [
    {
     "data": {
      "image/png": "[encoded data removed]",
      "text/plain": [
       "<Figure size 864x576 with 2 Axes>"
      ]
     },
     "metadata": {
      "needs_background": "light",
      "tags": []
     },
     "output_type": "display_data"
    },
    {
     "name": "stdout",
     "output_type": "stream",
     "text": [
      "Epoch: 05 | Time: 0m 9s\n",
      "\tTrain Loss: 0.558 | Train PPL:   1.748\n",
      "\t Val. Loss: 0.567 |  Val. PPL:   1.763\n"
     ]
    }
   ],
   "source": [
    "model = SentenceTaggerRNN(vocab_size, use_novelty=True).to(device)\n",
    "train(use_class_weights=True, N_EPOCHS=N_EPOCHS, CLIP=CLIP)"
   ]
  },
  {
   "cell_type": "markdown",
   "metadata": {
    "id": "wPMcBVRAprPa"
   },
   "source": [
    "#### top3"
   ]
  },
  {
   "cell_type": "code",
   "execution_count": 27,
   "metadata": {
    "colab": {
     "base_uri": "https://localhost:8080/"
    },
    "id": "HOHflnthfdwn",
    "outputId": "5e05ab52-887d-4cea-c66e-30671bf1f3c4"
   },
   "outputs": [
    {
     "name": "stdout",
     "output_type": "stream",
     "text": [
      "Count: 256\n",
      "Ref: экс-президент египта хосни мубарак , находившийся у власти целых 30 лет — вплоть до восстания 2011 года , скончался в каире . три десятка лет чрезвычайного положения принесли арабской стране немало изменений , укрепив ее статус на международной арене , но также во многом оказались непростыми для населения .\n",
      "Hyp: бывший президент египта хосни мубарак скончался во вторник в каире , пишут египетские сми . однако официальной информации о смерти 91-летнего экс-президента пока нет . хосни мубарак управлял страной почти 30 лет — с 1981 по 2011 год .\n",
      "BLEU:  0.4460534146270132\n",
      "ROUGE:  {'rouge-1': {'f': 0.3140955792106141, 'p': 0.29381504725708146, 'r': 0.3551589835085784}, 'rouge-2': {'f': 0.13807773616322402, 'p': 0.12710848739881164, 'r': 0.16146717561073565}, 'rouge-l': {'f': 0.2667689473124119, 'p': 0.26324046454661537, 'r': 0.31712040141618264}}\n"
     ]
    }
   ],
   "source": [
    "model.load_state_dict(torch.load('best-val-model.pt'))\n",
    "inference_summarunner(model, test_iterator, top_k=3)"
   ]
  },
  {
   "cell_type": "markdown",
   "metadata": {
    "id": "hE4k_YwMpwth"
   },
   "source": [
    "#### logits > 0"
   ]
  },
  {
   "cell_type": "code",
   "execution_count": 28,
   "metadata": {
    "colab": {
     "base_uri": "https://localhost:8080/"
    },
    "id": "yF2ndJHApdKv",
    "outputId": "fd65243b-53d6-4d24-8310-772988a086a8"
   },
   "outputs": [
    {
     "name": "stdout",
     "output_type": "stream",
     "text": [
      "Count: 256\n",
      "Ref: министр иностранных дел германии хайко маас выступил против вывода ядерного оружия сша с территории фрг . по мнению министра , перемещение американских бомб не решит проблему , так как ядерное оружие следует убрать отовсюду . мир без ядерных вооружений должен оставаться главной целью , подчеркнул маас .\n",
      "Hyp: глава мид германии хайко маас выступил против вывода « в одностороннем порядке » американского ядерного оружия с немецкой территории , призвав запретить данный тип вооружений в целом . « это ничему не поможет , если ядерное оружие переместить из одной страны в другую . если оно должно исчезнуть , оно должно исчезнуть всюду » , — цитирует слова мааса dpa . в вопросе ядерного разоружения требуются договоренности на широком базисе , уверен министр , а не в отношении отдельных стран . « нашей целью должен оставаться мир без ядерного оружия , даже если этого непросто достичь или даже если это потребует много времени » , — подчеркнул маас . стоит отметить , что на территории европы находится около 150 единиц тактического ядерного оружия сша , американские вооружения размещены в бельгии , германии , италии и других странах . такие данные приводят сми , но официальной информации на эту тему нет . в частности , газета de morgen летом сообщала , что в фрг хранится около 20 тактических ядерных бомб сша .\n",
      "BLEU:  0.2993153050453926\n",
      "ROUGE:  {'rouge-1': {'f': 0.2962869129653551, 'p': 0.2291196181518149, 'r': 0.4555525807892092}, 'rouge-2': {'f': 0.12679050859440755, 'p': 0.09488362436389773, 'r': 0.21241284858146195}, 'rouge-l': {'f': 0.2268888663427004, 'p': 0.20887555329694585, 'r': 0.41535139227416007}}\n"
     ]
    }
   ],
   "source": [
    "inference_summarunner(model, test_iterator, top_k=None)"
   ]
  },
  {
   "cell_type": "markdown",
   "metadata": {
    "id": "4r3PcXHqmIYM"
   },
   "source": [
    "## weights -, novelty +"
   ]
  },
  {
   "cell_type": "code",
   "execution_count": 29,
   "metadata": {
    "colab": {
     "base_uri": "https://localhost:8080/",
     "height": 575
    },
    "id": "OMTLHflLg9tH",
    "outputId": "49a2d863-709b-48a4-dd44-2b07f7cd825e"
   },
   "outputs": [
    {
     "data": {
      "image/png": "[encoded data removed]",
      "text/plain": [
       "<Figure size 864x576 with 2 Axes>"
      ]
     },
     "metadata": {
      "needs_background": "light",
      "tags": []
     },
     "output_type": "display_data"
    },
    {
     "name": "stdout",
     "output_type": "stream",
     "text": [
      "Epoch: 05 | Time: 0m 9s\n",
      "\tTrain Loss: 0.232 | Train PPL:   1.261\n",
      "\t Val. Loss: 0.235 |  Val. PPL:   1.265\n"
     ]
    }
   ],
   "source": [
    "model = SentenceTaggerRNN(vocab_size, use_novelty=True).to(device)\n",
    "train(use_class_weights=False, N_EPOCHS=N_EPOCHS, CLIP=CLIP)"
   ]
  },
  {
   "cell_type": "markdown",
   "metadata": {
    "id": "-Fj-3aSXqL2h"
   },
   "source": [
    "#### top3"
   ]
  },
  {
   "cell_type": "code",
   "execution_count": 30,
   "metadata": {
    "colab": {
     "base_uri": "https://localhost:8080/"
    },
    "id": "cH0vgmRig9tH",
    "outputId": "1a5c2585-d94f-4023-b5ee-e2eb5858abd8"
   },
   "outputs": [
    {
     "name": "stdout",
     "output_type": "stream",
     "text": [
      "Count: 256\n",
      "Ref: бразильская модель наджила триндаде , которая в 2019 году заявила , что ее изнасиловал нападающий « псж » неймар , выдвинула против него новое обвинение . согласно ее словам , футболист причастен к организации сети vip-проституции .\n",
      "Hyp: бразильский нападающий французского « псж » неймар снова может оказаться втянут в судебное разбирательство . иск против игрока намерена подать модель из бразилии наджила триндаде . по информации uol esporte , теперь девушка обвиняет форварда в организации сети vip-проституции .\n",
      "BLEU:  0.44674925060378357\n",
      "ROUGE:  {'rouge-1': {'f': 0.3139099695755891, 'p': 0.2943140273165957, 'r': 0.35416244710992795}, 'rouge-2': {'f': 0.13833083065518084, 'p': 0.12774170969656698, 'r': 0.16134053532067022}, 'rouge-l': {'f': 0.2667387614491305, 'p': 0.2637614988963379, 'r': 0.3162068840205883}}\n"
     ]
    }
   ],
   "source": [
    "model.load_state_dict(torch.load('best-val-model.pt'))\n",
    "inference_summarunner(model, test_iterator, top_k=3)"
   ]
  },
  {
   "cell_type": "markdown",
   "metadata": {
    "id": "rmp5dl1oqhjL"
   },
   "source": [
    "#### logits > 0"
   ]
  },
  {
   "cell_type": "code",
   "execution_count": 31,
   "metadata": {
    "colab": {
     "base_uri": "https://localhost:8080/"
    },
    "id": "lvl7-LoGqTCk",
    "outputId": "f1dd025a-af32-4581-9351-ddaa959fc681"
   },
   "outputs": [
    {
     "name": "stdout",
     "output_type": "stream",
     "text": [
      "Count: 256\n",
      "Ref: хакеры могут взломать смартфоны и « умные » колонки с помощью лазерной указки и пары других инструментов , заявили исследователи по кибербезопасности . сообщается , что некоторые модели гаджетов воспринимают свет от лазера как звуковую команду , а значит виртуальные голосовые помощники могут быть обмануты злоумышленниками , пожелавшими сделать покупку в интернете от вашего имени или открыть дверь гаража « умного » дома , чтобы угнать автомобиль .\n",
      "Hyp: группа исследователей из токийского университета электрокоммуникаций и университета мичигана обнаружила , что ряд гаджетов , поддерживающих голосовое управление , имеет в себе уязвимость — если навести на них лазерную указку , то они воспринимают свет как звуковую команду , сообщает business insider .\n",
      "BLEU:  0.19968536742761978\n",
      "ROUGE:  {'rouge-1': {'f': 0.26750740225830005, 'p': 0.4255177372030778, 'r': 0.20709281205900218}, 'rouge-2': {'f': 0.1228254980375476, 'p': 0.20627572995628915, 'r': 0.09377851129323336}, 'rouge-l': {'f': 0.1946385291840424, 'p': 0.3714323303634145, 'r': 0.18004812342166793}}\n"
     ]
    }
   ],
   "source": [
    "\n",
    "inference_summarunner(model, test_iterator, top_k=None)"
   ]
  },
  {
   "cell_type": "markdown",
   "metadata": {
    "id": "H-hYTuZGycwx"
   },
   "source": [
    "## Without novelty"
   ]
  },
  {
   "cell_type": "markdown",
   "metadata": {
    "id": "cacuUYcmxnZR"
   },
   "source": [
    "## weights +, novelty -"
   ]
  },
  {
   "cell_type": "code",
   "execution_count": 32,
   "metadata": {
    "colab": {
     "base_uri": "https://localhost:8080/",
     "height": 575
    },
    "id": "tDuW-jZ7xnZb",
    "outputId": "94702436-3a82-4df7-b634-96ac3b702133"
   },
   "outputs": [
    {
     "data": {
      "image/png": "[encoded data removed]",
      "text/plain": [
       "<Figure size 864x576 with 2 Axes>"
      ]
     },
     "metadata": {
      "needs_background": "light",
      "tags": []
     },
     "output_type": "display_data"
    },
    {
     "name": "stdout",
     "output_type": "stream",
     "text": [
      "Epoch: 05 | Time: 0m 8s\n",
      "\tTrain Loss: 0.545 | Train PPL:   1.724\n",
      "\t Val. Loss: 0.582 |  Val. PPL:   1.789\n"
     ]
    }
   ],
   "source": [
    "model = SentenceTaggerRNN(vocab_size, use_novelty=False).to(device)\n",
    "train(use_class_weights=True, N_EPOCHS=N_EPOCHS, CLIP=CLIP)"
   ]
  },
  {
   "cell_type": "markdown",
   "metadata": {
    "id": "BMyTS89CxnZb"
   },
   "source": [
    "#### top3"
   ]
  },
  {
   "cell_type": "code",
   "execution_count": 33,
   "metadata": {
    "colab": {
     "base_uri": "https://localhost:8080/"
    },
    "id": "pv_0KByExnZc",
    "outputId": "0d421d55-80a9-41fc-da47-76c9b5354c87"
   },
   "outputs": [
    {
     "name": "stdout",
     "output_type": "stream",
     "text": [
      "Count: 256\n",
      "Ref: владельцы китайских ресторанов и магазинчиков в сша не знают , как будут платить аренду в следующем месяце — продажи катастрофически падают . американцы начали бояться жареной лапши и дим-самов из-за распространения коронавируса нового типа — они больше не ходят в заведения китайской кухни , и властям городов приходится уговаривать жителей не поддаваться истерии .\n",
      "Hyp: китайские рестораны становятся жертвами коронавируса нового типа : в сша в заведениях , где подают блюда китайской кухни , обыватели начали видеть источник заразы . американцы не просто начали обходить стороной рестораны , где подают дим-самы , жареную лапшу и свинину в кисло-сладком соусе , но и призывают других это не делать , а владельцы некогда популярных ресторанов и закусочных подсчитывают убытки и терпят расистские нападки . в американском штате аризона из-за коронавируса covid-19 под угрозой оказался гастрономический фестиваль в городе меса , где недавно был создан отдельный кластер с ре c торанами азиатской кухни .\n",
      "BLEU:  0.4468518049027453\n",
      "ROUGE:  {'rouge-1': {'f': 0.3190150135053712, 'p': 0.29857671484432463, 'r': 0.36075073392896195}, 'rouge-2': {'f': 0.1411717652336616, 'p': 0.13012767053720578, 'r': 0.16496109505818607}, 'rouge-l': {'f': 0.27137751189281917, 'p': 0.2677933797965847, 'r': 0.32276683072582857}}\n"
     ]
    }
   ],
   "source": [
    "model.load_state_dict(torch.load('best-val-model.pt'))\n",
    "inference_summarunner(model, test_iterator, top_k=3)"
   ]
  },
  {
   "cell_type": "markdown",
   "metadata": {
    "id": "BWbImV7OxnZc"
   },
   "source": [
    "#### logits > 0"
   ]
  },
  {
   "cell_type": "code",
   "execution_count": 34,
   "metadata": {
    "colab": {
     "base_uri": "https://localhost:8080/"
    },
    "id": "xtmjmhwNxnZc",
    "outputId": "958dd615-74bb-43cf-a4a7-73c3e81ee7d8"
   },
   "outputs": [
    {
     "name": "stdout",
     "output_type": "stream",
     "text": [
      "Count: 256\n",
      "Ref: на кубани в городе кропоткине более 50 школьников госпитализированы с признаками острой кишечной инфекции — все дети от семи до 15 лет находятся в состоянии средней тяжести . следственные органы возбудили уголовное дело по статье об оказании недоброкачественных услуг — родители считают , что причиной отравления стала селедка , которую накануне давали в школьной столовой .\n",
      "Hyp: в городе кропоткине краснодарского края более 50 школьников отравились в школьных столовых — дети от семи до 15 лет сейчас находятся в детском инфекционном отделении горбольницы . об этом сообщает издание « кп » - кубань » . по данным сми , об инциденте стало известно 9 ноября 2019 года . в этот день 28 школьников с подозрением на отравление доставили в больницу — все они были в состоянии средней тяжести . однако 10 ноября госпитализировали уже 51 человек . 10 человек доставили в кавказскую центральную районную больницу , 41 — в кропоткинскую городскую . « контактных пациентов осматривают на дому 6 медицинских бригад . « управлением роспотребнадзора по краснодарскому краю проводится санитарно-эпидемиологическое расследование и комплекс противоэпидемических мероприятий .\n",
      "BLEU:  0.26329591404597413\n",
      "ROUGE:  {'rouge-1': {'f': 0.27916498393617, 'p': 0.20348127575297614, 'r': 0.4783487346752719}, 'rouge-2': {'f': 0.11652257581862352, 'p': 0.08203224167719596, 'r': 0.22198005208366048}, 'rouge-l': {'f': 0.20144819033327263, 'p': 0.18497152372683223, 'r': 0.4354726201388017}}\n"
     ]
    }
   ],
   "source": [
    "inference_summarunner(model, test_iterator, top_k=None)"
   ]
  },
  {
   "cell_type": "markdown",
   "metadata": {
    "id": "4iWi2fY0xnZc"
   },
   "source": [
    "## weights -, novelty -"
   ]
  },
  {
   "cell_type": "code",
   "execution_count": 35,
   "metadata": {
    "colab": {
     "base_uri": "https://localhost:8080/",
     "height": 575
    },
    "id": "LYdw3FKexnZd",
    "outputId": "d84066a7-5f37-4249-d1f7-61c1c5bc86a5"
   },
   "outputs": [
    {
     "data": {
      "image/png": "[encoded data removed]",
      "text/plain": [
       "<Figure size 864x576 with 2 Axes>"
      ]
     },
     "metadata": {
      "needs_background": "light",
      "tags": []
     },
     "output_type": "display_data"
    },
    {
     "name": "stdout",
     "output_type": "stream",
     "text": [
      "Epoch: 05 | Time: 0m 8s\n",
      "\tTrain Loss: 0.238 | Train PPL:   1.269\n",
      "\t Val. Loss: 0.233 |  Val. PPL:   1.263\n"
     ]
    }
   ],
   "source": [
    "model = SentenceTaggerRNN(vocab_size, use_novelty=False).to(device)\n",
    "train(use_class_weights=False, N_EPOCHS=N_EPOCHS, CLIP=CLIP)"
   ]
  },
  {
   "cell_type": "markdown",
   "metadata": {
    "id": "9fpjQJN0xnZd"
   },
   "source": [
    "#### top3"
   ]
  },
  {
   "cell_type": "code",
   "execution_count": 36,
   "metadata": {
    "colab": {
     "base_uri": "https://localhost:8080/"
    },
    "id": "LFl6bn6wxnZd",
    "outputId": "00ccb990-96e5-4c1d-a437-d4a3f5a67a2c"
   },
   "outputs": [
    {
     "name": "stdout",
     "output_type": "stream",
     "text": [
      "Count: 256\n",
      "Ref: из какого раствора можно надуть гигантские мыльные пузыри , методом проб и ошибок выяснили американские ученые . предложенным рецептом они поделились со взрослыми и детьми .\n",
      "Hyp: все дети и взрослые обожают надувать мыльные пузыри . однако немногие задумывались над тем , что надо сделать , чтобы надуть по истине гигантские пузыри и какого размера они вообще могут быть . такая проблема заняла ученых из университета эмори ( сша ) под руководством джастина бертона , который занимается проблемами динамики жидкостей в своей лаборатории .\n",
      "BLEU:  0.43275192972528337\n",
      "ROUGE:  {'rouge-1': {'f': 0.305247650354594, 'p': 0.28208589356655794, 'r': 0.3503887279355527}, 'rouge-2': {'f': 0.13369778758215548, 'p': 0.12128549164708496, 'r': 0.15939716640943574}, 'rouge-l': {'f': 0.2586058109346039, 'p': 0.25274485208891756, 'r': 0.31358682088740497}}\n"
     ]
    }
   ],
   "source": [
    "model.load_state_dict(torch.load('best-val-model.pt'))\n",
    "inference_summarunner(model, test_iterator, top_k=3)"
   ]
  },
  {
   "cell_type": "markdown",
   "metadata": {
    "id": "MYL6IUhxxnZd"
   },
   "source": [
    "#### logits > 0"
   ]
  },
  {
   "cell_type": "code",
   "execution_count": 37,
   "metadata": {
    "colab": {
     "base_uri": "https://localhost:8080/"
    },
    "id": "20S_pPnmxnZe",
    "outputId": "83ebf63e-666d-42eb-dd6a-ff565a50c4b7"
   },
   "outputs": [
    {
     "name": "stdout",
     "output_type": "stream",
     "text": [
      "Count: 256\n",
      "Ref: французская актриса валентина монньер выступила с обвинениями в адрес режиссера романа поланского . по ее словам , в 1975 году он жестоко изнасиловал ее на курорте в швейцарии , когда девушке только исполнилось 18 лет . монньер подчеркнула , что решила открыто рассказать о произошедшем из-за попыток режиссера оправдаться за прежние обвинения в своем новом фильме .\n",
      "Hyp: с новыми обвинениями в сексуальном насилии со стороны режиссера романа поланского выступила французская актриса валентина монньер , пишет le parisien .\n",
      "BLEU:  0.08639987994055964\n",
      "Error by ROUGE score calulation: Collections must contain at least 1 sentence.\n"
     ]
    }
   ],
   "source": [
    "inference_summarunner(model, test_iterator, top_k=None)"
   ]
  },
  {
   "cell_type": "markdown",
   "metadata": {
    "id": "vMsWFDjnxnZe"
   },
   "source": [
    "## Вывод:   \n",
    "- величина BLEU 0.45 (с округлением до 2-го знака) была достигнута\n",
    "- максимальный BLEU (~0.45) был при параметрах - с весами без novelty, top3\n",
    "- аналогичные BLEU (с точностью до 3 знака) получены также при параметрах - все top3, без весов с novelty, с весами и с novelty\n",
    "- веса, получается, сильно не повлияли\n",
    "- BLEU без весов и без novelty был чуть ниже, ~0.43\n",
    "- novelty повлияло только на вариант без весов, при варианте с весами novelty сильного влияния не оказало\n",
    "- при расчете скоров по только положительным логитам значения скоров сильно падали. Иногда вариантов с положительными логитами вообще не получалось. Возможно, эти два обстоятельства связаны между собой"
   ]
  }
 ],
 "metadata": {
  "accelerator": "GPU",
  "colab": {
   "collapsed_sections": [],
   "name": "[homework]summarization_v1.ipynb",
   "provenance": []
  },
  "kernelspec": {
   "display_name": "Python 3",
   "language": "python",
   "name": "python3"
  },
  "language_info": {
   "codemirror_mode": {
    "name": "ipython",
    "version": 3
   },
   "file_extension": ".py",
   "mimetype": "text/x-python",
   "name": "python",
   "nbconvert_exporter": "python",
   "pygments_lexer": "ipython3",
   "version": "3.8.6"
  },
  "widgets": {
   "application/vnd.jupyter.widget-state+json": {
    "0246cd4563284911949dbd5a2cc89331": {
     "model_module": "@jupyter-widgets/base",
     "model_name": "LayoutModel",
     "state": {
      "_model_module": "@jupyter-widgets/base",
      "_model_module_version": "1.2.0",
      "_model_name": "LayoutModel",
      "_view_count": null,
      "_view_module": "@jupyter-widgets/base",
      "_view_module_version": "1.2.0",
      "_view_name": "LayoutView",
      "align_content": null,
      "align_items": null,
      "align_self": null,
      "border": null,
      "bottom": null,
      "display": null,
      "flex": null,
      "flex_flow": null,
      "grid_area": null,
      "grid_auto_columns": null,
      "grid_auto_flow": null,
      "grid_auto_rows": null,
      "grid_column": null,
      "grid_gap": null,
      "grid_row": null,
      "grid_template_areas": null,
      "grid_template_columns": null,
      "grid_template_rows": null,
      "height": null,
      "justify_content": null,
      "justify_items": null,
      "left": null,
      "margin": null,
      "max_height": null,
      "max_width": null,
      "min_height": null,
      "min_width": null,
      "object_fit": null,
      "object_position": null,
      "order": null,
      "overflow": null,
      "overflow_x": null,
      "overflow_y": null,
      "padding": null,
      "right": null,
      "top": null,
      "visibility": null,
      "width": null
     }
    },
    "16f32f0289964865b5382c83e52573e4": {
     "model_module": "@jupyter-widgets/base",
     "model_name": "LayoutModel",
     "state": {
      "_model_module": "@jupyter-widgets/base",
      "_model_module_version": "1.2.0",
      "_model_name": "LayoutModel",
      "_view_count": null,
      "_view_module": "@jupyter-widgets/base",
      "_view_module_version": "1.2.0",
      "_view_name": "LayoutView",
      "align_content": null,
      "align_items": null,
      "align_self": null,
      "border": null,
      "bottom": null,
      "display": null,
      "flex": null,
      "flex_flow": null,
      "grid_area": null,
      "grid_auto_columns": null,
      "grid_auto_flow": null,
      "grid_auto_rows": null,
      "grid_column": null,
      "grid_gap": null,
      "grid_row": null,
      "grid_template_areas": null,
      "grid_template_columns": null,
      "grid_template_rows": null,
      "height": null,
      "justify_content": null,
      "justify_items": null,
      "left": null,
      "margin": null,
      "max_height": null,
      "max_width": null,
      "min_height": null,
      "min_width": null,
      "object_fit": null,
      "object_position": null,
      "order": null,
      "overflow": null,
      "overflow_x": null,
      "overflow_y": null,
      "padding": null,
      "right": null,
      "top": null,
      "visibility": null,
      "width": null
     }
    },
    "1717c2b1f73f4ada94e7e7bb5da69101": {
     "model_module": "@jupyter-widgets/controls",
     "model_name": "HTMLModel",
     "state": {
      "_dom_classes": [],
      "_model_module": "@jupyter-widgets/controls",
      "_model_module_version": "1.5.0",
      "_model_name": "HTMLModel",
      "_view_count": null,
      "_view_module": "@jupyter-widgets/controls",
      "_view_module_version": "1.5.0",
      "_view_name": "HTMLView",
      "description": "",
      "description_tooltip": null,
      "layout": "IPY_MODEL_e9ca7135695c471f8395af07066c2a97",
      "placeholder": "​",
      "style": "IPY_MODEL_c5f41aac7d034280aabc1c343c11d1ae",
      "value": " 256/256 [00:47&lt;00:00,  5.38it/s]"
     }
    },
    "17437aa42f2c45d59fbd8e0724699c00": {
     "model_module": "@jupyter-widgets/controls",
     "model_name": "FloatProgressModel",
     "state": {
      "_dom_classes": [],
      "_model_module": "@jupyter-widgets/controls",
      "_model_module_version": "1.5.0",
      "_model_name": "FloatProgressModel",
      "_view_count": null,
      "_view_module": "@jupyter-widgets/controls",
      "_view_module_version": "1.5.0",
      "_view_name": "ProgressView",
      "bar_style": "danger",
      "description": "100%",
      "description_tooltip": null,
      "layout": "IPY_MODEL_393ae81432044b74b9b0871a37b7d9f7",
      "max": 256,
      "min": 0,
      "orientation": "horizontal",
      "style": "IPY_MODEL_ee39da2c38dd4f85be6a0a5c775c74c0",
      "value": 256
     }
    },
    "1812fb9863ca4462a08a42fd0afb1022": {
     "model_module": "@jupyter-widgets/base",
     "model_name": "LayoutModel",
     "state": {
      "_model_module": "@jupyter-widgets/base",
      "_model_module_version": "1.2.0",
      "_model_name": "LayoutModel",
      "_view_count": null,
      "_view_module": "@jupyter-widgets/base",
      "_view_module_version": "1.2.0",
      "_view_name": "LayoutView",
      "align_content": null,
      "align_items": null,
      "align_self": null,
      "border": null,
      "bottom": null,
      "display": null,
      "flex": null,
      "flex_flow": null,
      "grid_area": null,
      "grid_auto_columns": null,
      "grid_auto_flow": null,
      "grid_auto_rows": null,
      "grid_column": null,
      "grid_gap": null,
      "grid_row": null,
      "grid_template_areas": null,
      "grid_template_columns": null,
      "grid_template_rows": null,
      "height": null,
      "justify_content": null,
      "justify_items": null,
      "left": null,
      "margin": null,
      "max_height": null,
      "max_width": null,
      "min_height": null,
      "min_width": null,
      "object_fit": null,
      "object_position": null,
      "order": null,
      "overflow": null,
      "overflow_x": null,
      "overflow_y": null,
      "padding": null,
      "right": null,
      "top": null,
      "visibility": null,
      "width": null
     }
    },
    "2108b34ce0564245a0fc16e63e4dcb13": {
     "model_module": "@jupyter-widgets/base",
     "model_name": "LayoutModel",
     "state": {
      "_model_module": "@jupyter-widgets/base",
      "_model_module_version": "1.2.0",
      "_model_name": "LayoutModel",
      "_view_count": null,
      "_view_module": "@jupyter-widgets/base",
      "_view_module_version": "1.2.0",
      "_view_name": "LayoutView",
      "align_content": null,
      "align_items": null,
      "align_self": null,
      "border": null,
      "bottom": null,
      "display": null,
      "flex": null,
      "flex_flow": null,
      "grid_area": null,
      "grid_auto_columns": null,
      "grid_auto_flow": null,
      "grid_auto_rows": null,
      "grid_column": null,
      "grid_gap": null,
      "grid_row": null,
      "grid_template_areas": null,
      "grid_template_columns": null,
      "grid_template_rows": null,
      "height": null,
      "justify_content": null,
      "justify_items": null,
      "left": null,
      "margin": null,
      "max_height": null,
      "max_width": null,
      "min_height": null,
      "min_width": null,
      "object_fit": null,
      "object_position": null,
      "order": null,
      "overflow": null,
      "overflow_x": null,
      "overflow_y": null,
      "padding": null,
      "right": null,
      "top": null,
      "visibility": null,
      "width": null
     }
    },
    "276c11e257d14fb5b98f6363ea0ae438": {
     "model_module": "@jupyter-widgets/controls",
     "model_name": "ProgressStyleModel",
     "state": {
      "_model_module": "@jupyter-widgets/controls",
      "_model_module_version": "1.5.0",
      "_model_name": "ProgressStyleModel",
      "_view_count": null,
      "_view_module": "@jupyter-widgets/base",
      "_view_module_version": "1.2.0",
      "_view_name": "StyleView",
      "bar_color": null,
      "description_width": "initial"
     }
    },
    "2d8929bb53f54f94874462c407a3ca87": {
     "model_module": "@jupyter-widgets/base",
     "model_name": "LayoutModel",
     "state": {
      "_model_module": "@jupyter-widgets/base",
      "_model_module_version": "1.2.0",
      "_model_name": "LayoutModel",
      "_view_count": null,
      "_view_module": "@jupyter-widgets/base",
      "_view_module_version": "1.2.0",
      "_view_name": "LayoutView",
      "align_content": null,
      "align_items": null,
      "align_self": null,
      "border": null,
      "bottom": null,
      "display": null,
      "flex": null,
      "flex_flow": null,
      "grid_area": null,
      "grid_auto_columns": null,
      "grid_auto_flow": null,
      "grid_auto_rows": null,
      "grid_column": null,
      "grid_gap": null,
      "grid_row": null,
      "grid_template_areas": null,
      "grid_template_columns": null,
      "grid_template_rows": null,
      "height": null,
      "justify_content": null,
      "justify_items": null,
      "left": null,
      "margin": null,
      "max_height": null,
      "max_width": null,
      "min_height": null,
      "min_width": null,
      "object_fit": null,
      "object_position": null,
      "order": null,
      "overflow": null,
      "overflow_x": null,
      "overflow_y": null,
      "padding": null,
      "right": null,
      "top": null,
      "visibility": null,
      "width": null
     }
    },
    "2efdcd5079d543d4bc71a6c51c1aafca": {
     "model_module": "@jupyter-widgets/controls",
     "model_name": "DescriptionStyleModel",
     "state": {
      "_model_module": "@jupyter-widgets/controls",
      "_model_module_version": "1.5.0",
      "_model_name": "DescriptionStyleModel",
      "_view_count": null,
      "_view_module": "@jupyter-widgets/base",
      "_view_module_version": "1.2.0",
      "_view_name": "StyleView",
      "description_width": ""
     }
    },
    "393ae81432044b74b9b0871a37b7d9f7": {
     "model_module": "@jupyter-widgets/base",
     "model_name": "LayoutModel",
     "state": {
      "_model_module": "@jupyter-widgets/base",
      "_model_module_version": "1.2.0",
      "_model_name": "LayoutModel",
      "_view_count": null,
      "_view_module": "@jupyter-widgets/base",
      "_view_module_version": "1.2.0",
      "_view_name": "LayoutView",
      "align_content": null,
      "align_items": null,
      "align_self": null,
      "border": null,
      "bottom": null,
      "display": null,
      "flex": null,
      "flex_flow": null,
      "grid_area": null,
      "grid_auto_columns": null,
      "grid_auto_flow": null,
      "grid_auto_rows": null,
      "grid_column": null,
      "grid_gap": null,
      "grid_row": null,
      "grid_template_areas": null,
      "grid_template_columns": null,
      "grid_template_rows": null,
      "height": null,
      "justify_content": null,
      "justify_items": null,
      "left": null,
      "margin": null,
      "max_height": null,
      "max_width": null,
      "min_height": null,
      "min_width": null,
      "object_fit": null,
      "object_position": null,
      "order": null,
      "overflow": null,
      "overflow_x": null,
      "overflow_y": null,
      "padding": null,
      "right": null,
      "top": null,
      "visibility": null,
      "width": null
     }
    },
    "3d0b1a2ef71a453ba607d2a923403f28": {
     "model_module": "@jupyter-widgets/controls",
     "model_name": "FloatProgressModel",
     "state": {
      "_dom_classes": [],
      "_model_module": "@jupyter-widgets/controls",
      "_model_module_version": "1.5.0",
      "_model_name": "FloatProgressModel",
      "_view_count": null,
      "_view_module": "@jupyter-widgets/controls",
      "_view_module_version": "1.5.0",
      "_view_name": "ProgressView",
      "bar_style": "danger",
      "description": "100%",
      "description_tooltip": null,
      "layout": "IPY_MODEL_2108b34ce0564245a0fc16e63e4dcb13",
      "max": 256,
      "min": 0,
      "orientation": "horizontal",
      "style": "IPY_MODEL_276c11e257d14fb5b98f6363ea0ae438",
      "value": 256
     }
    },
    "40dc60d69c914055a52f3cf3b5fb8ff8": {
     "model_module": "@jupyter-widgets/controls",
     "model_name": "DescriptionStyleModel",
     "state": {
      "_model_module": "@jupyter-widgets/controls",
      "_model_module_version": "1.5.0",
      "_model_name": "DescriptionStyleModel",
      "_view_count": null,
      "_view_module": "@jupyter-widgets/base",
      "_view_module_version": "1.2.0",
      "_view_name": "StyleView",
      "description_width": ""
     }
    },
    "41414039931c443fb76e674c2b940947": {
     "model_module": "@jupyter-widgets/controls",
     "model_name": "HBoxModel",
     "state": {
      "_dom_classes": [],
      "_model_module": "@jupyter-widgets/controls",
      "_model_module_version": "1.5.0",
      "_model_name": "HBoxModel",
      "_view_count": null,
      "_view_module": "@jupyter-widgets/controls",
      "_view_module_version": "1.5.0",
      "_view_name": "HBoxView",
      "box_style": "",
      "children": [
       "IPY_MODEL_77d9bb7e147d42dd862e690bea43925b",
       "IPY_MODEL_4fc3a014f58841229d813ef07ddd1253"
      ],
      "layout": "IPY_MODEL_0246cd4563284911949dbd5a2cc89331"
     }
    },
    "487e575445364a879652894491ef834b": {
     "model_module": "@jupyter-widgets/base",
     "model_name": "LayoutModel",
     "state": {
      "_model_module": "@jupyter-widgets/base",
      "_model_module_version": "1.2.0",
      "_model_name": "LayoutModel",
      "_view_count": null,
      "_view_module": "@jupyter-widgets/base",
      "_view_module_version": "1.2.0",
      "_view_name": "LayoutView",
      "align_content": null,
      "align_items": null,
      "align_self": null,
      "border": null,
      "bottom": null,
      "display": null,
      "flex": null,
      "flex_flow": null,
      "grid_area": null,
      "grid_auto_columns": null,
      "grid_auto_flow": null,
      "grid_auto_rows": null,
      "grid_column": null,
      "grid_gap": null,
      "grid_row": null,
      "grid_template_areas": null,
      "grid_template_columns": null,
      "grid_template_rows": null,
      "height": null,
      "justify_content": null,
      "justify_items": null,
      "left": null,
      "margin": null,
      "max_height": null,
      "max_width": null,
      "min_height": null,
      "min_width": null,
      "object_fit": null,
      "object_position": null,
      "order": null,
      "overflow": null,
      "overflow_x": null,
      "overflow_y": null,
      "padding": null,
      "right": null,
      "top": null,
      "visibility": null,
      "width": null
     }
    },
    "4fc3a014f58841229d813ef07ddd1253": {
     "model_module": "@jupyter-widgets/controls",
     "model_name": "HTMLModel",
     "state": {
      "_dom_classes": [],
      "_model_module": "@jupyter-widgets/controls",
      "_model_module_version": "1.5.0",
      "_model_name": "HTMLModel",
      "_view_count": null,
      "_view_module": "@jupyter-widgets/controls",
      "_view_module_version": "1.5.0",
      "_view_name": "HTMLView",
      "description": "",
      "description_tooltip": null,
      "layout": "IPY_MODEL_2d8929bb53f54f94874462c407a3ca87",
      "placeholder": "​",
      "style": "IPY_MODEL_40dc60d69c914055a52f3cf3b5fb8ff8",
      "value": " 2047/2048 [05:16&lt;00:00,  5.09it/s]"
     }
    },
    "5338697f0266450f9b355101cdffccf9": {
     "model_module": "@jupyter-widgets/controls",
     "model_name": "HBoxModel",
     "state": {
      "_dom_classes": [],
      "_model_module": "@jupyter-widgets/controls",
      "_model_module_version": "1.5.0",
      "_model_name": "HBoxModel",
      "_view_count": null,
      "_view_module": "@jupyter-widgets/controls",
      "_view_module_version": "1.5.0",
      "_view_name": "HBoxView",
      "box_style": "",
      "children": [
       "IPY_MODEL_3d0b1a2ef71a453ba607d2a923403f28",
       "IPY_MODEL_dfc660160b65448dbf816c388e7befcc"
      ],
      "layout": "IPY_MODEL_487e575445364a879652894491ef834b"
     }
    },
    "748f65b04cae4e69a45bcf369b22fb6e": {
     "model_module": "@jupyter-widgets/controls",
     "model_name": "HBoxModel",
     "state": {
      "_dom_classes": [],
      "_model_module": "@jupyter-widgets/controls",
      "_model_module_version": "1.5.0",
      "_model_name": "HBoxModel",
      "_view_count": null,
      "_view_module": "@jupyter-widgets/controls",
      "_view_module_version": "1.5.0",
      "_view_name": "HBoxView",
      "box_style": "",
      "children": [
       "IPY_MODEL_17437aa42f2c45d59fbd8e0724699c00",
       "IPY_MODEL_1717c2b1f73f4ada94e7e7bb5da69101"
      ],
      "layout": "IPY_MODEL_16f32f0289964865b5382c83e52573e4"
     }
    },
    "77d9bb7e147d42dd862e690bea43925b": {
     "model_module": "@jupyter-widgets/controls",
     "model_name": "FloatProgressModel",
     "state": {
      "_dom_classes": [],
      "_model_module": "@jupyter-widgets/controls",
      "_model_module_version": "1.5.0",
      "_model_name": "FloatProgressModel",
      "_view_count": null,
      "_view_module": "@jupyter-widgets/controls",
      "_view_module_version": "1.5.0",
      "_view_name": "ProgressView",
      "bar_style": "danger",
      "description": "100%",
      "description_tooltip": null,
      "layout": "IPY_MODEL_7dbdeae9dcc44e4d87b82f19fa658ad0",
      "max": 2048,
      "min": 0,
      "orientation": "horizontal",
      "style": "IPY_MODEL_a540c9f1c5f74448a60af72b46458143",
      "value": 2047
     }
    },
    "7dbdeae9dcc44e4d87b82f19fa658ad0": {
     "model_module": "@jupyter-widgets/base",
     "model_name": "LayoutModel",
     "state": {
      "_model_module": "@jupyter-widgets/base",
      "_model_module_version": "1.2.0",
      "_model_name": "LayoutModel",
      "_view_count": null,
      "_view_module": "@jupyter-widgets/base",
      "_view_module_version": "1.2.0",
      "_view_name": "LayoutView",
      "align_content": null,
      "align_items": null,
      "align_self": null,
      "border": null,
      "bottom": null,
      "display": null,
      "flex": null,
      "flex_flow": null,
      "grid_area": null,
      "grid_auto_columns": null,
      "grid_auto_flow": null,
      "grid_auto_rows": null,
      "grid_column": null,
      "grid_gap": null,
      "grid_row": null,
      "grid_template_areas": null,
      "grid_template_columns": null,
      "grid_template_rows": null,
      "height": null,
      "justify_content": null,
      "justify_items": null,
      "left": null,
      "margin": null,
      "max_height": null,
      "max_width": null,
      "min_height": null,
      "min_width": null,
      "object_fit": null,
      "object_position": null,
      "order": null,
      "overflow": null,
      "overflow_x": null,
      "overflow_y": null,
      "padding": null,
      "right": null,
      "top": null,
      "visibility": null,
      "width": null
     }
    },
    "a540c9f1c5f74448a60af72b46458143": {
     "model_module": "@jupyter-widgets/controls",
     "model_name": "ProgressStyleModel",
     "state": {
      "_model_module": "@jupyter-widgets/controls",
      "_model_module_version": "1.5.0",
      "_model_name": "ProgressStyleModel",
      "_view_count": null,
      "_view_module": "@jupyter-widgets/base",
      "_view_module_version": "1.2.0",
      "_view_name": "StyleView",
      "bar_color": null,
      "description_width": "initial"
     }
    },
    "c5f41aac7d034280aabc1c343c11d1ae": {
     "model_module": "@jupyter-widgets/controls",
     "model_name": "DescriptionStyleModel",
     "state": {
      "_model_module": "@jupyter-widgets/controls",
      "_model_module_version": "1.5.0",
      "_model_name": "DescriptionStyleModel",
      "_view_count": null,
      "_view_module": "@jupyter-widgets/base",
      "_view_module_version": "1.2.0",
      "_view_name": "StyleView",
      "description_width": ""
     }
    },
    "dfc660160b65448dbf816c388e7befcc": {
     "model_module": "@jupyter-widgets/controls",
     "model_name": "HTMLModel",
     "state": {
      "_dom_classes": [],
      "_model_module": "@jupyter-widgets/controls",
      "_model_module_version": "1.5.0",
      "_model_name": "HTMLModel",
      "_view_count": null,
      "_view_module": "@jupyter-widgets/controls",
      "_view_module_version": "1.5.0",
      "_view_name": "HTMLView",
      "description": "",
      "description_tooltip": null,
      "layout": "IPY_MODEL_1812fb9863ca4462a08a42fd0afb1022",
      "placeholder": "​",
      "style": "IPY_MODEL_2efdcd5079d543d4bc71a6c51c1aafca",
      "value": " 256/256 [00:46&lt;00:00,  6.83it/s]"
     }
    },
    "e9ca7135695c471f8395af07066c2a97": {
     "model_module": "@jupyter-widgets/base",
     "model_name": "LayoutModel",
     "state": {
      "_model_module": "@jupyter-widgets/base",
      "_model_module_version": "1.2.0",
      "_model_name": "LayoutModel",
      "_view_count": null,
      "_view_module": "@jupyter-widgets/base",
      "_view_module_version": "1.2.0",
      "_view_name": "LayoutView",
      "align_content": null,
      "align_items": null,
      "align_self": null,
      "border": null,
      "bottom": null,
      "display": null,
      "flex": null,
      "flex_flow": null,
      "grid_area": null,
      "grid_auto_columns": null,
      "grid_auto_flow": null,
      "grid_auto_rows": null,
      "grid_column": null,
      "grid_gap": null,
      "grid_row": null,
      "grid_template_areas": null,
      "grid_template_columns": null,
      "grid_template_rows": null,
      "height": null,
      "justify_content": null,
      "justify_items": null,
      "left": null,
      "margin": null,
      "max_height": null,
      "max_width": null,
      "min_height": null,
      "min_width": null,
      "object_fit": null,
      "object_position": null,
      "order": null,
      "overflow": null,
      "overflow_x": null,
      "overflow_y": null,
      "padding": null,
      "right": null,
      "top": null,
      "visibility": null,
      "width": null
     }
    },
    "ee39da2c38dd4f85be6a0a5c775c74c0": {
     "model_module": "@jupyter-widgets/controls",
     "model_name": "ProgressStyleModel",
     "state": {
      "_model_module": "@jupyter-widgets/controls",
      "_model_module_version": "1.5.0",
      "_model_name": "ProgressStyleModel",
      "_view_count": null,
      "_view_module": "@jupyter-widgets/base",
      "_view_module_version": "1.2.0",
      "_view_name": "StyleView",
      "bar_color": null,
      "description_width": "initial"
     }
    }
   }
  }
 },
 "nbformat": 4,
 "nbformat_minor": 4
}
